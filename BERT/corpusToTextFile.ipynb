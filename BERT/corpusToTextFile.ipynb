{
 "cells": [
  {
   "cell_type": "code",
   "execution_count": 1,
   "id": "4b729ecd",
   "metadata": {},
   "outputs": [],
   "source": [
    "import io\n",
    "import pandas as pd"
   ]
  },
  {
   "cell_type": "code",
   "execution_count": 2,
   "id": "b735618f",
   "metadata": {},
   "outputs": [
    {
     "name": "stdout",
     "output_type": "stream",
     "text": [
      "174644\n"
     ]
    },
    {
     "data": {
      "text/plain": [
       "174644"
      ]
     },
     "execution_count": 2,
     "metadata": {},
     "output_type": "execute_result"
    }
   ],
   "source": [
    "df = pd.read_csv('./../Naive_Bayes/tweets/p_n_n_dataset.csv')\n",
    "print(df.shape[0])\n",
    "len(df['tweet'])"
   ]
  },
  {
   "cell_type": "code",
   "execution_count": 128,
   "id": "4b1f13e4",
   "metadata": {},
   "outputs": [
    {
     "name": "stdout",
     "output_type": "stream",
     "text": [
      "174644\n",
      "I see why they call it the windy city omg\n"
     ]
    }
   ],
   "source": [
    "tweets = []\n",
    "for index, row in df.iterrows():\n",
    "    tweets.append(row['tweet'])\n",
    "    \n",
    "print(len(tweets))\n",
    "print(tweets[len(tweets)-1])"
   ]
  },
  {
   "cell_type": "code",
   "execution_count": 129,
   "id": "537620b5",
   "metadata": {},
   "outputs": [
    {
     "data": {
      "text/plain": [
       "174644"
      ]
     },
     "execution_count": 129,
     "metadata": {},
     "output_type": "execute_result"
    }
   ],
   "source": [
    "count = 0\n",
    "with io.open('./../Naive_Bayes/tweets/p_n_n_tweets.txt','w',encoding='utf8') as f:\n",
    "    for tweet in tweets:\n",
    "        f.write(tweet.replace('\\n',' ').replace('\\r',' ')+\"\\n\")\n",
    "        count = count+1\n",
    "        \n",
    "count"
   ]
  },
  {
   "cell_type": "code",
   "execution_count": 130,
   "id": "562b8f19",
   "metadata": {},
   "outputs": [],
   "source": [
    "# readTweets = []\n",
    "# for filelineno, line in enumerate(open('./../Naive_Bayes/tweets/p_n_n_tweets.txt', encoding=\"utf-8\")):\n",
    "#         readTweets.append(line)\n",
    "        \n",
    "# print(len(readTweets))\n",
    "# print(readTweets[len(readTweets)-1])"
   ]
  },
  {
   "cell_type": "code",
   "execution_count": 131,
   "id": "8e6ff7ea",
   "metadata": {},
   "outputs": [
    {
     "name": "stdout",
     "output_type": "stream",
     "text": [
      "174644\n"
     ]
    }
   ],
   "source": [
    "readTweets = []\n",
    "with open('./../Naive_Bayes/tweets/p_n_n_tweets.txt', 'rt', encoding='utf-8') as fileObject:\n",
    "    for oneLine in fileObject:\n",
    "        readTweets.append(oneLine)\n",
    "print(len(readTweets))"
   ]
  },
  {
   "cell_type": "code",
   "execution_count": 132,
   "id": "a2ac1cba",
   "metadata": {},
   "outputs": [
    {
     "name": "stdout",
     "output_type": "stream",
     "text": [
      "I see why they call it the windy city omg\n",
      "I see why they call it the windy city omg\n",
      "\n",
      "@citizenjeff @lauferlaw @donwinslow Haven’t had one in a while. But besides that, I find his idea to not move out in 5 weeks abominable\n",
      "@citizenjeff @lauferlaw @donwinslow Haven’t had one in a while. But besides that, I find his idea to not move out in 5 weeks abominable\n",
      "\n",
      "False\n"
     ]
    }
   ],
   "source": [
    "print(tweets[174643])\n",
    "print(readTweets[174643])\n",
    "\n",
    "print(tweets[0])\n",
    "print(readTweets[0])\n",
    "\n",
    "print(tweets[0]==readTweets[0])"
   ]
  },
  {
   "cell_type": "code",
   "execution_count": 133,
   "id": "59a343d6",
   "metadata": {},
   "outputs": [],
   "source": [
    "# df['tweet_again']=pd.Series(dtype='float64')"
   ]
  },
  {
   "cell_type": "code",
   "execution_count": 134,
   "id": "284ce365",
   "metadata": {},
   "outputs": [],
   "source": [
    "# index = 0\n",
    "\n",
    "# for t in readTweets:\n",
    "#     df['tweet_again'][index] = t\n",
    "#     index = index+1"
   ]
  },
  {
   "cell_type": "code",
   "execution_count": 135,
   "id": "900dca6d",
   "metadata": {},
   "outputs": [],
   "source": [
    "# df['tweet_again'][0]=tweets[0]"
   ]
  },
  {
   "cell_type": "code",
   "execution_count": 136,
   "id": "777f7ca3",
   "metadata": {},
   "outputs": [
    {
     "data": {
      "text/plain": [
       "id                                      1110000000000000000.0\n",
       "date                                                3/20/2019\n",
       "time                                                 13:53:30\n",
       "user_id                                           424388535.0\n",
       "username                                          chenoatarin\n",
       "name                                         Cheno She Didn’t\n",
       "tweet       Learning that I don’t want to be an escapist a...\n",
       "language                                                   en\n",
       "label                                                negative\n",
       "Name: 2000, dtype: object"
      ]
     },
     "execution_count": 136,
     "metadata": {},
     "output_type": "execute_result"
    }
   ],
   "source": [
    "df.iloc[2000]"
   ]
  },
  {
   "cell_type": "code",
   "execution_count": 137,
   "id": "ae23a49b",
   "metadata": {},
   "outputs": [
    {
     "name": "stdout",
     "output_type": "stream",
     "text": [
      "174644\n"
     ]
    }
   ],
   "source": [
    "with open('./../Naive_Bayes/tweets/p_n_n_tweets.txt', 'rt', encoding='utf-8') as fileObject:\n",
    "    lineList = fileObject.readlines()\n",
    "print(len(lineList))"
   ]
  },
  {
   "cell_type": "markdown",
   "id": "fc91b549",
   "metadata": {},
   "source": [
    "# Text to csv"
   ]
  },
  {
   "cell_type": "code",
   "execution_count": 3,
   "id": "e37d4b13",
   "metadata": {},
   "outputs": [
    {
     "data": {
      "text/plain": [
       "174644"
      ]
     },
     "execution_count": 3,
     "metadata": {},
     "output_type": "execute_result"
    }
   ],
   "source": [
    "file = open('./../Naive_Bayes/tweets/p_n_n_tweets.lv.txt','r',encoding='utf8')\n",
    "Lines = file.readlines()\n",
    " \n",
    "count = 0\n",
    "# Strips the newline character\n",
    "for line in Lines:\n",
    "    count += 1\n",
    "    \n",
    "count"
   ]
  },
  {
   "cell_type": "code",
   "execution_count": 4,
   "id": "fcc70204",
   "metadata": {},
   "outputs": [
    {
     "data": {
      "text/html": [
       "<div>\n",
       "<style scoped>\n",
       "    .dataframe tbody tr th:only-of-type {\n",
       "        vertical-align: middle;\n",
       "    }\n",
       "\n",
       "    .dataframe tbody tr th {\n",
       "        vertical-align: top;\n",
       "    }\n",
       "\n",
       "    .dataframe thead th {\n",
       "        text-align: right;\n",
       "    }\n",
       "</style>\n",
       "<table border=\"1\" class=\"dataframe\">\n",
       "  <thead>\n",
       "    <tr style=\"text-align: right;\">\n",
       "      <th></th>\n",
       "      <th>id</th>\n",
       "      <th>date</th>\n",
       "      <th>time</th>\n",
       "      <th>user_id</th>\n",
       "      <th>username</th>\n",
       "      <th>name</th>\n",
       "      <th>tweet</th>\n",
       "      <th>language</th>\n",
       "      <th>label</th>\n",
       "      <th>message_lv_tilde</th>\n",
       "    </tr>\n",
       "  </thead>\n",
       "  <tbody>\n",
       "    <tr>\n",
       "      <th>0</th>\n",
       "      <td>1.340000e+18</td>\n",
       "      <td>12/17/2020</td>\n",
       "      <td>10:56:06</td>\n",
       "      <td>2.760579e+09</td>\n",
       "      <td>thecoolan</td>\n",
       "      <td>Nishat K</td>\n",
       "      <td>@citizenjeff @lauferlaw @donwinslow Haven’t ha...</td>\n",
       "      <td>en</td>\n",
       "      <td>negative</td>\n",
       "      <td>NaN</td>\n",
       "    </tr>\n",
       "    <tr>\n",
       "      <th>1</th>\n",
       "      <td>1.330000e+18</td>\n",
       "      <td>11/30/2020</td>\n",
       "      <td>6:44:40</td>\n",
       "      <td>1.020000e+18</td>\n",
       "      <td>rmillennielle</td>\n",
       "      <td>#Resistance Millennielle</td>\n",
       "      <td>@tkdylan People have agency. Lin Wood is a her...</td>\n",
       "      <td>en</td>\n",
       "      <td>negative</td>\n",
       "      <td>NaN</td>\n",
       "    </tr>\n",
       "    <tr>\n",
       "      <th>2</th>\n",
       "      <td>1.330000e+18</td>\n",
       "      <td>11/8/2020</td>\n",
       "      <td>11:30:16</td>\n",
       "      <td>3.605334e+08</td>\n",
       "      <td>frankpeteani</td>\n",
       "      <td>Frank Peteani</td>\n",
       "      <td>@PhoenixAEW I idea that WWE had him coming out...</td>\n",
       "      <td>en</td>\n",
       "      <td>negative</td>\n",
       "      <td>NaN</td>\n",
       "    </tr>\n",
       "    <tr>\n",
       "      <th>3</th>\n",
       "      <td>1.320000e+18</td>\n",
       "      <td>11/6/2020</td>\n",
       "      <td>5:06:59</td>\n",
       "      <td>9.727358e+07</td>\n",
       "      <td>clarknt67</td>\n",
       "      <td>🌹 Clark, a proud citizen of GoFundMe nation</td>\n",
       "      <td>Maxwell will probably pee in the house before ...</td>\n",
       "      <td>en</td>\n",
       "      <td>negative</td>\n",
       "      <td>NaN</td>\n",
       "    </tr>\n",
       "    <tr>\n",
       "      <th>4</th>\n",
       "      <td>1.320000e+18</td>\n",
       "      <td>11/4/2020</td>\n",
       "      <td>10:36:29</td>\n",
       "      <td>1.936187e+09</td>\n",
       "      <td>doxiemomdeb</td>\n",
       "      <td>Henry and Milo’s Hoomom</td>\n",
       "      <td>@msamson56 I’m amazed. HOW can people support ...</td>\n",
       "      <td>en</td>\n",
       "      <td>negative</td>\n",
       "      <td>NaN</td>\n",
       "    </tr>\n",
       "  </tbody>\n",
       "</table>\n",
       "</div>"
      ],
      "text/plain": [
       "             id        date      time       user_id       username  \\\n",
       "0  1.340000e+18  12/17/2020  10:56:06  2.760579e+09      thecoolan   \n",
       "1  1.330000e+18  11/30/2020   6:44:40  1.020000e+18  rmillennielle   \n",
       "2  1.330000e+18   11/8/2020  11:30:16  3.605334e+08   frankpeteani   \n",
       "3  1.320000e+18   11/6/2020   5:06:59  9.727358e+07      clarknt67   \n",
       "4  1.320000e+18   11/4/2020  10:36:29  1.936187e+09    doxiemomdeb   \n",
       "\n",
       "                                          name  \\\n",
       "0                                     Nishat K   \n",
       "1                     #Resistance Millennielle   \n",
       "2                                Frank Peteani   \n",
       "3  🌹 Clark, a proud citizen of GoFundMe nation   \n",
       "4                      Henry and Milo’s Hoomom   \n",
       "\n",
       "                                               tweet language     label  \\\n",
       "0  @citizenjeff @lauferlaw @donwinslow Haven’t ha...       en  negative   \n",
       "1  @tkdylan People have agency. Lin Wood is a her...       en  negative   \n",
       "2  @PhoenixAEW I idea that WWE had him coming out...       en  negative   \n",
       "3  Maxwell will probably pee in the house before ...       en  negative   \n",
       "4  @msamson56 I’m amazed. HOW can people support ...       en  negative   \n",
       "\n",
       "   message_lv_tilde  \n",
       "0               NaN  \n",
       "1               NaN  \n",
       "2               NaN  \n",
       "3               NaN  \n",
       "4               NaN  "
      ]
     },
     "execution_count": 4,
     "metadata": {},
     "output_type": "execute_result"
    }
   ],
   "source": [
    "df['message_lv_tilde']=pd.Series(dtype='float64')\n",
    "df.head()"
   ]
  },
  {
   "cell_type": "code",
   "execution_count": 5,
   "id": "091f4b06",
   "metadata": {},
   "outputs": [
    {
     "name": "stderr",
     "output_type": "stream",
     "text": [
      "C:\\Users\\aligo\\AppData\\Local\\Temp/ipykernel_2084/613635499.py:3: SettingWithCopyWarning: \n",
      "A value is trying to be set on a copy of a slice from a DataFrame\n",
      "\n",
      "See the caveats in the documentation: https://pandas.pydata.org/pandas-docs/stable/user_guide/indexing.html#returning-a-view-versus-a-copy\n",
      "  df['message_lv_tilde'][i] = line\n",
      "C:\\Users\\aligo\\Documents\\DEV\\twitter-lv-market\\venv38\\lib\\site-packages\\pandas\\core\\indexing.py:1732: SettingWithCopyWarning: \n",
      "A value is trying to be set on a copy of a slice from a DataFrame\n",
      "\n",
      "See the caveats in the documentation: https://pandas.pydata.org/pandas-docs/stable/user_guide/indexing.html#returning-a-view-versus-a-copy\n",
      "  self._setitem_single_block(indexer, value, name)\n"
     ]
    },
    {
     "data": {
      "text/html": [
       "<div>\n",
       "<style scoped>\n",
       "    .dataframe tbody tr th:only-of-type {\n",
       "        vertical-align: middle;\n",
       "    }\n",
       "\n",
       "    .dataframe tbody tr th {\n",
       "        vertical-align: top;\n",
       "    }\n",
       "\n",
       "    .dataframe thead th {\n",
       "        text-align: right;\n",
       "    }\n",
       "</style>\n",
       "<table border=\"1\" class=\"dataframe\">\n",
       "  <thead>\n",
       "    <tr style=\"text-align: right;\">\n",
       "      <th></th>\n",
       "      <th>id</th>\n",
       "      <th>date</th>\n",
       "      <th>time</th>\n",
       "      <th>user_id</th>\n",
       "      <th>username</th>\n",
       "      <th>name</th>\n",
       "      <th>tweet</th>\n",
       "      <th>language</th>\n",
       "      <th>label</th>\n",
       "      <th>message_lv_tilde</th>\n",
       "    </tr>\n",
       "  </thead>\n",
       "  <tbody>\n",
       "    <tr>\n",
       "      <th>0</th>\n",
       "      <td>1.340000e+18</td>\n",
       "      <td>12/17/2020</td>\n",
       "      <td>10:56:06</td>\n",
       "      <td>2.760579e+09</td>\n",
       "      <td>thecoolan</td>\n",
       "      <td>Nishat K</td>\n",
       "      <td>@citizenjeff @lauferlaw @donwinslow Haven’t ha...</td>\n",
       "      <td>en</td>\n",
       "      <td>negative</td>\n",
       "      <td>@pilsonenjeff @lauferlaw @donwinslows pa reize...</td>\n",
       "    </tr>\n",
       "    <tr>\n",
       "      <th>1</th>\n",
       "      <td>1.330000e+18</td>\n",
       "      <td>11/30/2020</td>\n",
       "      <td>6:44:40</td>\n",
       "      <td>1.020000e+18</td>\n",
       "      <td>rmillennielle</td>\n",
       "      <td>#Resistance Millennielle</td>\n",
       "      <td>@tkdylan People have agency. Lin Wood is a her...</td>\n",
       "      <td>en</td>\n",
       "      <td>negative</td>\n",
       "      <td>@tkdylan cilvēkiem ir aģentūra. Lins Vuds ir v...</td>\n",
       "    </tr>\n",
       "    <tr>\n",
       "      <th>2</th>\n",
       "      <td>1.330000e+18</td>\n",
       "      <td>11/8/2020</td>\n",
       "      <td>11:30:16</td>\n",
       "      <td>3.605334e+08</td>\n",
       "      <td>frankpeteani</td>\n",
       "      <td>Frank Peteani</td>\n",
       "      <td>@PhoenixAEW I idea that WWE had him coming out...</td>\n",
       "      <td>en</td>\n",
       "      <td>negative</td>\n",
       "      <td>@foenixaew Es nojaušu, ka WWE lika viņam iznāk...</td>\n",
       "    </tr>\n",
       "    <tr>\n",
       "      <th>3</th>\n",
       "      <td>1.320000e+18</td>\n",
       "      <td>11/6/2020</td>\n",
       "      <td>5:06:59</td>\n",
       "      <td>9.727358e+07</td>\n",
       "      <td>clarknt67</td>\n",
       "      <td>🌹 Clark, a proud citizen of GoFundMe nation</td>\n",
       "      <td>Maxwell will probably pee in the house before ...</td>\n",
       "      <td>en</td>\n",
       "      <td>negative</td>\n",
       "      <td>Maksvels droši vien pačurās mājā pirms mūsu nā...</td>\n",
       "    </tr>\n",
       "    <tr>\n",
       "      <th>4</th>\n",
       "      <td>1.320000e+18</td>\n",
       "      <td>11/4/2020</td>\n",
       "      <td>10:36:29</td>\n",
       "      <td>1.936187e+09</td>\n",
       "      <td>doxiemomdeb</td>\n",
       "      <td>Henry and Milo’s Hoomom</td>\n",
       "      <td>@msamson56 I’m amazed. HOW can people support ...</td>\n",
       "      <td>en</td>\n",
       "      <td>negative</td>\n",
       "      <td>@msamson56 Esmu pārsteigts. KĀ cilvēki var atb...</td>\n",
       "    </tr>\n",
       "  </tbody>\n",
       "</table>\n",
       "</div>"
      ],
      "text/plain": [
       "             id        date      time       user_id       username  \\\n",
       "0  1.340000e+18  12/17/2020  10:56:06  2.760579e+09      thecoolan   \n",
       "1  1.330000e+18  11/30/2020   6:44:40  1.020000e+18  rmillennielle   \n",
       "2  1.330000e+18   11/8/2020  11:30:16  3.605334e+08   frankpeteani   \n",
       "3  1.320000e+18   11/6/2020   5:06:59  9.727358e+07      clarknt67   \n",
       "4  1.320000e+18   11/4/2020  10:36:29  1.936187e+09    doxiemomdeb   \n",
       "\n",
       "                                          name  \\\n",
       "0                                     Nishat K   \n",
       "1                     #Resistance Millennielle   \n",
       "2                                Frank Peteani   \n",
       "3  🌹 Clark, a proud citizen of GoFundMe nation   \n",
       "4                      Henry and Milo’s Hoomom   \n",
       "\n",
       "                                               tweet language     label  \\\n",
       "0  @citizenjeff @lauferlaw @donwinslow Haven’t ha...       en  negative   \n",
       "1  @tkdylan People have agency. Lin Wood is a her...       en  negative   \n",
       "2  @PhoenixAEW I idea that WWE had him coming out...       en  negative   \n",
       "3  Maxwell will probably pee in the house before ...       en  negative   \n",
       "4  @msamson56 I’m amazed. HOW can people support ...       en  negative   \n",
       "\n",
       "                                    message_lv_tilde  \n",
       "0  @pilsonenjeff @lauferlaw @donwinslows pa reize...  \n",
       "1  @tkdylan cilvēkiem ir aģentūra. Lins Vuds ir v...  \n",
       "2  @foenixaew Es nojaušu, ka WWE lika viņam iznāk...  \n",
       "3  Maksvels droši vien pačurās mājā pirms mūsu nā...  \n",
       "4  @msamson56 Esmu pārsteigts. KĀ cilvēki var atb...  "
      ]
     },
     "execution_count": 5,
     "metadata": {},
     "output_type": "execute_result"
    }
   ],
   "source": [
    "i = 0\n",
    "for line in Lines:\n",
    "    df['message_lv_tilde'][i] = line\n",
    "    i += 1\n",
    "    \n",
    "df.head()"
   ]
  },
  {
   "cell_type": "code",
   "execution_count": 10,
   "id": "1203dbfb",
   "metadata": {},
   "outputs": [
    {
     "data": {
      "text/plain": [
       "'ES redzu, kāpēc viņi to sauc par vējaino pilsētu OMG\\n'"
      ]
     },
     "execution_count": 10,
     "metadata": {},
     "output_type": "execute_result"
    }
   ],
   "source": [
    "df.iloc[174643]['message_lv_tilde']"
   ]
  },
  {
   "cell_type": "code",
   "execution_count": 11,
   "id": "1930437d",
   "metadata": {},
   "outputs": [],
   "source": [
    "df.to_csv('./../Naive_Bayes/tweets/df_tilde_lv.csv', index=False)"
   ]
  },
  {
   "cell_type": "code",
   "execution_count": null,
   "id": "b3448991",
   "metadata": {},
   "outputs": [],
   "source": []
  }
 ],
 "metadata": {
  "kernelspec": {
   "display_name": "venv38",
   "language": "python",
   "name": "venv38"
  },
  "language_info": {
   "codemirror_mode": {
    "name": "ipython",
    "version": 3
   },
   "file_extension": ".py",
   "mimetype": "text/x-python",
   "name": "python",
   "nbconvert_exporter": "python",
   "pygments_lexer": "ipython3",
   "version": "3.8.10"
  }
 },
 "nbformat": 4,
 "nbformat_minor": 5
}
