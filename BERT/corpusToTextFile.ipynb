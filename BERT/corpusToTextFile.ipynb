{
 "cells": [
  {
   "cell_type": "code",
   "execution_count": 126,
   "id": "4b729ecd",
   "metadata": {},
   "outputs": [],
   "source": [
    "import io\n",
    "import pandas as pd"
   ]
  },
  {
   "cell_type": "code",
   "execution_count": 127,
   "id": "b735618f",
   "metadata": {},
   "outputs": [
    {
     "name": "stdout",
     "output_type": "stream",
     "text": [
      "174644\n"
     ]
    },
    {
     "data": {
      "text/plain": [
       "174644"
      ]
     },
     "execution_count": 127,
     "metadata": {},
     "output_type": "execute_result"
    }
   ],
   "source": [
    "df = pd.read_csv('./../Naive_Bayes/tweets/p_n_n_dataset.csv')\n",
    "print(df.shape[0])\n",
    "len(df['tweet'])"
   ]
  },
  {
   "cell_type": "code",
   "execution_count": 128,
   "id": "4b1f13e4",
   "metadata": {},
   "outputs": [
    {
     "name": "stdout",
     "output_type": "stream",
     "text": [
      "174644\n",
      "I see why they call it the windy city omg\n"
     ]
    }
   ],
   "source": [
    "tweets = []\n",
    "for index, row in df.iterrows():\n",
    "    tweets.append(row['tweet'])\n",
    "    \n",
    "print(len(tweets))\n",
    "print(tweets[len(tweets)-1])"
   ]
  },
  {
   "cell_type": "code",
   "execution_count": 129,
   "id": "537620b5",
   "metadata": {},
   "outputs": [
    {
     "data": {
      "text/plain": [
       "174644"
      ]
     },
     "execution_count": 129,
     "metadata": {},
     "output_type": "execute_result"
    }
   ],
   "source": [
    "count = 0\n",
    "with io.open('./../Naive_Bayes/tweets/p_n_n_tweets.txt','w',encoding='utf8') as f:\n",
    "    for tweet in tweets:\n",
    "        f.write(tweet.replace('\\n',' ').replace('\\r',' ')+\"\\n\")\n",
    "        count = count+1\n",
    "        \n",
    "count"
   ]
  },
  {
   "cell_type": "code",
   "execution_count": 130,
   "id": "562b8f19",
   "metadata": {},
   "outputs": [],
   "source": [
    "# readTweets = []\n",
    "# for filelineno, line in enumerate(open('./../Naive_Bayes/tweets/p_n_n_tweets.txt', encoding=\"utf-8\")):\n",
    "#         readTweets.append(line)\n",
    "        \n",
    "# print(len(readTweets))\n",
    "# print(readTweets[len(readTweets)-1])"
   ]
  },
  {
   "cell_type": "code",
   "execution_count": 131,
   "id": "8e6ff7ea",
   "metadata": {},
   "outputs": [
    {
     "name": "stdout",
     "output_type": "stream",
     "text": [
      "174644\n"
     ]
    }
   ],
   "source": [
    "readTweets = []\n",
    "with open('./../Naive_Bayes/tweets/p_n_n_tweets.txt', 'rt', encoding='utf-8') as fileObject:\n",
    "    for oneLine in fileObject:\n",
    "        readTweets.append(oneLine)\n",
    "print(len(readTweets))"
   ]
  },
  {
   "cell_type": "code",
   "execution_count": 132,
   "id": "a2ac1cba",
   "metadata": {},
   "outputs": [
    {
     "name": "stdout",
     "output_type": "stream",
     "text": [
      "I see why they call it the windy city omg\n",
      "I see why they call it the windy city omg\n",
      "\n",
      "@citizenjeff @lauferlaw @donwinslow Haven’t had one in a while. But besides that, I find his idea to not move out in 5 weeks abominable\n",
      "@citizenjeff @lauferlaw @donwinslow Haven’t had one in a while. But besides that, I find his idea to not move out in 5 weeks abominable\n",
      "\n",
      "False\n"
     ]
    }
   ],
   "source": [
    "print(tweets[174643])\n",
    "print(readTweets[174643])\n",
    "\n",
    "print(tweets[0])\n",
    "print(readTweets[0])\n",
    "\n",
    "print(tweets[0]==readTweets[0])"
   ]
  },
  {
   "cell_type": "code",
   "execution_count": 133,
   "id": "59a343d6",
   "metadata": {},
   "outputs": [],
   "source": [
    "# df['tweet_again']=pd.Series(dtype='float64')"
   ]
  },
  {
   "cell_type": "code",
   "execution_count": 134,
   "id": "284ce365",
   "metadata": {},
   "outputs": [],
   "source": [
    "# index = 0\n",
    "\n",
    "# for t in readTweets:\n",
    "#     df['tweet_again'][index] = t\n",
    "#     index = index+1"
   ]
  },
  {
   "cell_type": "code",
   "execution_count": 135,
   "id": "900dca6d",
   "metadata": {},
   "outputs": [],
   "source": [
    "# df['tweet_again'][0]=tweets[0]"
   ]
  },
  {
   "cell_type": "code",
   "execution_count": 136,
   "id": "777f7ca3",
   "metadata": {},
   "outputs": [
    {
     "data": {
      "text/plain": [
       "id                                      1110000000000000000.0\n",
       "date                                                3/20/2019\n",
       "time                                                 13:53:30\n",
       "user_id                                           424388535.0\n",
       "username                                          chenoatarin\n",
       "name                                         Cheno She Didn’t\n",
       "tweet       Learning that I don’t want to be an escapist a...\n",
       "language                                                   en\n",
       "label                                                negative\n",
       "Name: 2000, dtype: object"
      ]
     },
     "execution_count": 136,
     "metadata": {},
     "output_type": "execute_result"
    }
   ],
   "source": [
    "df.iloc[2000]"
   ]
  },
  {
   "cell_type": "code",
   "execution_count": 137,
   "id": "ae23a49b",
   "metadata": {},
   "outputs": [
    {
     "name": "stdout",
     "output_type": "stream",
     "text": [
      "174644\n"
     ]
    }
   ],
   "source": [
    "with open('./../Naive_Bayes/tweets/p_n_n_tweets.txt', 'rt', encoding='utf-8') as fileObject:\n",
    "    lineList = fileObject.readlines()\n",
    "print(len(lineList))"
   ]
  },
  {
   "cell_type": "code",
   "execution_count": null,
   "id": "45de2e46",
   "metadata": {},
   "outputs": [],
   "source": []
  }
 ],
 "metadata": {
  "kernelspec": {
   "display_name": "venv38",
   "language": "python",
   "name": "venv38"
  },
  "language_info": {
   "codemirror_mode": {
    "name": "ipython",
    "version": 3
   },
   "file_extension": ".py",
   "mimetype": "text/x-python",
   "name": "python",
   "nbconvert_exporter": "python",
   "pygments_lexer": "ipython3",
   "version": "3.8.10"
  }
 },
 "nbformat": 4,
 "nbformat_minor": 5
}
