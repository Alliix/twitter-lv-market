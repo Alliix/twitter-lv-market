{
 "cells": [
  {
   "cell_type": "code",
   "execution_count": 1,
   "id": "18967f8f",
   "metadata": {},
   "outputs": [
    {
     "name": "stderr",
     "output_type": "stream",
     "text": [
      "[nltk_data] Downloading package punkt to\n",
      "[nltk_data]     C:\\Users\\aligo\\AppData\\Roaming\\nltk_data...\n",
      "[nltk_data]   Package punkt is already up-to-date!\n",
      "[nltk_data] Downloading package wordnet to\n",
      "[nltk_data]     C:\\Users\\aligo\\AppData\\Roaming\\nltk_data...\n",
      "[nltk_data]   Package wordnet is already up-to-date!\n"
     ]
    }
   ],
   "source": [
    "import pickle\n",
    "import pandas as pd\n",
    "import re\n",
    "import nltk\n",
    "from nltk.corpus import stopwords\n",
    "import numpy as np\n",
    "\n",
    "nltk.download('punkt')\n",
    "nltk.download('wordnet')\n",
    "from nltk.tokenize import word_tokenize\n",
    "\n",
    "import json\n",
    "import csv"
   ]
  },
  {
   "cell_type": "code",
   "execution_count": 2,
   "id": "a796d226",
   "metadata": {},
   "outputs": [],
   "source": [
    "brands = [\n",
    "  \"latvenergo\",\n",
    "  \"rimi\",\n",
    "  \"maxima\",\n",
    "  \"swedbank\",\n",
    "  \"lmt\",\n",
    "  \"tet\",\n",
    "  \"lg\",\n",
    "  \"tele2\",\n",
    "  \"airbaltic\",\n",
    "  \"olympic\",\n",
    "  \"seb\",\n",
    "  \"grindeks\",\n",
    "  \"citadele\",\n",
    "  \"bite\",\n",
    "  \"drogas\",\n",
    "  \"depo\",\n",
    "  \"circlek\",\n",
    "  \"lb\",\n",
    "  \"optibet\",\n",
    "  \"evolution\",\n",
    "];"
   ]
  },
  {
   "cell_type": "code",
   "execution_count": 3,
   "id": "97d758c8",
   "metadata": {},
   "outputs": [
    {
     "data": {
      "text/html": [
       "<div>\n",
       "<style scoped>\n",
       "    .dataframe tbody tr th:only-of-type {\n",
       "        vertical-align: middle;\n",
       "    }\n",
       "\n",
       "    .dataframe tbody tr th {\n",
       "        vertical-align: top;\n",
       "    }\n",
       "\n",
       "    .dataframe thead th {\n",
       "        text-align: right;\n",
       "    }\n",
       "</style>\n",
       "<table border=\"1\" class=\"dataframe\">\n",
       "  <thead>\n",
       "    <tr style=\"text-align: right;\">\n",
       "      <th></th>\n",
       "      <th>message</th>\n",
       "      <th>id</th>\n",
       "      <th>tweetId</th>\n",
       "      <th>createdAt</th>\n",
       "      <th>language</th>\n",
       "      <th>inReplyToStatusId</th>\n",
       "      <th>inReplyToUserId</th>\n",
       "      <th>inReplyToScreenName</th>\n",
       "      <th>userId</th>\n",
       "      <th>userName</th>\n",
       "      <th>...</th>\n",
       "      <th>placeType</th>\n",
       "      <th>retweetedId</th>\n",
       "      <th>monitoringObjectId1</th>\n",
       "      <th>monitoringObjectId2</th>\n",
       "      <th>queryId</th>\n",
       "      <th>sentiment</th>\n",
       "      <th>retweetCount</th>\n",
       "      <th>label</th>\n",
       "      <th>clean_message</th>\n",
       "      <th>message_no_stopwords</th>\n",
       "    </tr>\n",
       "  </thead>\n",
       "  <tbody>\n",
       "    <tr>\n",
       "      <th>0</th>\n",
       "      <td>Tiek vērtēti trīs potenciālie airBaltic invest...</td>\n",
       "      <td>1478404</td>\n",
       "      <td>925617390523732000</td>\n",
       "      <td>2017-11-01T08:55:57</td>\n",
       "      <td>lv</td>\n",
       "      <td>NaN</td>\n",
       "      <td>NaN</td>\n",
       "      <td>NaN</td>\n",
       "      <td>24855060</td>\n",
       "      <td>Dienas Bizness</td>\n",
       "      <td>...</td>\n",
       "      <td>NaN</td>\n",
       "      <td>NaN</td>\n",
       "      <td>389</td>\n",
       "      <td>389</td>\n",
       "      <td>NaN</td>\n",
       "      <td>0.0</td>\n",
       "      <td>0</td>\n",
       "      <td>0</td>\n",
       "      <td>tiek vērtēti trīs potenciālie airbaltic invest...</td>\n",
       "      <td>vērtēti trīs potenciālie airbaltic investori U...</td>\n",
       "    </tr>\n",
       "    <tr>\n",
       "      <th>1</th>\n",
       "      <td>Vakardien, vēlu vakarā, ar svinīgu pasākumu ti...</td>\n",
       "      <td>1486476</td>\n",
       "      <td>924948828318511100</td>\n",
       "      <td>2017-10-30T12:39:20</td>\n",
       "      <td>lv</td>\n",
       "      <td>NaN</td>\n",
       "      <td>NaN</td>\n",
       "      <td>NaN</td>\n",
       "      <td>44849531</td>\n",
       "      <td>RIGA I Airport</td>\n",
       "      <td>...</td>\n",
       "      <td>NaN</td>\n",
       "      <td>NaN</td>\n",
       "      <td>703</td>\n",
       "      <td>703</td>\n",
       "      <td>NaN</td>\n",
       "      <td>-1.0</td>\n",
       "      <td>0</td>\n",
       "      <td>0</td>\n",
       "      <td>vakardien vēlu vakarā ar svinīgu pasākumu tika...</td>\n",
       "      <td>vakardien vēlu vakarā svinīgu pasākumu atklāts...</td>\n",
       "    </tr>\n",
       "    <tr>\n",
       "      <th>2</th>\n",
       "      <td>Es ļoti ceru,ka potenciālie Air Baltic investo...</td>\n",
       "      <td>1488297</td>\n",
       "      <td>925794560420311000</td>\n",
       "      <td>2017-11-01T20:39:58</td>\n",
       "      <td>lv</td>\n",
       "      <td>NaN</td>\n",
       "      <td>NaN</td>\n",
       "      <td>NaN</td>\n",
       "      <td>218804015</td>\n",
       "      <td>Artis Pabriks</td>\n",
       "      <td>...</td>\n",
       "      <td>NaN</td>\n",
       "      <td>NaN</td>\n",
       "      <td>576</td>\n",
       "      <td>3</td>\n",
       "      <td>NaN</td>\n",
       "      <td>-1.0</td>\n",
       "      <td>9</td>\n",
       "      <td>2</td>\n",
       "      <td>es ļoti ceru ka potenciālie air baltic investo...</td>\n",
       "      <td>es ļoti ceru potenciālie air baltic investori ...</td>\n",
       "    </tr>\n",
       "    <tr>\n",
       "      <th>3</th>\n",
       "      <td>Ar kritisko domāšanu gan joprojām bēdīgi. Piln...</td>\n",
       "      <td>1489818</td>\n",
       "      <td>925045141018218500</td>\n",
       "      <td>2017-10-30T19:02:02</td>\n",
       "      <td>lv</td>\n",
       "      <td>NaN</td>\n",
       "      <td>NaN</td>\n",
       "      <td>NaN</td>\n",
       "      <td>21071644</td>\n",
       "      <td>Andris Rubīns</td>\n",
       "      <td>...</td>\n",
       "      <td>NaN</td>\n",
       "      <td>NaN</td>\n",
       "      <td>319</td>\n",
       "      <td>319</td>\n",
       "      <td>NaN</td>\n",
       "      <td>-1.0</td>\n",
       "      <td>3</td>\n",
       "      <td>2</td>\n",
       "      <td>ar kritisko domāšanu gan joprojām bēdīgi pilns...</td>\n",
       "      <td>kritisko domāšanu joprojām bēdīgi pilns facebo...</td>\n",
       "    </tr>\n",
       "    <tr>\n",
       "      <th>4</th>\n",
       "      <td>Latvijas lidsabiedrība airBaltic sadarbībā ar ...</td>\n",
       "      <td>1490250</td>\n",
       "      <td>925006964135952400</td>\n",
       "      <td>2017-10-30T16:30:20</td>\n",
       "      <td>lv</td>\n",
       "      <td>NaN</td>\n",
       "      <td>NaN</td>\n",
       "      <td>NaN</td>\n",
       "      <td>131562098</td>\n",
       "      <td>Latviesi.com</td>\n",
       "      <td>...</td>\n",
       "      <td>NaN</td>\n",
       "      <td>NaN</td>\n",
       "      <td>453</td>\n",
       "      <td>453</td>\n",
       "      <td>NaN</td>\n",
       "      <td>0.0</td>\n",
       "      <td>0</td>\n",
       "      <td>0</td>\n",
       "      <td>latvijas lidsabiedrība airbaltic sadarbībā ar ...</td>\n",
       "      <td>latvijas lidsabiedrība airbaltic sadarbībā apv...</td>\n",
       "    </tr>\n",
       "  </tbody>\n",
       "</table>\n",
       "<p>5 rows × 24 columns</p>\n",
       "</div>"
      ],
      "text/plain": [
       "                                             message       id  \\\n",
       "0  Tiek vērtēti trīs potenciālie airBaltic invest...  1478404   \n",
       "1  Vakardien, vēlu vakarā, ar svinīgu pasākumu ti...  1486476   \n",
       "2  Es ļoti ceru,ka potenciālie Air Baltic investo...  1488297   \n",
       "3  Ar kritisko domāšanu gan joprojām bēdīgi. Piln...  1489818   \n",
       "4  Latvijas lidsabiedrība airBaltic sadarbībā ar ...  1490250   \n",
       "\n",
       "              tweetId            createdAt language  inReplyToStatusId  \\\n",
       "0  925617390523732000  2017-11-01T08:55:57       lv                NaN   \n",
       "1  924948828318511100  2017-10-30T12:39:20       lv                NaN   \n",
       "2  925794560420311000  2017-11-01T20:39:58       lv                NaN   \n",
       "3  925045141018218500  2017-10-30T19:02:02       lv                NaN   \n",
       "4  925006964135952400  2017-10-30T16:30:20       lv                NaN   \n",
       "\n",
       "   inReplyToUserId  inReplyToScreenName     userId        userName  ...  \\\n",
       "0              NaN                  NaN   24855060  Dienas Bizness  ...   \n",
       "1              NaN                  NaN   44849531  RIGA I Airport  ...   \n",
       "2              NaN                  NaN  218804015   Artis Pabriks  ...   \n",
       "3              NaN                  NaN   21071644   Andris Rubīns  ...   \n",
       "4              NaN                  NaN  131562098    Latviesi.com  ...   \n",
       "\n",
       "  placeType  retweetedId monitoringObjectId1 monitoringObjectId2 queryId  \\\n",
       "0       NaN          NaN                 389                 389     NaN   \n",
       "1       NaN          NaN                 703                 703     NaN   \n",
       "2       NaN          NaN                 576                   3     NaN   \n",
       "3       NaN          NaN                 319                 319     NaN   \n",
       "4       NaN          NaN                 453                 453     NaN   \n",
       "\n",
       "   sentiment  retweetCount  label  \\\n",
       "0        0.0             0      0   \n",
       "1       -1.0             0      0   \n",
       "2       -1.0             9      2   \n",
       "3       -1.0             3      2   \n",
       "4        0.0             0      0   \n",
       "\n",
       "                                       clean_message  \\\n",
       "0  tiek vērtēti trīs potenciālie airbaltic invest...   \n",
       "1  vakardien vēlu vakarā ar svinīgu pasākumu tika...   \n",
       "2  es ļoti ceru ka potenciālie air baltic investo...   \n",
       "3  ar kritisko domāšanu gan joprojām bēdīgi pilns...   \n",
       "4  latvijas lidsabiedrība airbaltic sadarbībā ar ...   \n",
       "\n",
       "                                message_no_stopwords  \n",
       "0  vērtēti trīs potenciālie airbaltic investori U...  \n",
       "1  vakardien vēlu vakarā svinīgu pasākumu atklāts...  \n",
       "2  es ļoti ceru potenciālie air baltic investori ...  \n",
       "3  kritisko domāšanu joprojām bēdīgi pilns facebo...  \n",
       "4  latvijas lidsabiedrība airbaltic sadarbībā apv...  \n",
       "\n",
       "[5 rows x 24 columns]"
      ]
     },
     "execution_count": 3,
     "metadata": {},
     "output_type": "execute_result"
    }
   ],
   "source": [
    "allLabeledTweets = pd.read_csv('./../tweets/raw/allLabeledTweets.csv')\n",
    "allLabeledTweets['label'] = allLabeledTweets['label'].astype(int)\n",
    "allLabeledTweets['message'] = allLabeledTweets['message'].astype(str)\n",
    "allLabeledTweets.head()"
   ]
  },
  {
   "cell_type": "code",
   "execution_count": 4,
   "id": "8797b3a5",
   "metadata": {},
   "outputs": [
    {
     "data": {
      "text/plain": [
       "0    253\n",
       "2    136\n",
       "1     87\n",
       "Name: label, dtype: int64"
      ]
     },
     "execution_count": 4,
     "metadata": {},
     "output_type": "execute_result"
    }
   ],
   "source": [
    "allLabeledTweets[\"label\"].value_counts()"
   ]
  },
  {
   "cell_type": "code",
   "execution_count": null,
   "id": "06255a1d",
   "metadata": {},
   "outputs": [],
   "source": []
  },
  {
   "cell_type": "code",
   "execution_count": 17,
   "id": "4a41bac9",
   "metadata": {},
   "outputs": [],
   "source": [
    "# def getWordFrequencyWithoutBrands(processedTweetOutputFile):\n",
    "#     tweets = pd.read_csv(processedTweetOutputFile)\n",
    "\n",
    "#     allPostsConcat = ''\n",
    "#     for tweet in tweets.message_no_stopwords:\n",
    "#         if(type(tweet)==str):\n",
    "#             allPostsConcat+=' '+ tweet\n",
    "\n",
    "#     # create bag-of-words\n",
    "#     all_words = []\n",
    "\n",
    "#     words = word_tokenize(allPostsConcat)\n",
    "#     words = [word for word in words if not word in brands]\n",
    "#     for word in words:\n",
    "#         if word!='``':\n",
    "#             all_words.append(word)\n",
    "\n",
    "#     all_words = nltk.FreqDist(all_words)\n",
    "    \n",
    "#     return all_words"
   ]
  },
  {
   "cell_type": "code",
   "execution_count": 18,
   "id": "c176271e",
   "metadata": {},
   "outputs": [
    {
     "name": "stdout",
     "output_type": "stream",
     "text": [
      "Number of words: 3851\n",
      "Most common words: [('URL', 509), ('MENTION', 328), ('NMBR', 196), ('kas', 41), ('kopā', 40), ('latvijas', 39), ('vēl', 39), ('nav', 34), ('lieliskamūzika', 34), ('to', 28), ('lhf', 25), ('kopāspēks', 24), ('tiešraide', 24), ('spēli', 24), ('es', 22), ('tas', 22), ('šeit', 22), ('the', 20), ('lielfans', 19), ('tagad', 18), ('man', 17), ('šodien', 17), ('hokeja', 16), ('ļoti', 15), ('rīgas', 15), ('mūsu', 15), ('līgaskaties', 15), ('kad', 14), ('eiro', 14), ('gada', 13), ('izlase', 12), ('oik', 12), ('vairāk', 11), ('dienasbizness', 11), ('ielā', 11), ('tv', 11), ('kur', 10), ('darbinieku', 10), ('minūtēm', 10), ('latvija', 10), ('ko', 10), ('vietas', 9), ('varētu', 9), ('kāpēc', 9), ('kāds', 9), ('valsts', 9), ('lauvassirds', 9), ('paldies', 9), ('rīgā', 9), ('telpu', 9), ('darbu', 9), ('jaunajā', 9), ('nevar', 8), ('visu', 8), ('dblv', 8), ('bankas', 8), ('elektrības', 8), ('zālē', 8), ('neko', 7), ('kāda', 7), ('interesanti', 7), ('iespējams', 7), ('tiešām', 7), ('dienu', 7), ('mums', 7), ('šī', 7), ('cenas', 7), ('pērn', 7), ('mačā', 7), ('saņem', 7), ('5g', 7), ('jums', 7), ('latvijā', 7), ('elektrību', 7), ('savu', 7), ('šo', 7), ('diena', 7), ('klientiem', 6), ('labi', 6), ('reizi', 6), ('u20', 6), ('foto', 6), ('billy', 6), ('u2', 6), ('valdes', 6), ('ūdens', 6), ('miljonus', 6), ('enerģētikas', 6), ('in', 6), ('būtu', 6), ('prezidents', 6), ('lattelecom', 6), ('skaties', 6), ('ielas', 6), ('šovakar', 6), ('binde', 6), ('lielveikala', 6), ('virslīga', 6), ('futbolāskaties', 6), ('prizma', 6)]\n"
     ]
    }
   ],
   "source": [
    "# freqWordsWithoutBrands = getWordFrequencyWithoutBrands('./../tweets/raw/allLabeledTweets.csv')\n",
    "\n",
    "# # print the total number of words and the 100 most common words\n",
    "# print('Number of words: {}'.format(len(freqWordsWithoutBrands)))\n",
    "# print('Most common words: {}'.format(freqWordsWithoutBrands.most_common(100)))\n",
    "\n",
    "# word_features_without_brands = list(freqWordsWithoutBrands.keys())[:1500]"
   ]
  },
  {
   "cell_type": "code",
   "execution_count": 8,
   "id": "4211d06b",
   "metadata": {},
   "outputs": [
    {
     "name": "stdout",
     "output_type": "stream",
     "text": [
      "['vērtēti', 'trīs', 'potenciālie', 'investori', 'URL', 'vakardien', 'vēlu', 'vakarā', 'svinīgu', 'pasākumu', 'atklāts', 'MENTION', 'tiešais', 'lidojums', 'rīgu', 'abū', 'dabī', 'ļoti', 'ceru', 'air', 'baltic', 'nav', 'kādi', 'kārtējie', 'slīpie', 'blakus', 'pagasta', 'kuri', 'slēpjas', 'nezināmiem', 'skanīgiem', 'vārdiem', 'kritisko', 'domāšanu', 'joprojām', 'bēdīgi', 'pilns', 'facebook', 'priecīgiem', 'biļešu', 'kārotājiem', 'diezgan', 'acīmredzamā', 'viltus', 'konkursā', 'latvijas', 'lidsabiedrība', 'sadarbībā', 'apvienoto', 'arābu', 'emirātu', 'nacionālo', 'lidsabiedrību', 'etihad', 'airways', 'uzs…', 'kas', 'tas', 'spamu', 'feisbukā', 'daudzi', 'uzķērušies', 'valdības', 'klusēšana', 'baumām', 'pārdošanu', 'aizdomīga', 'uzskatu', 'izcils', 'investors', 'valstij', 'jāpatur', 'šis', 'strat', 'uzņēmums', 'pacentīšos', 'izvairīties', 'mazajām', 'propelleru', 'lidmašīnām', 'kur', 'vietas', 'cilvēkiem', 'mantām', 'turklāt', 'autobusā', 'lidmašīnas', 'mana', 'pieredze', 'jāgaida', 'NMBR', 'min', 'abos', 'virzienos', 'mazās', 'ļočenes', 'nevar', 'piebraukt', 'termināliem', 'training', 'nākamā', 'gada', 'vasarā', 'veiks', 'lidojumus', 'pieciem', 'galamērķiem', 'piedāvājot', 'ceļotājiem', 'eiropas', 'skandināvijas', 'tuvajiem', 'austrumiem', 'ērtus', 'savienojumus', 'vairākām', 'krievijas', 'pilsētām', 'kurās', 'norisināsies', 'pa…', 'veicot', 'nosēšanos', 'maskavas', 'šeremetjevas', 'starptautiskajā', 'lidostā', 'skrejceļa', 'noskrējusi', 'lidmašīna', 'neviens', 'pasažieriem', 'cietis', 'maskavā', 'nošļūcis', 'vēl', 'neko', 'neziņo', 'pieejama', 'informācija', 'kāda', 'proporcija', 'sievietes', 'vīrieši', 'lidmašīnu', 'pasažieri', 'nezinu', 'ierunājusi', 'paziņojumus', 'jaunajās', 'lidmašīnās', 'angļu', 'valoda', 'izklausās', 'interesanti', 'smeķīga', 'dāvini', 'atpūtu', 'esparīga', 'laimē', 'brīvdienas', 'tallinā', 'pērc', 'spa', 'dāvanu', 'karti', 'decembrim', 'piedalies', 'loterijā', 'eur', 'naktis', 'radisson', 'blu', 'olumpia', 'superior', 'klases', 'numurā', 'atsauksme', 'nolasīta', 'kādā', 'pārdošanas', 'departamenta', 'meeting', 'plānojot', 'nākamās', 'sales', 'aktivitātes', 'SMILE', 'nez', 'vietā', 'izdurtu', 'sev', 'acis', 'nebūtu', 'šitais', 'jālasa', 'attieksme', 'klientiem', 'rada', 'pagalam', 'nepatīkamu', 'iespaidu', 'otras', 'puses', 'iespējams', 'pagrūti', 'izdzīvot', 'pasaulē', 'ryanair', 'lufthansa', 'katrā', 'ziņā', 'paziņas', 'pēdējos', 'gados', 'izmanto', 'daudz', 'vairāk', 'pērkot', 'biļetes', 'lapā', 'skaidri', 'tieši', 'pirkšanas', 'redzams', 'apraksts', 'rokas', 'bagāža', 'max', 'tostarp', 'pirkumi', 'beznodokļu', 'zonā', 'tāpat', 'pārsniedzot', 'maksa', 'varbūt', 'nopērc', 'nekas', 'minimizētu', 'fontu', 'baudīsim', 'reģistrēšanos', 'lidojumam…', 'kādu', 'mērķi', 'izsūta', 'smuko', 'meiteņu', 'kalendārus', 'gribētu', 'puišu', 'kalendāru', 'tāds', '😭😭😭😭', 'cik', 'labi', 'pilsētā', 'lidosta', 'ieplānot', 'sasniegt', 'tagad', 'vienkāršāk', 'lido', 'liepājas', 'atgriezies', 'liepājā', 'liepāja', 'liepaja', 'ieplānoliepāju', 'tāda', 'piece', 'shit', 'kompānija', 'varētu', 'domāt', 'iepriekš', 'trūka', 'iemeslu', 'iespējas', 'boikotēt', 'viņi', 'optimizē', 'nodokļus', 'darbinieku', 'rēķina', 'iespēja', 'vienmer', 'lidojiet', 'citu', 'firmu', 'kad', 'jākļūst', 'investoriem', 'sašutušie', 'twitter', 'bļāvēji', 'tiešām', 'dzirdējis', 'eso', 'employee', 'stock', 'option', 'jūs', 'tur', 'sētniekiem', 'strādājat', 'spams', 'pastā', 'lika', 'piesēsties', 'atrakstīties', 'citiem', 'uzņēmumiem', 'piekopj', 'šādu', 'uzmācīgu', 'praksi', 'jauno', 'gadu', 'sākšu', 'tīru', 'pastu', 'gribi', 'pilotu', 'aizej', 'akadēmijas', 'atvērto', 'durvju', 'dienu', 'janvārī', 'international', 'airport', 'šeit', 'zvanu', 'centrs', 'laipni', 'runājoša', 'butaforija', 'mums', 'atsūtīts', 'info', 'kāpēc', 'kavējas', 'noslēpumainā', 'klientu', 'apkalpošanas', 'daļa', 'sniegt', 'īsu', 'skaidrojumu', 'lieki', 'teikt', 'nezina', 'nacionālāaviokompānija', 'kauns', 'beidzot', 'telefona', 'aplikācija', 'kurā', 'iečekoties', 'saglabāt', 'pases', 'datus', 'jāvada', 'katru', 'reizi', 'jauna', 'bieži', 'nianse', 'kaitinoša', 'rodas', 'sajūta', 'kāds', 'kaktu', 'kantoris', 'labu', 'neesmu', 'lasījis', 'vismaz', 'pusotru', 'pārliwcības', 'vajag', 'izmatot', 'pakalpojumus', 'amsterdama', 'smukulītes', 'kārtējo', 'vakar', 'raudošai', 'sievietei', 'lidoja', 'sanktpēterburgu', 'atņēma', 'pudeles', 'rīgas', 'balzama', 'pirkta', 'duty', 'free', 'nopirku', 'jūsu', 'gribat', 'man', 'atņemt', 'slavina', 'mūsu', 'valsts', 'tēlu', 'akciju', 'pieder', 'politika', 'laba', 'ideja', 'lidojumiem', 'manas', 'pusdienas', 'treniņu', 'centra', 'vedu', 'ukraiņu', 'kurš', 'teicās', 'personīgi', 'pazīstams', 'zeļenski', 'esot', 'viņu', 'divas', 'reizes', 'vedis', 'taksi', 'zeļenska', 'drudžaini', 'aptīra', 'pasažierus', 'aizdomas', 'ieņēmumiem', 'tuvojas', 'bankrots', 'nebūs', 'ilgi', 'atkal', 'nāks', 'valdībai', 'prasīt', 'naudu', 'penšiem', 'gausam', 'prēmijas', 'jāsamet', 'uzsāk', 'jekatrinburgu', 'pagājušajā', 'naktī', 'meta', 'plašu', 'loku', 'apkārt', 'irānai', 'irākai', 'visi', 'cauri', 'vienīgi', 'paklausīgi', 'stundu', 'ilgakā', 'lidojumā', 'piesardzība', 'pirmajā', 'vietā👍', 'lielākā', 'aviobiļešu', 'lielpārdošana', 'lielpārdošanas', 'laiks', 'zemas', 'cenas', 'lid', 'ļaudis', 'sabiedēja', 'ļaunais', 'iekāpšanas', 'kratot', 'sverot', 'bagāžas', 'blēņas', 'allaž', 'viss', 'absolūti', 'korekti', 'cieņpilni', 'lieliska', 'glītas', 'izglītotas', 'stjuartes', 'daudziem', 'samaksāt', 'bagāžu', 'nopietni', 'slikti', 'imidžam', 'varu', 'piedzīvojusi', 'svēršanu', 'sms', 'lol', 'zvanīja', 'teica', 'grib', 'atpakaļ', 'jauni', 'studenti', 'tiecas', 'pilotiem', 'pērn', 'pārvadāja', 'rekordlielu', 'skaitu', 'pasažieru', 'steidzies', 'piedāvājums', 'spēkā', 'novembrim', 'tarifu', 'plāns', 'īpašu', 'cenu', 'bites', 'mocīša', 'bobs', 'hārtlijs', 'paziņo', 'valstsvienības', 'sastāvu', 'turnīram', 'francijā', 'kopāspēks', 'lielfans', 'lhf', 'izlase', 'aizvada', 'pirmo', 'turnīra', 'lieldraugs', 'ventspilī', 'plkst', 'tiešraidē', 'vērot', 'preses', 'konferenci', 'ozo', 'ledus', 'hallē', 'pārbaudes', 'mačā', 'norvēģijas', 'vienaudžiem', 'svin', 'uzvaru', 'rezultātu', 'izlases', 'vārtus', 'baltkrieviju', 'sargās', 'ivars', 'punnenovs', 'teamlatvia', 'foto', 'nepilnas', 'stundas', 'minskā', 'sāksies', 'prezidenta', 'kausa', 'izcīņas', 'turnīrs', 'kapteinis', 'roberts', 'bukarts', 'asistēs', 'viņam', 'skvorcovs', 'balinskis', 'lauvassirds', 'hārtlija', 'vadītā', 'cīņu', 'turnīrā', 'spēles', 'ceturtdien', 'aizvadīs', 'četras', 'pirmās', 'trešdaļas', 'atrodas', 'vadībā', 'abus', 'guva', 'otrā', 'trešdaļa', 'noslēgusies', 'rezultāts', 'minūtēm', 'neizšķirts', 'vārtiem', 'rezultatīvu', 'piespēli', 'šajā', 'izcēlās', 'māris', 'bičevskis', 'rihards', 'pievienoja', 'rodri', 'ābols', 'divus', 'uzvara', 'rezultatīvā', 'cīņā', 'panākumu', 'nacionālā', 'komanda', 'turnīru', 'sāk', 'zaudējumu', 'austrijas', 'valstsvienībai', 'ventspils', 'austriešiem', 'pēcspēles', 'komentārs', 'lepns', 'saviem', 'spēlētājiem', 'hokeja', 'valstsvienība', 'apspēlē', 'slovēniju', 'izcīnot', 'otro', 'klubu', 'baltijas', 'posmu', 'klaipēdā', 'graujošu', 'ukrainu', 'cieš', 'vienu', 'neveiksmi', 'piekāpjoties', 'baltkrieviem', 'izcīņu', 'noslēdz', 'slovākiju', 'latvija', 'komandas', 'labā', 'aizraujošā', 'lietuvas', 'valstsvienību', 'kasparaiti', 'oslo', 'pozitīvu', 'bilanci', 'otrās', '🇫🇷un', 'vienīgos', 'šim', 'guvis', 'spēle', 'beigusies', 'uzvar', 'franciju', 'zolmanis', 'freibergs', 'pabeidz', 'izcili', 'uzvaras', 'trijās', 'spēlēs', 'elegantais', 'jaudīgais', 'huawei', 'mate', 'pro', 'klāt', 'iepriekšpārdošanā', 'saņem', 'dāvanā', 'kameru', 'pilnais', 'apskats', 'huaweimate', 'iegādājas', 'uzņēmumus', 'stream', 'networks', 'latnet', 'serviss', 'papildināta', 'kanādas', 'latvietis', 'andrejs', 'vienā', 'rāvienā', 'kļūtu', 'stāvus', 'bagāta', 'lkok', 'jānis', 'atlaides', 'visam', 'dāvanas', 'ikvienam', 'ziemassvētki', 'dāvināšanas', 'laika', 'brīžiem', 'maz', 'nāc', 'biti', 'parūpējušies', 'dāvanām', 'mazajiem', 'lielajiem', 'vienuviet', 'izvēlies', 'svētki', 'labs', 'darbs', 'padarīts', 'tehniķi', 'turpina', 'čakli', 'darboties', 'paplašina', 'tīklu', 'pievienojot', 'jaunas', 'bāzes', 'stacijas', 'īlē', 'lielaucē', 'tutānos', 'žīguros', 'gudeniekos', 'korģenē', 'lauderos', 'izdevniecība', 'neputns', 'izdod', 'amerikāņu', 'dzejnieces', 'emīlijas', 'dikinsones', 'bilingvālo', 'dzejas', 'izlasi', 'āboliņš', 'one', 'clover', 'amp', 'bee', 'kārļa', 'vērdiņa', 'sastādījumā', 'atdzejā', 'citāda', 'meklē', 'ziemassvētkiem', 'dodies', 'salonu', 'ienāc', 'zsvētki', 'visā', 'savā', 'krāšņumā…', 'dārgā', 'tēmējat', 'mani', 'reklāmu', 'dariet', 'valodā', 'labdien', 'jautājums', 'uzlikt', 'interneta', 'pieslēguma', 'numuram', 'izejošo', 'liegumu', 'mērs', 'publiski', 'lamāties', 'telefons', 'ekrāna', 'apdrošināšanas', 'remontā', 'marta', 'sākuma', 'jūnijs', 'ierīce', 'drīz', 'ilgāk', 'manā', 'lietošanā', 'garantijas', 'visu', 'vainu', 'noveļ', 'ražotāju', 'nespēj', 'piegādāt', 'ekrānu', 'visnotaļ', 'interesanta', 'komunikācija', 'mēģinot', 'pierunāt', 'esošo', 'nemainīt', 'operatoru', 'atklāti', 'smieties', 'viņa', 'izvēli', 'labāk', 'samaksāju', 'pāris', 'eiro', 'mēnesī', 'saņemu', 'cilvēcīgu', 'servisu', 'agresīviem', 'telemārketinga', 'zvaniem', 'zvana', 'pārstāvis', 'pieklājīgi', 'sarunājam', 'sazvanīsimies', 'pirmdien', 'zvans', 'šīs', 'pašas', 'kompānijas', 'informēts', 'manis', 'teikto', 'viņā', 'jāpaklausās', 'paldies', 'necienāt', 'manu', 'laiku', 'sen', 'nebiju', 'nolikusi', 'klausuli', 'īsa', 'pamācība', 'mīlēšanā', 'rūtera', 'hmm', 'atradu', 'sim', 'noskaidrot', 'tel', 'numuru', 'kartes', 'ehhh', 'interese', 'super', 'duper', 'piedāvājumu', 'čibriks', 'pazūd', 'dien', 'sarunājām', 'pārzvanīs', 'gara', 'stunda', 'lielisks', 'labsserviss', 'labvakar', 'sakiet', 'lūdzu', 'atšķiras', 'mega', 'mājas', 'internets', 'zvanot', 'numuriem', 'atskan', 'paziņojums', 'numurs', 'neeksistē', 'regulāri', 'taisnojas', 'šie', 'zvani', 'tīklā', 'reģistrēti', 'nevarot', 'palīdzēt', 'sazvanīt', 'neiespējami', 'šodien', 'saloni', 'strādā', 'liekas', 'redzējis', 'mbps', 'mobilajā', 'telefonā', 'pirmā', 'pagaidām', 'pozitīva', 'uzskata', 'mobilā', 'traucējumi', 'kalpo', 'informatīvais', 'dienests', 'ziņo', 'nokrišņu', 'tuvošanos', 'lieta', 'ilgus', 'gadus', 'saprotams', 'operatora', 'jaunu', 'diennakti', 'neatbild', 'jāpievienojas', 'opcija', 'hey', 'vēljoprojām', 'nekādu', 'variantu', 'bloķet', 'šos', 'scam', 'zvanus', 'pēdējo', 'mēnesi', 'notiek', 'nedarbojas', 'vispār', 'ātrums', 'gandrīz', 'problēma', 'novērojama', 'daudzās', 'vietās', 'sākumā', 'domāju', 'lokāla', 'izrādās', 'skatos', 'pamatīgi', 'ātrumu', 'uzlabojuši', 'antenā', 'izbesīja', 'jaunajiem', 'plāniem', 'lojāla', 'nauda', 'lieto', 'pārklājumu', 'netcom', 'tml', 'interesē', 'lētāks', 'tarifs', 'vietējam', 'netam', 'vietējiem', 'pakalpojumu', 'pārdevējam', 'nevajadzētu', 'maldināt', 'stāstot', 'īpašā', 'piedāvājuma', 'termiņam', 'beidzoties', 'atslēgt', 'rakstot', 'iesniegumu', 'klātienē', 'kac', 'ilga', 'sadarbība', 'vienkārši', 'pļak', 'normāla', 'manipulācija', 'cilvēki', 'protestē', 'pet', 'torņa', 'būvniecību', 'saprast', 'jānim', 'pļaviņam', 'klaji', 'ierakstā', 'jāmelo', 'iedzīvotāji', 'viens', 'publiskais', 'aktīvi', 'pieķēries', 'sakārtot', 'ziedojumu', 'tālruni', 'baltkrievijas', 'cilvēku', 'atbalstam', 'katram', 'ceram', 'tikpat', 'atsaucīgi', 'operatīvai', 'sadarbībai', 'pievienosies', 'laikam', 'muguru', 'dabūjusi', 'lucifera', 'sūtiet', 'krievu', 'noticis', 'pieejams', 'paliek', 'arvien', 'sliktāk', 'kādas', 'opcijas', 'vaļā', 'spama', 'liegt', 'šiem', 'uzņēmumam', 'izmantot', 'mobilus', 'sakarus', 'pārkāpumiem', 'riebīga', 'izdirsināja', 'kurjeri', 'sapratu', 'saturs', 'neinteresē', 'gribēju', 'pārtraukt', 'ietvaros', 'izdarīt', 'salonā', 'covid', 'laikā', 'paziņoja', 'līgums', 'noslēgts', 'gadiem', 'jāmaksā', 'sods', 'atrisinājām', 'riebīgi', 'aicina', 'iedzīvotājus', 'uzmanīgiem', 'ļaujot', 'aplikācijām', 'piekļūt', 'funkcijām', 'datiem', 'čau', 'jums', 'pieejami', 'jaunie', 'apple', 'watch', 'iegādāties', 'google', 'pixel', 'lieliskamūzika', 'kopā', 'circle', 'ionity', 'veidos', 'lieljaudas', 'elektrouzlādes', 'eiropā', 'jauns', 'mēness', 'prince', 'new', 'order', 'delta', 'godrem', 'billy', 'idol', 'jumprava', 'simply', 'red', 'jimmy', 'eat', 'world', 'duran', 'top', 'depeche', 'mode', 'bon', 'jovi', 'inxs', 'sheryl', 'crow', 'elo', 'igo', 'blink', 'matchbox', 'radiant', 'you', 'travis', 'def', 'leppard', 'eurythmics', 'dzelzs', 'vilks', 'nickelback', 'empire', 'the', 'sun', 'mike', 'mechanics', 'tina', 'turner', 'slade', 'abba', 'eric', 'clapton', 'bruce', 'springsteen', 'queen', 'rolling', 'stones', 'foster', 'people', 'līvi', 'kim', 'wilde', 'manic', 'street', 'preachers', 'rod', 'stewart', 'simple', 'minds', 'metallica', 'fēlikss', 'ķiģelis', 'rhcp', 'ronan', 'keating', 'michael', 'jackson', 'blur', 'remonts', 'moon', 'taxi', 'five', 'him', 'cure', 'foo', 'fighters', 'ivo', 'fomins', 'clash', 'genesis', 'sunrise', 'avenue', 'midnight', 'oil', 'kiss', 'roxette', 'starsailor', 'tom', 'petty', 'van', 'halen', 'kings', 'leon', 'roy', 'orbison', 'arcade', 'fire', 'oldfield', 'brainstorm', 'phil', 'collins', 'shania', 'twain', 'ting', 'tings', 'soul', 'asylum', 'coldplay', 'white', 'lies', 'reamonn', 'elton', 'john', 'omd', 'george', 'harrison', 'hobos', 'daft', 'punk', 'aerosmith', 'blossoms', 'chris', 'isaak', 'dons', 'ocean', 'linkin', 'park', 'don', 'henley', 'dire', 'straits', 'cars', 'iggi', 'pop', 'deep', 'purple', 'des', 'ree', 'black', 'keys', 'joe', 'cocker', 'jamiroquai', 'led', 'zeppelin', 'cult', 'killers', 'statoil', 'ādažos', 'darbiniece', 'iveta', 'izcila', 'zelts', 'kases', 'komunikanla', 'laipna', 'apkalpošana', 'guns', 'roses', 'beatles', 'goo', 'dolls', 'onerepublic', 'yes', 'cale', 'hurts', 'imagine', 'dragons', 'robbie', 'williams', 'rea', 'capital', 'cities', 'mando', 'diao', 'steve', 'miller', 'band', 'lennon', 'doors', 'muse', 'counting', 'crows', 'dpd', 'pickup', 'tīklam', 'pievieno', 'desmit', 'dus', 'sūtījumi', 'dienasbizness', 'dblv', 'dan', 'auerbach', 'police', 'blondie', 'del', 'amitri', 'bryan', 'adams', 'whitesnake', 'mayer', 'spin', 'doctors', 'pretenders', 'joel', 'dandy', 'warhols', 'franz', 'ferdinand', 'taylor', 'swift', 'tunstall', 'ted', 'nugent', 'scott', 'radicals', 'amy', 'winehouse', 'crowes', 'beth', 'orton', 'gees', 'eagles', 'toploader', 'kasabian', 'kādēļ', 'rīgā', 'daugavpilī', 'rēzeknē', 'banka', 'bankomātā', 'iekļāvusi', 'latgaliešu', 'valodu', 'paļdis', 'pyrmajai', 'bankai', 'pīduovoj', 'ltg', 'volūdu', 'bankomatā', 'kurseitis', 'kundzei', 'sovys', 'dūmys', 'vysu', 'maina', 'atbylstūši', 'situacejai', 'fktk', 'padome', 'nolemj', 'reģistrēt', 'subordinēto', 'obligāciju', 'pamatprospektu', 'aizvāciet', 'kaitinošo', 'nevietā', 'ielikto', 'punktu', 'neizturami', 'skatīties', 'bankas', 'maksājumu', 'šablonu', 'saraksta', 'pielikt', 'lielu', 'pogu', 'šablons', 'vēstures', 'fāāāk', 'reizēm', 'spēj', 'pārsteigt', 'pko', 'vēlas', 'luminor', 'piedērēt', 'polijas', 'nevarēja', 'nesen', 'savos', 'bankomātos', 'iekļāva', 'zaudējumi', 'deviņos', 'mēnešos', 'miljoni', 'peļņa', 'šogad', 'latvijā', 'izsniegusi', 'kredītus', 'miljonu', 'apmērā', 'pēdējais', 'biznesa', 'rīts', 'pirmoreiz', 'norisinās', 'topošajās', 'telpās', 'pils', 'ielā', 'svinīgi', 'parakstīts', 'atbalsta', 'telpu', 'nomas', 'banku', 'skaidrosim', 'valdošo', 'uzņēmēju', 'noskaņojums', 'sarunāsimies', 'valdes', 'locekli', 'santu', 'purgaili', 'citadeles', 'indekss', 'pozitīvs', 'ekonomikas', 'izaugsmes', 'temps', 'index', 'uzņēmēji', 'optimistiski', 'izaugsmi', 'iem', 'sekretārs', 'dimitrijs', 'trofimovs', 'iemūrēja', 'kapsulu', 'nākamajām', 'paaudzēm', 'jaunceļamajā', 'vugd', 'jaunpils', 'iemūrēta', 'kapsula', 'vēstījumu', 'reģiona', 'pārvaldes', 'ugunsdzēsības', 'nokļuvu', 'uzreiz', 'priekšā', 'panks', 'krista', 'ērkšķiem', 'FROWN', 'pārsūdz', 'lēmumu', 'apsūdzot', 'padomi', 'neprofesionālismā', 'pārsūdzējis', 'soda', 'naudas', 'piemērošanu', 'emburgas', 'zaļajā', 'notiks', 'ūdens', 'avārijas', 'rakšanas', 'darbi', 'pastāv', 'mikrorajonā', 'atslēgta', 'padeve', 'darbu', 'ilgums', 'šobrīd', 'zināms', 'satiksmes', 'kustība', 'netiks', 'traucēta', 'asumiņš', 'ēdienā', 'vēzi', 'veselībai', 'vijas', 'eniņas', 'lekcijas', 'forši', 'jaunā', 'veikala', 'dzirciema']\n"
     ]
    }
   ],
   "source": [
    "with open('./../data/wordFeaturesWithoutBrands.data', 'rb') as filehandle:\n",
    "        # read the data as binary data stream\n",
    "        word_features_without_brands = pickle.load(filehandle)\n",
    "\n",
    "print(word_features_without_brands)"
   ]
  },
  {
   "cell_type": "code",
   "execution_count": 9,
   "id": "9db46cb8",
   "metadata": {},
   "outputs": [],
   "source": [
    "# function to find features in every post\n",
    "def find_features_no_brands(post):\n",
    "    words = word_tokenize(post)\n",
    "    features = {}\n",
    "    for word in word_features_without_brands:\n",
    "        features[word] = (word in words)\n",
    "    return features"
   ]
  },
  {
   "cell_type": "code",
   "execution_count": 10,
   "id": "27f221ae",
   "metadata": {},
   "outputs": [
    {
     "name": "stdout",
     "output_type": "stream",
     "text": [
      "476\n",
      "428\n",
      "48\n"
     ]
    }
   ],
   "source": [
    "tweets_all = list(zip(allLabeledTweets.loc[:,\"message_no_stopwords\"].values,allLabeledTweets.loc[:,\"label\"].values))\n",
    "featuresets = [(find_features_no_brands(text), label) for (text, label) in tweets_all]\n",
    "\n",
    "from sklearn import model_selection\n",
    "\n",
    "# split the data into training and testing datasets\n",
    "seed = 1\n",
    "training, testing = model_selection.train_test_split(featuresets, test_size = 0.1, random_state=seed)\n",
    "\n",
    "print(len(allLabeledTweets))\n",
    "print(len(training))\n",
    "print(len(testing))"
   ]
  },
  {
   "cell_type": "markdown",
   "id": "eea6bf64",
   "metadata": {},
   "source": [
    "## Train"
   ]
  },
  {
   "cell_type": "code",
   "execution_count": 11,
   "id": "b3554876",
   "metadata": {},
   "outputs": [
    {
     "name": "stdout",
     "output_type": "stream",
     "text": [
      "Naive Bayes Accuracy: 62.5\n"
     ]
    }
   ],
   "source": [
    "from nltk.classify.scikitlearn import SklearnClassifier\n",
    "from sklearn.naive_bayes import MultinomialNB\n",
    "\n",
    "nltk_model = SklearnClassifier(MultinomialNB())\n",
    "nltk_model.train(training)\n",
    "accuracy = nltk.classify.accuracy(nltk_model, testing)*100\n",
    "print(\"{} Accuracy: {}\".format(\"Naive Bayes\", accuracy))"
   ]
  },
  {
   "cell_type": "code",
   "execution_count": 12,
   "id": "157f499b",
   "metadata": {},
   "outputs": [],
   "source": [
    "txt_features, labels = zip(*testing)\n",
    "\n",
    "prediction = nltk_model.classify_many(txt_features)"
   ]
  },
  {
   "cell_type": "code",
   "execution_count": 13,
   "id": "d681de28",
   "metadata": {},
   "outputs": [
    {
     "name": "stdout",
     "output_type": "stream",
     "text": [
      "              precision    recall  f1-score   support\n",
      "\n",
      "           0       0.65      0.87      0.74        23\n",
      "           1       0.38      0.30      0.33        10\n",
      "           2       0.78      0.47      0.58        15\n",
      "\n",
      "    accuracy                           0.62        48\n",
      "   macro avg       0.60      0.55      0.55        48\n",
      "weighted avg       0.63      0.62      0.61        48\n",
      "\n"
     ]
    },
    {
     "data": {
      "text/html": [
       "<div>\n",
       "<style scoped>\n",
       "    .dataframe tbody tr th:only-of-type {\n",
       "        vertical-align: middle;\n",
       "    }\n",
       "\n",
       "    .dataframe tbody tr th {\n",
       "        vertical-align: top;\n",
       "    }\n",
       "\n",
       "    .dataframe thead tr th {\n",
       "        text-align: left;\n",
       "    }\n",
       "</style>\n",
       "<table border=\"1\" class=\"dataframe\">\n",
       "  <thead>\n",
       "    <tr>\n",
       "      <th></th>\n",
       "      <th></th>\n",
       "      <th colspan=\"3\" halign=\"left\">predicted</th>\n",
       "    </tr>\n",
       "    <tr>\n",
       "      <th></th>\n",
       "      <th></th>\n",
       "      <th>neutral</th>\n",
       "      <th>positive</th>\n",
       "      <th>negative</th>\n",
       "    </tr>\n",
       "  </thead>\n",
       "  <tbody>\n",
       "    <tr>\n",
       "      <th rowspan=\"3\" valign=\"top\">actual</th>\n",
       "      <th>neutral</th>\n",
       "      <td>20</td>\n",
       "      <td>2</td>\n",
       "      <td>1</td>\n",
       "    </tr>\n",
       "    <tr>\n",
       "      <th>positive</th>\n",
       "      <td>6</td>\n",
       "      <td>3</td>\n",
       "      <td>1</td>\n",
       "    </tr>\n",
       "    <tr>\n",
       "      <th>negative</th>\n",
       "      <td>5</td>\n",
       "      <td>3</td>\n",
       "      <td>7</td>\n",
       "    </tr>\n",
       "  </tbody>\n",
       "</table>\n",
       "</div>"
      ],
      "text/plain": [
       "                predicted                  \n",
       "                  neutral positive negative\n",
       "actual neutral         20        2        1\n",
       "       positive         6        3        1\n",
       "       negative         5        3        7"
      ]
     },
     "execution_count": 13,
     "metadata": {},
     "output_type": "execute_result"
    }
   ],
   "source": [
    "from sklearn.metrics import classification_report, accuracy_score, confusion_matrix\n",
    "\n",
    "# print a confusion matrix and a classification report\n",
    "print(classification_report(labels, prediction))\n",
    "\n",
    "pd.DataFrame(\n",
    "    confusion_matrix(labels, prediction),\n",
    "index = [['actual', 'actual', 'actual'], ['neutral', 'positive', 'negative']],\n",
    "    columns = [['predicted', 'predicted', 'predicted'], ['neutral', 'positive', 'negative']])"
   ]
  },
  {
   "cell_type": "markdown",
   "id": "d5bc8951",
   "metadata": {},
   "source": [
    "## Even labels"
   ]
  },
  {
   "cell_type": "code",
   "execution_count": 130,
   "id": "2d0ed44f",
   "metadata": {},
   "outputs": [
    {
     "data": {
      "text/html": [
       "<div>\n",
       "<style scoped>\n",
       "    .dataframe tbody tr th:only-of-type {\n",
       "        vertical-align: middle;\n",
       "    }\n",
       "\n",
       "    .dataframe tbody tr th {\n",
       "        vertical-align: top;\n",
       "    }\n",
       "\n",
       "    .dataframe thead th {\n",
       "        text-align: right;\n",
       "    }\n",
       "</style>\n",
       "<table border=\"1\" class=\"dataframe\">\n",
       "  <thead>\n",
       "    <tr style=\"text-align: right;\">\n",
       "      <th></th>\n",
       "      <th>message_no_stopwords</th>\n",
       "      <th>label</th>\n",
       "    </tr>\n",
       "  </thead>\n",
       "  <tbody>\n",
       "    <tr>\n",
       "      <th>0</th>\n",
       "      <td>vērtēti trīs potenciālie airbaltic investori U...</td>\n",
       "      <td>0</td>\n",
       "    </tr>\n",
       "    <tr>\n",
       "      <th>1</th>\n",
       "      <td>vakardien vēlu vakarā svinīgu pasākumu atklāts...</td>\n",
       "      <td>0</td>\n",
       "    </tr>\n",
       "    <tr>\n",
       "      <th>2</th>\n",
       "      <td>es ļoti ceruka potenciālie air baltic investor...</td>\n",
       "      <td>2</td>\n",
       "    </tr>\n",
       "    <tr>\n",
       "      <th>3</th>\n",
       "      <td>kritisko domāšanu joprojām bēdīgi pilns facebo...</td>\n",
       "      <td>2</td>\n",
       "    </tr>\n",
       "    <tr>\n",
       "      <th>4</th>\n",
       "      <td>latvijas lidsabiedrība airbaltic sadarbībā apv...</td>\n",
       "      <td>0</td>\n",
       "    </tr>\n",
       "  </tbody>\n",
       "</table>\n",
       "</div>"
      ],
      "text/plain": [
       "                                message_no_stopwords  label\n",
       "0  vērtēti trīs potenciālie airbaltic investori U...      0\n",
       "1  vakardien vēlu vakarā svinīgu pasākumu atklāts...      0\n",
       "2  es ļoti ceruka potenciālie air baltic investor...      2\n",
       "3  kritisko domāšanu joprojām bēdīgi pilns facebo...      2\n",
       "4  latvijas lidsabiedrība airbaltic sadarbībā apv...      0"
      ]
     },
     "execution_count": 130,
     "metadata": {},
     "output_type": "execute_result"
    }
   ],
   "source": [
    "# allTweets = allLabeledTweets[['message_no_stopwords', 'label']]\n",
    "# allTweets.head()"
   ]
  },
  {
   "cell_type": "code",
   "execution_count": 16,
   "id": "34e1d68b",
   "metadata": {},
   "outputs": [
    {
     "data": {
      "text/plain": [
       "((428, 24), (48, 24))"
      ]
     },
     "execution_count": 16,
     "metadata": {},
     "output_type": "execute_result"
    }
   ],
   "source": [
    "train_df, test_df = model_selection.train_test_split(allLabeledTweets, test_size=0.1)\n",
    "train_df.shape, test_df.shape"
   ]
  },
  {
   "cell_type": "code",
   "execution_count": 17,
   "id": "57835bda",
   "metadata": {},
   "outputs": [
    {
     "data": {
      "image/png": "[encoded data removed]",
      "text/plain": [
       "<Figure size 432x288 with 1 Axes>"
      ]
     },
     "metadata": {
      "needs_background": "light"
     },
     "output_type": "display_data"
    }
   ],
   "source": [
    "train_neutral = train_df[train_df[\"label\"] == 0]\n",
    "train_positive = train_df[train_df[\"label\"] == 1]\n",
    "train_negative = train_df[train_df[\"label\"] == 2]\n",
    "\n",
    "pd.DataFrame(dict(\n",
    "  neutral=[len(train_neutral)],\n",
    "  positive=[len(train_positive)],\n",
    "  negative=[len(train_negative)]  \n",
    ")).plot(kind='barh');"
   ]
  },
  {
   "cell_type": "code",
   "execution_count": 19,
   "id": "50d419e8",
   "metadata": {},
   "outputs": [
    {
     "data": {
      "text/plain": [
       "((198, 24), (48, 24))"
      ]
     },
     "execution_count": 19,
     "metadata": {},
     "output_type": "execute_result"
    }
   ],
   "source": [
    "train_df = pd.concat([\n",
    "    train_neutral.sample(60),\n",
    "    train_positive,\n",
    "    train_negative.sample(60)])\n",
    "\n",
    "train_df.shape, test_df.shape"
   ]
  },
  {
   "cell_type": "code",
   "execution_count": 20,
   "id": "001eed5b",
   "metadata": {},
   "outputs": [],
   "source": [
    "tweets_train = list(zip(train_df.loc[:,\"message_no_stopwords\"].values,train_df.loc[:,\"label\"].values))\n",
    "featuresets_train = [(find_features_no_brands(text), label) for (text, label) in tweets_train]"
   ]
  },
  {
   "cell_type": "code",
   "execution_count": 21,
   "id": "93f04fb1",
   "metadata": {},
   "outputs": [],
   "source": [
    "tweets_test = list(zip(test_df.loc[:,\"message_no_stopwords\"].values,test_df.loc[:,\"label\"].values))\n",
    "featuresets_test = [(find_features_no_brands(text), label) for (text, label) in tweets_test]"
   ]
  },
  {
   "cell_type": "code",
   "execution_count": 22,
   "id": "32e0464a",
   "metadata": {},
   "outputs": [
    {
     "name": "stdout",
     "output_type": "stream",
     "text": [
      "Naive Bayes Accuracy: 87.5\n"
     ]
    }
   ],
   "source": [
    "nltk_model = SklearnClassifier(MultinomialNB())\n",
    "nltk_model.train(featuresets_test)\n",
    "accuracy = nltk.classify.accuracy(nltk_model, featuresets_test)*100\n",
    "print(\"{} Accuracy: {}\".format(\"Naive Bayes\", accuracy))"
   ]
  },
  {
   "cell_type": "code",
   "execution_count": 23,
   "id": "b869f02b",
   "metadata": {},
   "outputs": [
    {
     "name": "stdout",
     "output_type": "stream",
     "text": [
      "              precision    recall  f1-score   support\n",
      "\n",
      "           0       0.80      1.00      0.89        24\n",
      "           1       1.00      0.78      0.88         9\n",
      "           2       1.00      0.73      0.85        15\n",
      "\n",
      "    accuracy                           0.88        48\n",
      "   macro avg       0.93      0.84      0.87        48\n",
      "weighted avg       0.90      0.88      0.87        48\n",
      "\n"
     ]
    },
    {
     "data": {
      "text/html": [
       "<div>\n",
       "<style scoped>\n",
       "    .dataframe tbody tr th:only-of-type {\n",
       "        vertical-align: middle;\n",
       "    }\n",
       "\n",
       "    .dataframe tbody tr th {\n",
       "        vertical-align: top;\n",
       "    }\n",
       "\n",
       "    .dataframe thead tr th {\n",
       "        text-align: left;\n",
       "    }\n",
       "</style>\n",
       "<table border=\"1\" class=\"dataframe\">\n",
       "  <thead>\n",
       "    <tr>\n",
       "      <th></th>\n",
       "      <th></th>\n",
       "      <th colspan=\"3\" halign=\"left\">predicted</th>\n",
       "    </tr>\n",
       "    <tr>\n",
       "      <th></th>\n",
       "      <th></th>\n",
       "      <th>neutral</th>\n",
       "      <th>positive</th>\n",
       "      <th>negative</th>\n",
       "    </tr>\n",
       "  </thead>\n",
       "  <tbody>\n",
       "    <tr>\n",
       "      <th rowspan=\"3\" valign=\"top\">actual</th>\n",
       "      <th>neutral</th>\n",
       "      <td>24</td>\n",
       "      <td>0</td>\n",
       "      <td>0</td>\n",
       "    </tr>\n",
       "    <tr>\n",
       "      <th>positive</th>\n",
       "      <td>2</td>\n",
       "      <td>7</td>\n",
       "      <td>0</td>\n",
       "    </tr>\n",
       "    <tr>\n",
       "      <th>negative</th>\n",
       "      <td>4</td>\n",
       "      <td>0</td>\n",
       "      <td>11</td>\n",
       "    </tr>\n",
       "  </tbody>\n",
       "</table>\n",
       "</div>"
      ],
      "text/plain": [
       "                predicted                  \n",
       "                  neutral positive negative\n",
       "actual neutral         24        0        0\n",
       "       positive         2        7        0\n",
       "       negative         4        0       11"
      ]
     },
     "execution_count": 23,
     "metadata": {},
     "output_type": "execute_result"
    }
   ],
   "source": [
    "txt_features, labels = zip(*featuresets_test)\n",
    "\n",
    "prediction = nltk_model.classify_many(txt_features)\n",
    "# print a confusion matrix and a classification report\n",
    "print(classification_report(labels, prediction))\n",
    "\n",
    "pd.DataFrame(\n",
    "    confusion_matrix(labels, prediction),\n",
    "index = [['actual', 'actual', 'actual'], ['neutral', 'positive', 'negative']],\n",
    "    columns = [['predicted', 'predicted', 'predicted'], ['neutral', 'positive', 'negative']])"
   ]
  },
  {
   "cell_type": "code",
   "execution_count": 24,
   "id": "f482f4fa",
   "metadata": {},
   "outputs": [],
   "source": [
    "# save the model\n",
    "filename = './nb_tweet_classifier.sav'\n",
    "pickle.dump(nltk_model, open(filename, 'wb'))"
   ]
  },
  {
   "cell_type": "code",
   "execution_count": null,
   "id": "17c88cf6",
   "metadata": {},
   "outputs": [],
   "source": []
  },
  {
   "cell_type": "code",
   "execution_count": null,
   "id": "388cea0f",
   "metadata": {},
   "outputs": [],
   "source": []
  }
 ],
 "metadata": {
  "kernelspec": {
   "display_name": "venv",
   "language": "python",
   "name": "venv"
  },
  "language_info": {
   "codemirror_mode": {
    "name": "ipython",
    "version": 3
   },
   "file_extension": ".py",
   "mimetype": "text/x-python",
   "name": "python",
   "nbconvert_exporter": "python",
   "pygments_lexer": "ipython3",
   "version": "3.8.8"
  }
 },
 "nbformat": 4,
 "nbformat_minor": 5
}
