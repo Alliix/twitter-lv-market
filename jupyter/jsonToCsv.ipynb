{
 "cells": [
  {
   "cell_type": "code",
   "execution_count": 24,
   "id": "37d8c4d6",
   "metadata": {},
   "outputs": [],
   "source": [
    "import json\n",
    "import csv"
   ]
  },
  {
   "cell_type": "code",
   "execution_count": 31,
   "id": "8fa360cd",
   "metadata": {},
   "outputs": [],
   "source": [
    "def jsonToCsv(file):\n",
    "    with open('../peopleTweets/'+file+'.json', encoding='UTF-8') as json_file:\n",
    "        jsondata = json.load(json_file)\n",
    "\n",
    "    data_file = open('./tweets/raw/'+file+'.csv', 'w', newline='', encoding='UTF-8')\n",
    "    csv_writer = csv.writer(data_file)\n",
    "\n",
    "    count = 0\n",
    "    for data in jsondata:\n",
    "        if count == 0:\n",
    "            header = data.keys()\n",
    "            csv_writer.writerow(header)\n",
    "            count += 1\n",
    "        csv_writer.writerow(data.values())\n",
    "\n",
    "    data_file.close()"
   ]
  },
  {
   "cell_type": "code",
   "execution_count": 32,
   "id": "942fca86",
   "metadata": {},
   "outputs": [],
   "source": [
    "files = [\n",
    "  \"latvenergo\",\n",
    "  \"rimi\",\n",
    "  \"maxima\",\n",
    "  \"swedbank\",\n",
    "  \"lmt\",\n",
    "  \"tet\",\n",
    "  \"lg\",\n",
    "  \"tele2\",\n",
    "  \"airbaltic\",\n",
    "  \"olympic\",\n",
    "  \"seb\",\n",
    "  \"grindeks\",\n",
    "  \"citadele\",\n",
    "  \"bite\",\n",
    "  \"drogas\",\n",
    "  \"depo\",\n",
    "  \"circlek\",\n",
    "  \"lb\",\n",
    "  \"optibet\",\n",
    "  \"evolution\",\n",
    "];"
   ]
  },
  {
   "cell_type": "code",
   "execution_count": 33,
   "id": "76548d82",
   "metadata": {},
   "outputs": [],
   "source": [
    "for file in files:\n",
    "    jsonToCsv(file)    "
   ]
  },
  {
   "cell_type": "code",
   "execution_count": null,
   "id": "b597e152",
   "metadata": {},
   "outputs": [],
   "source": []
  }
 ],
 "metadata": {
  "kernelspec": {
   "display_name": "venv",
   "language": "python",
   "name": "venv"
  },
  "language_info": {
   "codemirror_mode": {
    "name": "ipython",
    "version": 3
   },
   "file_extension": ".py",
   "mimetype": "text/x-python",
   "name": "python",
   "nbconvert_exporter": "python",
   "pygments_lexer": "ipython3",
   "version": "3.8.8"
  }
 },
 "nbformat": 4,
 "nbformat_minor": 5
}
