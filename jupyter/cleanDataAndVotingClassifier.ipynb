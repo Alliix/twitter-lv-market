{
 "cells": [
  {
   "cell_type": "code",
   "execution_count": 1,
   "id": "ef2cfa3e",
   "metadata": {},
   "outputs": [
    {
     "name": "stderr",
     "output_type": "stream",
     "text": [
      "[nltk_data] Downloading package punkt to\n",
      "[nltk_data]     C:\\Users\\aligo\\AppData\\Roaming\\nltk_data...\n",
      "[nltk_data]   Package punkt is already up-to-date!\n",
      "[nltk_data] Downloading package wordnet to\n",
      "[nltk_data]     C:\\Users\\aligo\\AppData\\Roaming\\nltk_data...\n",
      "[nltk_data]   Package wordnet is already up-to-date!\n"
     ]
    }
   ],
   "source": [
    "import pickle\n",
    "import pandas as pd\n",
    "import re\n",
    "import nltk\n",
    "from nltk.corpus import stopwords\n",
    "import numpy as np\n",
    "\n",
    "nltk.download('punkt')\n",
    "nltk.download('wordnet')\n",
    "from nltk.tokenize import word_tokenize\n",
    "\n",
    "import json\n",
    "import csv"
   ]
  },
  {
   "cell_type": "code",
   "execution_count": 2,
   "id": "6ed37029",
   "metadata": {},
   "outputs": [],
   "source": [
    "brands = [\n",
    "  \"latvenergo\",\n",
    "  \"rimi\",\n",
    "  \"maxima\",\n",
    "  \"swedbank\",\n",
    "  \"lmt\",\n",
    "  \"tet\",\n",
    "  \"lg\",\n",
    "  \"tele2\",\n",
    "  \"airbaltic\",\n",
    "  \"olympic\",\n",
    "  \"seb\",\n",
    "  \"grindeks\",\n",
    "  \"citadele\",\n",
    "  \"bite\",\n",
    "  \"drogas\",\n",
    "  \"depo\",\n",
    "  \"circlek\",\n",
    "  \"lb\",\n",
    "  \"optibet\",\n",
    "  \"evolution\",\n",
    "];"
   ]
  },
  {
   "cell_type": "code",
   "execution_count": 16,
   "id": "2443f9dc",
   "metadata": {},
   "outputs": [],
   "source": [
    "def tweetsJsonToCsv():\n",
    "    with open('../peopleTweets/allLabeledTweets.json', encoding='UTF-8') as json_file:\n",
    "        jsondata = json.load(json_file)\n",
    "\n",
    "    data_file = open('./tweets/raw/allLabeledTweets.csv', 'w', newline='', encoding='UTF-8')\n",
    "    csv_writer = csv.writer(data_file)\n",
    "\n",
    "    count = 0\n",
    "    for data in jsondata:\n",
    "        if count == 0:\n",
    "            header = data.keys()\n",
    "            csv_writer.writerow(header)\n",
    "            count += 1\n",
    "        csv_writer.writerow(data.values())\n",
    "\n",
    "    data_file.close()"
   ]
  },
  {
   "cell_type": "code",
   "execution_count": 17,
   "id": "3986112a",
   "metadata": {},
   "outputs": [],
   "source": [
    "# tweetsJsonToCsv()"
   ]
  },
  {
   "cell_type": "code",
   "execution_count": 149,
   "id": "351e5744",
   "metadata": {},
   "outputs": [],
   "source": [
    "# def readCsv(brand):\n",
    "#     tweets = pd.read_csv('./tweets/raw/'+brand+'.csv')\n",
    "#     tweets['brand'] = brand\n",
    "#     tweets = tweets[tweets['label'].notna()]\n",
    "#     return tweets"
   ]
  },
  {
   "cell_type": "code",
   "execution_count": 150,
   "id": "2c7d99ca",
   "metadata": {},
   "outputs": [],
   "source": [
    "# latvenergoTweets = readCsv(\"latvenergo\")\n",
    "# rimiTweets = readCsv(\"rimi\")\n",
    "# maximaTweets = readCsv(\"maxima\")\n",
    "# swedbankTweets = readCsv(\"swedbank\")\n",
    "# lmtTweets = readCsv(\"lmt\")\n",
    "# tetTweets = readCsv(\"tet\")\n",
    "# lgTweets = readCsv(\"lg\")\n",
    "# tle2Tweets = readCsv(\"tele2\")\n",
    "# airBalticTweets = readCsv(\"airbaltic\")\n",
    "# olympicTweets = readCsv(\"olympic\")\n",
    "# sebTweets = readCsv(\"seb\")\n",
    "# grindeksTweets = readCsv(\"grindeks\")\n",
    "# citadeleTweets = readCsv(\"citadele\")\n",
    "# biteTweets = readCsv(\"bite\")\n",
    "# drogasTweets = readCsv(\"drogas\")\n",
    "# depoTweets = readCsv(\"depo\")\n",
    "# circlekTweets = readCsv(\"circlek\")\n",
    "# lbTweets = readCsv(\"lb\")\n",
    "# optibetTweets = readCsv(\"optibet\")\n",
    "# evolutionTweets = readCsv(\"evolution\")\n",
    "\n",
    "\n",
    "# allLabeledTweets = pd.concat([latvenergoTweets,\n",
    "# rimiTweets,\n",
    "# maximaTweets,\n",
    "# swedbankTweets,\n",
    "# lmtTweets,\n",
    "# tetTweets,\n",
    "# lgTweets,\n",
    "# tle2Tweets,\n",
    "# airBalticTweets,\n",
    "# olympicTweets,\n",
    "# sebTweets,\n",
    "# grindeksTweets,\n",
    "# citadeleTweets,\n",
    "# biteTweets,\n",
    "# drogasTweets,\n",
    "# depoTweets,\n",
    "# circlekTweets,\n",
    "# lbTweets,\n",
    "# optibetTweets,\n",
    "# evolutionTweets\n",
    "# ], axis=0,\n",
    "#     join=\"outer\",\n",
    "#     ignore_index=True,\n",
    "#     keys=None,\n",
    "#     levels=None,\n",
    "#     names=None,\n",
    "#     verify_integrity=False,\n",
    "#     copy=True,)\n",
    "\n",
    "# allLabeledTweets['label'] = allLabeledTweets['label'].astype(int)\n",
    "# allLabeledTweets.to_csv('./tweets/raw/allLabeledTweets.csv', index=False)"
   ]
  },
  {
   "cell_type": "code",
   "execution_count": 3,
   "id": "655a3876",
   "metadata": {},
   "outputs": [
    {
     "data": {
      "text/html": [
       "<div>\n",
       "<style scoped>\n",
       "    .dataframe tbody tr th:only-of-type {\n",
       "        vertical-align: middle;\n",
       "    }\n",
       "\n",
       "    .dataframe tbody tr th {\n",
       "        vertical-align: top;\n",
       "    }\n",
       "\n",
       "    .dataframe thead th {\n",
       "        text-align: right;\n",
       "    }\n",
       "</style>\n",
       "<table border=\"1\" class=\"dataframe\">\n",
       "  <thead>\n",
       "    <tr style=\"text-align: right;\">\n",
       "      <th></th>\n",
       "      <th>message</th>\n",
       "      <th>id</th>\n",
       "      <th>tweetId</th>\n",
       "      <th>createdAt</th>\n",
       "      <th>language</th>\n",
       "      <th>inReplyToStatusId</th>\n",
       "      <th>inReplyToUserId</th>\n",
       "      <th>inReplyToScreenName</th>\n",
       "      <th>userId</th>\n",
       "      <th>userName</th>\n",
       "      <th>...</th>\n",
       "      <th>placeType</th>\n",
       "      <th>retweetedId</th>\n",
       "      <th>monitoringObjectId1</th>\n",
       "      <th>monitoringObjectId2</th>\n",
       "      <th>queryId</th>\n",
       "      <th>sentiment</th>\n",
       "      <th>retweetCount</th>\n",
       "      <th>label</th>\n",
       "      <th>clean_message</th>\n",
       "      <th>message_no_stopwords</th>\n",
       "    </tr>\n",
       "  </thead>\n",
       "  <tbody>\n",
       "    <tr>\n",
       "      <th>0</th>\n",
       "      <td>Tiek vērtēti trīs potenciālie airBaltic invest...</td>\n",
       "      <td>1478404</td>\n",
       "      <td>925617390523732000</td>\n",
       "      <td>2017-11-01T08:55:57</td>\n",
       "      <td>lv</td>\n",
       "      <td>NaN</td>\n",
       "      <td>NaN</td>\n",
       "      <td>NaN</td>\n",
       "      <td>24855060</td>\n",
       "      <td>Dienas Bizness</td>\n",
       "      <td>...</td>\n",
       "      <td>NaN</td>\n",
       "      <td>NaN</td>\n",
       "      <td>389</td>\n",
       "      <td>389</td>\n",
       "      <td>NaN</td>\n",
       "      <td>0.0</td>\n",
       "      <td>0</td>\n",
       "      <td>0</td>\n",
       "      <td>tiek vērtēti trīs potenciālie airbaltic invest...</td>\n",
       "      <td>vērtēti trīs potenciālie airbaltic investori U...</td>\n",
       "    </tr>\n",
       "    <tr>\n",
       "      <th>1</th>\n",
       "      <td>Vakardien, vēlu vakarā, ar svinīgu pasākumu ti...</td>\n",
       "      <td>1486476</td>\n",
       "      <td>924948828318511100</td>\n",
       "      <td>2017-10-30T12:39:20</td>\n",
       "      <td>lv</td>\n",
       "      <td>NaN</td>\n",
       "      <td>NaN</td>\n",
       "      <td>NaN</td>\n",
       "      <td>44849531</td>\n",
       "      <td>RIGA I Airport</td>\n",
       "      <td>...</td>\n",
       "      <td>NaN</td>\n",
       "      <td>NaN</td>\n",
       "      <td>703</td>\n",
       "      <td>703</td>\n",
       "      <td>NaN</td>\n",
       "      <td>-1.0</td>\n",
       "      <td>0</td>\n",
       "      <td>0</td>\n",
       "      <td>vakardien vēlu vakarā ar svinīgu pasākumu tika...</td>\n",
       "      <td>vakardien vēlu vakarā svinīgu pasākumu atklāts...</td>\n",
       "    </tr>\n",
       "    <tr>\n",
       "      <th>2</th>\n",
       "      <td>Es ļoti ceru,ka potenciālie Air Baltic investo...</td>\n",
       "      <td>1488297</td>\n",
       "      <td>925794560420311000</td>\n",
       "      <td>2017-11-01T20:39:58</td>\n",
       "      <td>lv</td>\n",
       "      <td>NaN</td>\n",
       "      <td>NaN</td>\n",
       "      <td>NaN</td>\n",
       "      <td>218804015</td>\n",
       "      <td>Artis Pabriks</td>\n",
       "      <td>...</td>\n",
       "      <td>NaN</td>\n",
       "      <td>NaN</td>\n",
       "      <td>576</td>\n",
       "      <td>3</td>\n",
       "      <td>NaN</td>\n",
       "      <td>-1.0</td>\n",
       "      <td>9</td>\n",
       "      <td>2</td>\n",
       "      <td>es ļoti ceruka potenciālie air baltic investor...</td>\n",
       "      <td>es ļoti ceruka potenciālie air baltic investor...</td>\n",
       "    </tr>\n",
       "    <tr>\n",
       "      <th>3</th>\n",
       "      <td>Ar kritisko domāšanu gan joprojām bēdīgi. Piln...</td>\n",
       "      <td>1489818</td>\n",
       "      <td>925045141018218500</td>\n",
       "      <td>2017-10-30T19:02:02</td>\n",
       "      <td>lv</td>\n",
       "      <td>NaN</td>\n",
       "      <td>NaN</td>\n",
       "      <td>NaN</td>\n",
       "      <td>21071644</td>\n",
       "      <td>Andris Rubīns</td>\n",
       "      <td>...</td>\n",
       "      <td>NaN</td>\n",
       "      <td>NaN</td>\n",
       "      <td>319</td>\n",
       "      <td>319</td>\n",
       "      <td>NaN</td>\n",
       "      <td>-1.0</td>\n",
       "      <td>3</td>\n",
       "      <td>2</td>\n",
       "      <td>ar kritisko domāšanu gan joprojām bēdīgi pilns...</td>\n",
       "      <td>kritisko domāšanu joprojām bēdīgi pilns facebo...</td>\n",
       "    </tr>\n",
       "    <tr>\n",
       "      <th>4</th>\n",
       "      <td>Latvijas lidsabiedrība airBaltic sadarbībā ar ...</td>\n",
       "      <td>1490250</td>\n",
       "      <td>925006964135952400</td>\n",
       "      <td>2017-10-30T16:30:20</td>\n",
       "      <td>lv</td>\n",
       "      <td>NaN</td>\n",
       "      <td>NaN</td>\n",
       "      <td>NaN</td>\n",
       "      <td>131562098</td>\n",
       "      <td>Latviesi.com</td>\n",
       "      <td>...</td>\n",
       "      <td>NaN</td>\n",
       "      <td>NaN</td>\n",
       "      <td>453</td>\n",
       "      <td>453</td>\n",
       "      <td>NaN</td>\n",
       "      <td>0.0</td>\n",
       "      <td>0</td>\n",
       "      <td>0</td>\n",
       "      <td>latvijas lidsabiedrība airbaltic sadarbībā ar ...</td>\n",
       "      <td>latvijas lidsabiedrība airbaltic sadarbībā apv...</td>\n",
       "    </tr>\n",
       "  </tbody>\n",
       "</table>\n",
       "<p>5 rows × 24 columns</p>\n",
       "</div>"
      ],
      "text/plain": [
       "                                             message       id  \\\n",
       "0  Tiek vērtēti trīs potenciālie airBaltic invest...  1478404   \n",
       "1  Vakardien, vēlu vakarā, ar svinīgu pasākumu ti...  1486476   \n",
       "2  Es ļoti ceru,ka potenciālie Air Baltic investo...  1488297   \n",
       "3  Ar kritisko domāšanu gan joprojām bēdīgi. Piln...  1489818   \n",
       "4  Latvijas lidsabiedrība airBaltic sadarbībā ar ...  1490250   \n",
       "\n",
       "              tweetId            createdAt language  inReplyToStatusId  \\\n",
       "0  925617390523732000  2017-11-01T08:55:57       lv                NaN   \n",
       "1  924948828318511100  2017-10-30T12:39:20       lv                NaN   \n",
       "2  925794560420311000  2017-11-01T20:39:58       lv                NaN   \n",
       "3  925045141018218500  2017-10-30T19:02:02       lv                NaN   \n",
       "4  925006964135952400  2017-10-30T16:30:20       lv                NaN   \n",
       "\n",
       "   inReplyToUserId  inReplyToScreenName     userId        userName  ...  \\\n",
       "0              NaN                  NaN   24855060  Dienas Bizness  ...   \n",
       "1              NaN                  NaN   44849531  RIGA I Airport  ...   \n",
       "2              NaN                  NaN  218804015   Artis Pabriks  ...   \n",
       "3              NaN                  NaN   21071644   Andris Rubīns  ...   \n",
       "4              NaN                  NaN  131562098    Latviesi.com  ...   \n",
       "\n",
       "  placeType  retweetedId monitoringObjectId1 monitoringObjectId2 queryId  \\\n",
       "0       NaN          NaN                 389                 389     NaN   \n",
       "1       NaN          NaN                 703                 703     NaN   \n",
       "2       NaN          NaN                 576                   3     NaN   \n",
       "3       NaN          NaN                 319                 319     NaN   \n",
       "4       NaN          NaN                 453                 453     NaN   \n",
       "\n",
       "   sentiment  retweetCount  label  \\\n",
       "0        0.0             0      0   \n",
       "1       -1.0             0      0   \n",
       "2       -1.0             9      2   \n",
       "3       -1.0             3      2   \n",
       "4        0.0             0      0   \n",
       "\n",
       "                                       clean_message  \\\n",
       "0  tiek vērtēti trīs potenciālie airbaltic invest...   \n",
       "1  vakardien vēlu vakarā ar svinīgu pasākumu tika...   \n",
       "2  es ļoti ceruka potenciālie air baltic investor...   \n",
       "3  ar kritisko domāšanu gan joprojām bēdīgi pilns...   \n",
       "4  latvijas lidsabiedrība airbaltic sadarbībā ar ...   \n",
       "\n",
       "                                message_no_stopwords  \n",
       "0  vērtēti trīs potenciālie airbaltic investori U...  \n",
       "1  vakardien vēlu vakarā svinīgu pasākumu atklāts...  \n",
       "2  es ļoti ceruka potenciālie air baltic investor...  \n",
       "3  kritisko domāšanu joprojām bēdīgi pilns facebo...  \n",
       "4  latvijas lidsabiedrība airbaltic sadarbībā apv...  \n",
       "\n",
       "[5 rows x 24 columns]"
      ]
     },
     "execution_count": 3,
     "metadata": {},
     "output_type": "execute_result"
    }
   ],
   "source": [
    "allLabeledTweets = pd.read_csv('./tweets/raw/allLabeledTweets.csv')\n",
    "allLabeledTweets['label'] = allLabeledTweets['label'].astype(int)\n",
    "allLabeledTweets['message'] = allLabeledTweets['message'].astype(str)\n",
    "allLabeledTweets.head()"
   ]
  },
  {
   "cell_type": "code",
   "execution_count": 4,
   "id": "f26d2a03",
   "metadata": {},
   "outputs": [
    {
     "data": {
      "text/plain": [
       "0    253\n",
       "2    136\n",
       "1     87\n",
       "Name: label, dtype: int64"
      ]
     },
     "execution_count": 4,
     "metadata": {},
     "output_type": "execute_result"
    }
   ],
   "source": [
    "allLabeledTweets['label'].value_counts()"
   ]
  },
  {
   "cell_type": "markdown",
   "id": "41fe8520",
   "metadata": {},
   "source": [
    "## Hashtags"
   ]
  },
  {
   "cell_type": "code",
   "execution_count": 10,
   "id": "71a79d3e",
   "metadata": {},
   "outputs": [],
   "source": [
    "def flatten(t):\n",
    "    return [item for sublist in t for item in sublist]"
   ]
  },
  {
   "cell_type": "code",
   "execution_count": 12,
   "id": "68662c1a",
   "metadata": {},
   "outputs": [
    {
     "name": "stdout",
     "output_type": "stream",
     "text": [
      "{'#lmt', '#vakance', '#fintech', '#gaismalatvijai', '#maxima', '#latvija', '#teamlatvia', '#futbols', '#circlek', '#lielfans', '#z', '#diena', '#optibetvirsliga', '#dienasbizness', '#akropolisgroup', '#dodpieci', '#depo', '#akropole', '#liepaja', '#politika', '#socentlv', '#zeltakivere', '#labsserviss', '#dus', '#kaija', '#bismartlv', '#kartelis', '#zekurbulis', '#tetaprojekts', '#teirdarbs', '#rekonstrukcija', '#wtf', '#lietuvosenergija', '#aset', '#profesionalaiskretinisms', '#bite', '#melot', '#bicg', '#unlockai', '#drogas', '#rigvsjel', '#optibet', '#swedbank', '#continental', '#lieldraugs', '#nra', '#dpd', '#latvenergo', '#ecb', '#valoda', '#lauvassirds', '#oik', '#veikalsdepo', '#shocking', '#manslmt', '#airbaltic', '#lmtsmartfuture', '#seb', '#huawei', '#dblv', '#olimpiadelv', '#sportovisaklase', '#lvpatriots', '#mangali', '#db', '#lmtstraume', '#namejagredzens', '#lhf'}\n"
     ]
    }
   ],
   "source": [
    "popularHashtags = []\n",
    "\n",
    "for index, row in allLabeledTweets.iterrows():\n",
    "    m = row['message'].lower()\n",
    "    popularHashtags.append(re.findall(r'\\B(\\#[a-zA-Z]+\\b)(?!;)', m))\n",
    "    \n",
    "print(set(flatten(popularHashtags)))"
   ]
  },
  {
   "cell_type": "markdown",
   "id": "29247fd3",
   "metadata": {},
   "source": [
    "## Clean Data"
   ]
  },
  {
   "cell_type": "code",
   "execution_count": 31,
   "id": "5ec7a69f",
   "metadata": {},
   "outputs": [],
   "source": [
    "newLine =\"\\\\n\"\n",
    "urls = '(https?:\\/\\/(?:www\\.|(?!www))[a-zA-Z0-9][a-zA-Z0-9-]+[a-zA-Z0-9]\\.[^\\s]{2,}|www\\.[a-zA-Z0-9][a-zA-Z0-9-]+[a-zA-Z0-9]\\.[^\\s]{2,}|https?:\\/\\/(?:www\\.|(?!www))[a-zA-Z0-9]+\\.[^\\s]{2,}|www\\.[a-zA-Z0-9]+\\.[^\\s]{2,})'\n",
    "numbers = '\\d+((\\.|\\-)\\d+)?'\n",
    "mentions = '\\B\\@([\\w\\-]+)'\n",
    "hashtag = '#'\n",
    "punctuationAfterWord = '(?<=\\s)|(?<=^)|(?<=\\b)(?:[-\\'.%$#&,\\/:!-?`“–&]\\b|\\b[-\\'.%$#&,\\/:!-?`“–&])+(?=\\s|$|\\b)'\n",
    "punctuation = '[(,|.|!|\\-|\\–|\\`|?|:|“|”|►|;|\\'|%|&|@)]'\n",
    "smile = ':\\)|=\\)'\n",
    "frown = ':\\(|=\\('\n",
    "whitespacesOrSlash = '\\s+|\\/'\n",
    "leadTrailWhitespace = '^\\s+|\\s+?$'\n",
    "\n",
    "allLabeledTweets['clean_message'] = allLabeledTweets['message'].str.lower()\n",
    "allLabeledTweets['clean_message'] = allLabeledTweets['clean_message'].str.replace(newLine,' ',regex=True)\n",
    "allLabeledTweets['clean_message'] = allLabeledTweets['clean_message'].str.replace(urls,' URL ',regex=True)\n",
    "allLabeledTweets['clean_message'] = allLabeledTweets['clean_message'].str.replace(mentions,' MENTION ',regex=True)\n",
    "allLabeledTweets['clean_message'] = allLabeledTweets['clean_message'].str.replace(smile,'SMILE',regex=True)\n",
    "allLabeledTweets['clean_message'] = allLabeledTweets['clean_message'].str.replace(frown,'FROWN',regex=True)\n",
    "allLabeledTweets['clean_message'] = allLabeledTweets['clean_message'].str.replace(punctuation,' ',regex=True)\n",
    "allLabeledTweets['clean_message'] = allLabeledTweets['clean_message'].str.replace(numbers,' NMBR ',regex=True)\n",
    "allLabeledTweets['clean_message'] = allLabeledTweets['clean_message'].str.replace(hashtag,' ',regex=True)\n",
    "allLabeledTweets['clean_message'] = allLabeledTweets['clean_message'].str.replace(punctuationAfterWord,'',regex=True)\n",
    "allLabeledTweets['clean_message'] = allLabeledTweets['clean_message'].str.replace(whitespacesOrSlash,' ',regex=True)\n",
    "allLabeledTweets['clean_message'] = allLabeledTweets['clean_message'].str.replace(leadTrailWhitespace,'',regex=True)"
   ]
  },
  {
   "cell_type": "code",
   "execution_count": 32,
   "id": "0284a07d",
   "metadata": {},
   "outputs": [
    {
     "data": {
      "text/html": [
       "<div>\n",
       "<style scoped>\n",
       "    .dataframe tbody tr th:only-of-type {\n",
       "        vertical-align: middle;\n",
       "    }\n",
       "\n",
       "    .dataframe tbody tr th {\n",
       "        vertical-align: top;\n",
       "    }\n",
       "\n",
       "    .dataframe thead th {\n",
       "        text-align: right;\n",
       "    }\n",
       "</style>\n",
       "<table border=\"1\" class=\"dataframe\">\n",
       "  <thead>\n",
       "    <tr style=\"text-align: right;\">\n",
       "      <th></th>\n",
       "      <th>message</th>\n",
       "      <th>id</th>\n",
       "      <th>tweetId</th>\n",
       "      <th>createdAt</th>\n",
       "      <th>language</th>\n",
       "      <th>inReplyToStatusId</th>\n",
       "      <th>inReplyToUserId</th>\n",
       "      <th>inReplyToScreenName</th>\n",
       "      <th>userId</th>\n",
       "      <th>userName</th>\n",
       "      <th>...</th>\n",
       "      <th>placeType</th>\n",
       "      <th>retweetedId</th>\n",
       "      <th>monitoringObjectId1</th>\n",
       "      <th>monitoringObjectId2</th>\n",
       "      <th>queryId</th>\n",
       "      <th>sentiment</th>\n",
       "      <th>retweetCount</th>\n",
       "      <th>label</th>\n",
       "      <th>clean_message</th>\n",
       "      <th>message_no_stopwords</th>\n",
       "    </tr>\n",
       "  </thead>\n",
       "  <tbody>\n",
       "    <tr>\n",
       "      <th>0</th>\n",
       "      <td>Tiek vērtēti trīs potenciālie airBaltic invest...</td>\n",
       "      <td>1478404</td>\n",
       "      <td>925617390523732000</td>\n",
       "      <td>2017-11-01T08:55:57</td>\n",
       "      <td>lv</td>\n",
       "      <td>NaN</td>\n",
       "      <td>NaN</td>\n",
       "      <td>NaN</td>\n",
       "      <td>24855060</td>\n",
       "      <td>Dienas Bizness</td>\n",
       "      <td>...</td>\n",
       "      <td>NaN</td>\n",
       "      <td>NaN</td>\n",
       "      <td>389</td>\n",
       "      <td>389</td>\n",
       "      <td>NaN</td>\n",
       "      <td>0.0</td>\n",
       "      <td>0</td>\n",
       "      <td>0</td>\n",
       "      <td>tiek vērtēti trīs potenciālie airbaltic invest...</td>\n",
       "      <td>vērtēti trīs potenciālie airbaltic investori U...</td>\n",
       "    </tr>\n",
       "    <tr>\n",
       "      <th>1</th>\n",
       "      <td>Vakardien, vēlu vakarā, ar svinīgu pasākumu ti...</td>\n",
       "      <td>1486476</td>\n",
       "      <td>924948828318511100</td>\n",
       "      <td>2017-10-30T12:39:20</td>\n",
       "      <td>lv</td>\n",
       "      <td>NaN</td>\n",
       "      <td>NaN</td>\n",
       "      <td>NaN</td>\n",
       "      <td>44849531</td>\n",
       "      <td>RIGA I Airport</td>\n",
       "      <td>...</td>\n",
       "      <td>NaN</td>\n",
       "      <td>NaN</td>\n",
       "      <td>703</td>\n",
       "      <td>703</td>\n",
       "      <td>NaN</td>\n",
       "      <td>-1.0</td>\n",
       "      <td>0</td>\n",
       "      <td>0</td>\n",
       "      <td>vakardien vēlu vakarā ar svinīgu pasākumu tika...</td>\n",
       "      <td>vakardien vēlu vakarā svinīgu pasākumu atklāts...</td>\n",
       "    </tr>\n",
       "    <tr>\n",
       "      <th>2</th>\n",
       "      <td>Es ļoti ceru,ka potenciālie Air Baltic investo...</td>\n",
       "      <td>1488297</td>\n",
       "      <td>925794560420311000</td>\n",
       "      <td>2017-11-01T20:39:58</td>\n",
       "      <td>lv</td>\n",
       "      <td>NaN</td>\n",
       "      <td>NaN</td>\n",
       "      <td>NaN</td>\n",
       "      <td>218804015</td>\n",
       "      <td>Artis Pabriks</td>\n",
       "      <td>...</td>\n",
       "      <td>NaN</td>\n",
       "      <td>NaN</td>\n",
       "      <td>576</td>\n",
       "      <td>3</td>\n",
       "      <td>NaN</td>\n",
       "      <td>-1.0</td>\n",
       "      <td>9</td>\n",
       "      <td>2</td>\n",
       "      <td>es ļoti ceru ka potenciālie air baltic investo...</td>\n",
       "      <td>es ļoti ceru potenciālie air baltic investori ...</td>\n",
       "    </tr>\n",
       "    <tr>\n",
       "      <th>3</th>\n",
       "      <td>Ar kritisko domāšanu gan joprojām bēdīgi. Piln...</td>\n",
       "      <td>1489818</td>\n",
       "      <td>925045141018218500</td>\n",
       "      <td>2017-10-30T19:02:02</td>\n",
       "      <td>lv</td>\n",
       "      <td>NaN</td>\n",
       "      <td>NaN</td>\n",
       "      <td>NaN</td>\n",
       "      <td>21071644</td>\n",
       "      <td>Andris Rubīns</td>\n",
       "      <td>...</td>\n",
       "      <td>NaN</td>\n",
       "      <td>NaN</td>\n",
       "      <td>319</td>\n",
       "      <td>319</td>\n",
       "      <td>NaN</td>\n",
       "      <td>-1.0</td>\n",
       "      <td>3</td>\n",
       "      <td>2</td>\n",
       "      <td>ar kritisko domāšanu gan joprojām bēdīgi pilns...</td>\n",
       "      <td>kritisko domāšanu joprojām bēdīgi pilns facebo...</td>\n",
       "    </tr>\n",
       "    <tr>\n",
       "      <th>4</th>\n",
       "      <td>Latvijas lidsabiedrība airBaltic sadarbībā ar ...</td>\n",
       "      <td>1490250</td>\n",
       "      <td>925006964135952400</td>\n",
       "      <td>2017-10-30T16:30:20</td>\n",
       "      <td>lv</td>\n",
       "      <td>NaN</td>\n",
       "      <td>NaN</td>\n",
       "      <td>NaN</td>\n",
       "      <td>131562098</td>\n",
       "      <td>Latviesi.com</td>\n",
       "      <td>...</td>\n",
       "      <td>NaN</td>\n",
       "      <td>NaN</td>\n",
       "      <td>453</td>\n",
       "      <td>453</td>\n",
       "      <td>NaN</td>\n",
       "      <td>0.0</td>\n",
       "      <td>0</td>\n",
       "      <td>0</td>\n",
       "      <td>latvijas lidsabiedrība airbaltic sadarbībā ar ...</td>\n",
       "      <td>latvijas lidsabiedrība airbaltic sadarbībā apv...</td>\n",
       "    </tr>\n",
       "  </tbody>\n",
       "</table>\n",
       "<p>5 rows × 24 columns</p>\n",
       "</div>"
      ],
      "text/plain": [
       "                                             message       id  \\\n",
       "0  Tiek vērtēti trīs potenciālie airBaltic invest...  1478404   \n",
       "1  Vakardien, vēlu vakarā, ar svinīgu pasākumu ti...  1486476   \n",
       "2  Es ļoti ceru,ka potenciālie Air Baltic investo...  1488297   \n",
       "3  Ar kritisko domāšanu gan joprojām bēdīgi. Piln...  1489818   \n",
       "4  Latvijas lidsabiedrība airBaltic sadarbībā ar ...  1490250   \n",
       "\n",
       "              tweetId            createdAt language  inReplyToStatusId  \\\n",
       "0  925617390523732000  2017-11-01T08:55:57       lv                NaN   \n",
       "1  924948828318511100  2017-10-30T12:39:20       lv                NaN   \n",
       "2  925794560420311000  2017-11-01T20:39:58       lv                NaN   \n",
       "3  925045141018218500  2017-10-30T19:02:02       lv                NaN   \n",
       "4  925006964135952400  2017-10-30T16:30:20       lv                NaN   \n",
       "\n",
       "   inReplyToUserId  inReplyToScreenName     userId        userName  ...  \\\n",
       "0              NaN                  NaN   24855060  Dienas Bizness  ...   \n",
       "1              NaN                  NaN   44849531  RIGA I Airport  ...   \n",
       "2              NaN                  NaN  218804015   Artis Pabriks  ...   \n",
       "3              NaN                  NaN   21071644   Andris Rubīns  ...   \n",
       "4              NaN                  NaN  131562098    Latviesi.com  ...   \n",
       "\n",
       "  placeType  retweetedId monitoringObjectId1 monitoringObjectId2 queryId  \\\n",
       "0       NaN          NaN                 389                 389     NaN   \n",
       "1       NaN          NaN                 703                 703     NaN   \n",
       "2       NaN          NaN                 576                   3     NaN   \n",
       "3       NaN          NaN                 319                 319     NaN   \n",
       "4       NaN          NaN                 453                 453     NaN   \n",
       "\n",
       "   sentiment  retweetCount  label  \\\n",
       "0        0.0             0      0   \n",
       "1       -1.0             0      0   \n",
       "2       -1.0             9      2   \n",
       "3       -1.0             3      2   \n",
       "4        0.0             0      0   \n",
       "\n",
       "                                       clean_message  \\\n",
       "0  tiek vērtēti trīs potenciālie airbaltic invest...   \n",
       "1  vakardien vēlu vakarā ar svinīgu pasākumu tika...   \n",
       "2  es ļoti ceru ka potenciālie air baltic investo...   \n",
       "3  ar kritisko domāšanu gan joprojām bēdīgi pilns...   \n",
       "4  latvijas lidsabiedrība airbaltic sadarbībā ar ...   \n",
       "\n",
       "                                message_no_stopwords  \n",
       "0  vērtēti trīs potenciālie airbaltic investori U...  \n",
       "1  vakardien vēlu vakarā svinīgu pasākumu atklāts...  \n",
       "2  es ļoti ceru potenciālie air baltic investori ...  \n",
       "3  kritisko domāšanu joprojām bēdīgi pilns facebo...  \n",
       "4  latvijas lidsabiedrība airbaltic sadarbībā apv...  \n",
       "\n",
       "[5 rows x 24 columns]"
      ]
     },
     "execution_count": 32,
     "metadata": {},
     "output_type": "execute_result"
    }
   ],
   "source": [
    "allLabeledTweets.head()"
   ]
  },
  {
   "cell_type": "code",
   "execution_count": 33,
   "id": "81e4a12a",
   "metadata": {},
   "outputs": [],
   "source": [
    "allLabeledTweets.to_csv('./tweets/raw/allLabeledTweets.csv', index=False)"
   ]
  },
  {
   "cell_type": "code",
   "execution_count": 34,
   "id": "37d35a6e",
   "metadata": {},
   "outputs": [
    {
     "name": "stdout",
     "output_type": "stream",
     "text": [
      "['ļaudis', 'sabiedēja', 'ka', 'ļaunais', 'MENTION', 'pie', 'iekāpšanas', 'kratot', 'un', 'sverot', 'pasažierus', 'bagāžas', 'blēņas', 'kā', 'allaž', 'viss', 'absolūti', 'korekti', 'un', 'cieņpilni', 'lieliska', 'lidmašīna', 'glītas', 'un', 'izglītotas', 'stjuartes', 'URL']\n"
     ]
    }
   ],
   "source": [
    "words = word_tokenize(allLabeledTweets.loc[41]['clean_message'])\n",
    "print(words)"
   ]
  },
  {
   "cell_type": "code",
   "execution_count": 35,
   "id": "0977c74a",
   "metadata": {},
   "outputs": [],
   "source": [
    "stopwords_lv = [\"ārpus\", \"šaipus\", \"aiz\", \"ap\", \"apakš\", \"apakšpus\", \"arī\", \"ar\", \"ar\", \"augšpus\", \"būšu\", \"būs\", \"būsi\", \"būsiet\", \"būsim\", \"būt\", \"bet\", \"bez\", \"bijām\", \"bijāt\", \"bija\", \"biji\", \"biju\", \"caur\", \"dēļ\", \"diemžēl\", \"diezin\", \"droši\", \"esam\", \"esat\", \"esi\", \"esmu\", \"gan\", \"gar\", \"iekām\", \"iekāms\", \"iekš\", \"iekšpus\", \"iekam\", \"iekams\", \"ik\", \"ir\", \"it\", \"itin\", \"iz\", \"jā\", \"ja\", \"jau\", \"jebšu\", \"jeb\", \"jel\", \"jo\", \"kā\", \"kļūšu\", \"kļūs\", \"kļūsi\", \"kļūsiet\", \"kļūsim\", \"kļūst\", \"kļūstam\tkļūstat\", \"kļūsti\", \"kļūstu\", \"kļūt\", \"kļuvām\", \"kļuvāt\", \"kļuva\", \"kļuvi\", \"kļuvu\", \"ka\", \"kamēr\", \"kaut\", \"kolīdz\", \"kopš\", \"līdz\", \"līdzko\", \"labad\", \"lai\", \"lejpus\", \"nē\", \"ne\", \"nebūt\", \"nedz\", \"nekā\", \"nevis\", \"nezin\", \"no\", \"nu\", \"otrpus\", \"pār\", \"pēc\", \"pa\", \"par\", \"pat\", \"pie\", \"pirms\", \"pret\", \"priekš\", \"starp\", \"tā\", \"tādēļ\", \"tālab\", \"tāpēc\", \"taču\", \"tad\", \"tak\", \"tapāt\", \"tapšu\", \"tapi\", \"taps\", \"tapsi\", \"tapsiet\", \"tapsim\", \"tapt\", \"te\", \"tiec\", \"tiek\", \"tiekam\", \"tiekat\", \"tieku\ttikām\", \"tikāt\", \"tikšu\", \"tik\", \"tika\", \"tikai\", \"tiki\", \"tikko\", \"tiklīdz\", \"tiklab\", \"tiks\", \"tiksiet\", \"tiksim\", \"tikt\", \"tiku\", \"tikvien\", \"tomēr\", \"topat\", \"turpretī\", \"turpretim\", \"un\", \"uz\", \"vai\", \"varēšu\", \"varējām\", \"varējāt\", \"varēja\", \"varēji\", \"varēju\", \"varēs\", \"varēsi\", \"varēsiet\", \"varēsim\", \"varēt\", \"var\", \"varat\", \"viņpus\", \"vien\", \"vien\", \"virs\", \"virspus\", \"vis\", \"zem\"]\n",
    "message_no_stopwords=[]\n",
    "\n",
    "for message in allLabeledTweets.clean_message:\n",
    "    text_tokens = word_tokenize(message)\n",
    "    tokens_without_stop_words = [word for word in text_tokens if not word in stopwords_lv]\n",
    "    message_no_stopwords.append((\" \").join(tokens_without_stop_words))\n",
    "\n",
    "allLabeledTweets['message_no_stopwords'] = message_no_stopwords"
   ]
  },
  {
   "cell_type": "code",
   "execution_count": 36,
   "id": "7f44258c",
   "metadata": {},
   "outputs": [
    {
     "name": "stdout",
     "output_type": "stream",
     "text": [
      "Tiešraide jau pēc 15 minūtēm!\n",
      "\n",
      "HK Prizma - HK Zemgale/LU \n",
      "Optibet hokeja līga\n",
      "\n",
      "Skaties spēli šeit - https://t.co/RvtA1bPWF7 https://t.co/21nbpZtHd9\n",
      "tiešraide jau pēc NMBR minūtēm hk prizma hk zemgale lu optibet hokeja līga skaties spēli šeit URL URL\n",
      "tiešraide NMBR minūtēm hk prizma hk zemgale lu optibet hokeja līga skaties spēli šeit URL URL\n",
      "0\n"
     ]
    }
   ],
   "source": [
    "print(allLabeledTweets.loc[345]['message'])\n",
    "print(allLabeledTweets.loc[345]['clean_message'])\n",
    "print(allLabeledTweets.loc[345]['message_no_stopwords'])\n",
    "print(allLabeledTweets.loc[345]['label'])\n",
    "allLabeledTweets.to_csv('./tweets/raw/allLabeledTweets.csv', index=False)"
   ]
  },
  {
   "cell_type": "markdown",
   "id": "0829464b",
   "metadata": {},
   "source": [
    "## Features"
   ]
  },
  {
   "cell_type": "code",
   "execution_count": 68,
   "id": "7ceade76",
   "metadata": {},
   "outputs": [],
   "source": [
    "# def getWordFrequency(processedTweetOutputFile):\n",
    "#     tweets = pd.read_csv(processedTweetOutputFile)\n",
    "\n",
    "#     allPostsConcat = ''\n",
    "#     for tweet in tweets.message_no_stopwords:\n",
    "#         if(type(tweet)==str):\n",
    "#             allPostsConcat+=' '+ tweet\n",
    "\n",
    "#     # create bag-of-words\n",
    "#     all_words = []\n",
    "\n",
    "#     words = word_tokenize(allPostsConcat)\n",
    "#     for word in words:\n",
    "#         if word!='``':\n",
    "#             all_words.append(word)\n",
    "\n",
    "#     all_words = nltk.FreqDist(all_words)\n",
    "    \n",
    "#     return all_words"
   ]
  },
  {
   "cell_type": "code",
   "execution_count": 41,
   "id": "4eb1f437",
   "metadata": {},
   "outputs": [],
   "source": [
    "def getWordFrequencyWithoutBrands(processedTweetOutputFile):\n",
    "    tweets = pd.read_csv(processedTweetOutputFile)\n",
    "\n",
    "    allPostsConcat = ''\n",
    "    for tweet in tweets.message_no_stopwords:\n",
    "        if(type(tweet)==str):\n",
    "            allPostsConcat+=' '+ tweet\n",
    "\n",
    "    # create bag-of-words\n",
    "    all_words = []\n",
    "\n",
    "    words = word_tokenize(allPostsConcat)\n",
    "    words = [word for word in words if not word in brands]\n",
    "    for word in words:\n",
    "        if word!='``' and len(word)>2:\n",
    "            all_words.append(word)\n",
    "\n",
    "    all_words = nltk.FreqDist(all_words)\n",
    "    \n",
    "    return all_words"
   ]
  },
  {
   "cell_type": "code",
   "execution_count": 70,
   "id": "2dfbaebd",
   "metadata": {},
   "outputs": [
    {
     "name": "stdout",
     "output_type": "stream",
     "text": [
      "Number of words: 3869\n",
      "Most common words: [('URL', 509), ('MENTION', 328), ('NMBR', 196), ('latvenergo', 59), ('lmt', 45), ('bite', 43), ('kas', 41), ('kopā', 40), ('latvijas', 39), ('vēl', 39), ('nav', 34), ('lieliskamūzika', 34), ('rimi', 33), ('airbaltic', 28), ('to', 28), ('optibet', 28), ('lhf', 25), ('kopāspēks', 24), ('tiešraide', 24), ('spēli', 24), ('maxima', 23), ('es', 22), ('tas', 22), ('šeit', 22), ('the', 20), ('lielfans', 19), ('tagad', 18), ('man', 17), ('šodien', 17), ('hokeja', 16), ('ļoti', 15), ('rīgas', 15), ('mūsu', 15), ('līgaskaties', 15), ('kad', 14), ('eiro', 14), ('gada', 13), ('izlase', 12), ('oik', 12), ('vairāk', 11), ('dienasbizness', 11), ('ielā', 11), ('tv', 11), ('kur', 10), ('darbinieku', 10), ('minūtēm', 10), ('latvija', 10), ('ko', 10), ('vietas', 9), ('varētu', 9), ('kāpēc', 9), ('kāds', 9), ('valsts', 9), ('lauvassirds', 9), ('paldies', 9), ('rīgā', 9), ('telpu', 9), ('depo', 9), ('darbu', 9), ('jaunajā', 9), ('nevar', 8), ('visu', 8), ('dblv', 8), ('bankas', 8), ('drogas', 8), ('elektrības', 8), ('zālē', 8), ('swedbank', 8), ('neko', 7), ('kāda', 7), ('interesanti', 7), ('iespējams', 7), ('tiešām', 7), ('dienu', 7), ('mums', 7), ('šī', 7), ('cenas', 7), ('pērn', 7), ('mačā', 7), ('saņem', 7), ('5g', 7), ('jums', 7), ('latvijā', 7), ('elektrību', 7), ('savu', 7), ('šo', 7), ('diena', 7), ('seb', 7), ('klientiem', 6), ('labi', 6), ('reizi', 6), ('u20', 6), ('foto', 6), ('billy', 6), ('u2', 6), ('citadele', 6), ('valdes', 6), ('ūdens', 6), ('miljonus', 6), ('enerģētikas', 6)]\n"
     ]
    }
   ],
   "source": [
    "# freqWords = getWordFrequency('./tweets/raw/allLabeledTweets.csv')\n",
    "\n",
    "# # print the total number of words and the 100 most common words\n",
    "# print('Number of words: {}'.format(len(freqWords)))\n",
    "# print('Most common words: {}'.format(freqWords.most_common(100)))\n",
    "\n",
    "# word_features = list(freqWords.keys())[:1500]\n",
    "\n",
    "# # save word_features to file\n",
    "# filename = './data/wordFeatures.data'\n",
    "# pickle.dump(word_features, open(filename, 'wb'))"
   ]
  },
  {
   "cell_type": "code",
   "execution_count": 42,
   "id": "cda2f787",
   "metadata": {},
   "outputs": [
    {
     "name": "stdout",
     "output_type": "stream",
     "text": [
      "Number of words: 3696\n",
      "Most common words: [('URL', 510), ('NMBR', 377), ('MENTION', 329), ('kas', 41), ('vēl', 40), ('kopā', 40), ('latvijas', 39), ('nav', 34), ('lieliskamūzika', 34), ('skaties', 31), ('tiešraide', 26), ('lhf', 25), ('kopāspēks', 24), ('spēli', 24), ('tas', 22), ('šeit', 22), ('the', 20), ('lielfans', 19), ('minūtēm', 19), ('tagad', 18), ('man', 17), ('šodien', 17), ('hokeja', 16), ('ļoti', 15), ('rīgas', 15), ('mūsu', 15), ('oik', 15), ('līga', 15), ('kad', 14), ('eiro', 14), ('gada', 13), ('izlase', 12), ('vairāk', 11), ('dienasbizness', 11), ('ielā', 11), ('kur', 10), ('darbinieku', 10), ('latvija', 10), ('amp', 10), ('vietas', 9), ('varētu', 9), ('kāpēc', 9), ('kāds', 9), ('valsts', 9), ('lauvassirds', 9), ('paldies', 9), ('rīgā', 9), ('telpu', 9), ('darbu', 9), ('jaunajā', 9), ('zālē', 9), ('virslīga', 9), ('nevar', 8), ('neko', 8), ('visu', 8), ('jums', 8), ('dblv', 8), ('bankas', 8), ('elektrības', 8), ('kāda', 7), ('interesanti', 7), ('eur', 7), ('SMILE', 7), ('iespējams', 7), ('tiešām', 7), ('dienu', 7), ('mums', 7), ('cenas', 7), ('pērn', 7), ('mačā', 7), ('saņem', 7), ('latvijā', 7), ('elektrību', 7), ('savu', 7), ('diena', 7), ('apvienošanu', 7), ('futbolā', 7), ('klientiem', 6), ('labi', 6), ('reizi', 6), ('foto', 6), ('billy', 6), ('valdes', 6), ('ūdens', 6), ('miljonus', 6), ('enerģētikas', 6), ('būtu', 6), ('tec', 6), ('prezidents', 6), ('lattelecom', 6), ('ielas', 6), ('šovakar', 6), ('binde', 6), ('lielveikala', 6), ('ltfa', 6), ('prizma', 6), ('daudz', 5), ('tieši', 5), ('rokas', 5), ('kādu', 5)]\n"
     ]
    }
   ],
   "source": [
    "freqWordsWithoutBrands = getWordFrequencyWithoutBrands('./tweets/raw/allLabeledTweets.csv')\n",
    "\n",
    "# print the total number of words and the 100 most common words\n",
    "print('Number of words: {}'.format(len(freqWordsWithoutBrands)))\n",
    "print('Most common words: {}'.format(freqWordsWithoutBrands.most_common(100)))\n",
    "\n",
    "word_features_without_brands = list(freqWordsWithoutBrands.keys())[:1500]\n",
    "\n",
    "# save word_features to file\n",
    "filename = './data/wordFeaturesWithoutBrands.data'\n",
    "pickle.dump(word_features_without_brands, open(filename, 'wb'))"
   ]
  },
  {
   "cell_type": "code",
   "execution_count": 72,
   "id": "e4dad4a0",
   "metadata": {},
   "outputs": [
    {
     "data": {
      "image/png": "[encoded data removed]",
      "text/plain": [
       "<Figure size 1080x720 with 1 Axes>"
      ]
     },
     "metadata": {
      "needs_background": "light"
     },
     "output_type": "display_data"
    }
   ],
   "source": [
    "# import matplotlib.pyplot as plt\n",
    "# plt.figure(figsize=(15,10))\n",
    "# freqWords.plot(30,cumulative=False)\n",
    "# plt.show()"
   ]
  },
  {
   "cell_type": "code",
   "execution_count": 43,
   "id": "639a66bf",
   "metadata": {},
   "outputs": [
    {
     "data": {
      "image/png": "[encoded data removed]",
      "text/plain": [
       "<Figure size 1080x720 with 1 Axes>"
      ]
     },
     "metadata": {
      "needs_background": "light"
     },
     "output_type": "display_data"
    }
   ],
   "source": [
    "import matplotlib.pyplot as plt\n",
    "plt.figure(figsize=(15,10))\n",
    "freqWordsWithoutBrands.plot(30,cumulative=False)\n",
    "plt.show()"
   ]
  },
  {
   "cell_type": "markdown",
   "id": "323fd73c",
   "metadata": {},
   "source": [
    "# Train"
   ]
  },
  {
   "cell_type": "code",
   "execution_count": 74,
   "id": "42e985e0",
   "metadata": {},
   "outputs": [],
   "source": [
    "# # function to find features in every post\n",
    "# def find_features(post):\n",
    "#     words = word_tokenize(post)\n",
    "#     features = {}\n",
    "#     for word in word_features:\n",
    "#         features[word] = (word in words)\n",
    "#     return features"
   ]
  },
  {
   "cell_type": "code",
   "execution_count": 75,
   "id": "1926fead",
   "metadata": {},
   "outputs": [
    {
     "name": "stdout",
     "output_type": "stream",
     "text": [
      "476\n",
      "357\n",
      "119\n"
     ]
    }
   ],
   "source": [
    "# tweets_all = list(zip(allLabeledTweets.loc[:,\"message_no_stopwords\"].values,allLabeledTweets.loc[:,\"label\"].values))\n",
    "\n",
    "# featuresets = [(find_features(text), label) for (text, label) in tweets_all]\n",
    "\n",
    "# from sklearn import model_selection\n",
    "\n",
    "# # split the data into training and testing datasets\n",
    "# seed = 1\n",
    "# training, testing = model_selection.train_test_split(featuresets, test_size = 0.1, random_state=seed)\n",
    "\n",
    "# print(len(allLabeledTweets))\n",
    "# print(len(training))\n",
    "# print(len(testing))\n",
    "\n",
    "# # save testing and training data to file\n",
    "# filename = './data/testing_tweets.data'\n",
    "# pickle.dump(testing, open(filename, 'wb'))\n",
    "\n",
    "# filename = './data/training_tweets.data'\n",
    "# pickle.dump(training, open(filename, 'wb'))"
   ]
  },
  {
   "cell_type": "code",
   "execution_count": 76,
   "id": "d84aa0e0",
   "metadata": {},
   "outputs": [
    {
     "name": "stdout",
     "output_type": "stream",
     "text": [
      "K Nearest Neighbors Accuracy: 53.78151260504202\n",
      "Decision Tree Accuracy: 65.54621848739495\n",
      "Random Forest Accuracy: 63.02521008403361\n",
      "Logistic Regression Accuracy: 65.54621848739495\n",
      "SGD Classifier Accuracy: 57.98319327731093\n",
      "Naive Bayes Accuracy: 63.86554621848739\n",
      "SVM Linear Accuracy: 61.34453781512605\n"
     ]
    }
   ],
   "source": [
    "# from nltk.classify.scikitlearn import SklearnClassifier\n",
    "# from sklearn.neighbors import KNeighborsClassifier\n",
    "# from sklearn.tree import DecisionTreeClassifier\n",
    "# from sklearn.ensemble import RandomForestClassifier\n",
    "# from sklearn.linear_model import LogisticRegression, SGDClassifier\n",
    "# from sklearn.naive_bayes import MultinomialNB\n",
    "# from sklearn.svm import SVC\n",
    "# from sklearn.metrics import classification_report, accuracy_score, confusion_matrix\n",
    "\n",
    "# # Define models to train\n",
    "# names = [\"K Nearest Neighbors\", \"Decision Tree\", \"Random Forest\", \"Logistic Regression\", \"SGD Classifier\",\n",
    "#          \"Naive Bayes\", \"SVM Linear\"]\n",
    "\n",
    "# classifiers = [\n",
    "#     KNeighborsClassifier(),\n",
    "#     DecisionTreeClassifier(),\n",
    "#     RandomForestClassifier(),\n",
    "#     LogisticRegression(solver='lbfgs', max_iter=1000),\n",
    "#     SGDClassifier(max_iter = 100),\n",
    "#     MultinomialNB(),\n",
    "#     SVC(kernel = 'linear')\n",
    "# ]\n",
    "\n",
    "# models = zip(names, classifiers)\n",
    "\n",
    "# for name, model in models:\n",
    "#     nltk_model = SklearnClassifier(model)\n",
    "#     nltk_model.train(training)\n",
    "#     accuracy = nltk.classify.accuracy(nltk_model, testing)*100\n",
    "#     print(\"{} Accuracy: {}\".format(name, accuracy))"
   ]
  },
  {
   "cell_type": "code",
   "execution_count": 77,
   "id": "adce354e",
   "metadata": {},
   "outputs": [
    {
     "name": "stdout",
     "output_type": "stream",
     "text": [
      "Voting Classifier: Accuracy: 61.34453781512605\n"
     ]
    }
   ],
   "source": [
    "# # Ensemble methods - Voting classifier\n",
    "# from sklearn.ensemble import VotingClassifier\n",
    "\n",
    "# names = [\"K Nearest Neighbors\", \"Decision Tree\", \"Random Forest\", \"Logistic Regression\", \"SGD Classifier\",\n",
    "#          \"Naive Bayes\", \"SVM Linear\"]\n",
    "\n",
    "# classifiers = [\n",
    "#     KNeighborsClassifier(),\n",
    "#     DecisionTreeClassifier(),\n",
    "#     RandomForestClassifier(),\n",
    "#     LogisticRegression(),\n",
    "#     SGDClassifier(max_iter = 100),\n",
    "#     MultinomialNB(),\n",
    "#     SVC(kernel = 'linear')\n",
    "# ]\n",
    "\n",
    "# models = list(zip(names, classifiers))\n",
    "\n",
    "# nltk_ensemble = SklearnClassifier(VotingClassifier(estimators = models, voting = 'hard', n_jobs = -1))\n",
    "# nltk_ensemble.train(training)\n",
    "# accuracy = nltk.classify.accuracy(nltk_model, testing)*100\n",
    "# print(\"Voting Classifier: Accuracy: {}\".format(accuracy))"
   ]
  },
  {
   "cell_type": "code",
   "execution_count": 78,
   "id": "bf52bcbf",
   "metadata": {},
   "outputs": [
    {
     "name": "stdout",
     "output_type": "stream",
     "text": [
      "              precision    recall  f1-score   support\n",
      "\n",
      "           0       0.66      0.89      0.75        64\n",
      "           1       0.38      0.25      0.30        20\n",
      "           2       0.68      0.37      0.48        35\n",
      "\n",
      "    accuracy                           0.63       119\n",
      "   macro avg       0.57      0.50      0.51       119\n",
      "weighted avg       0.62      0.63      0.60       119\n",
      "\n"
     ]
    },
    {
     "data": {
      "text/html": [
       "<div>\n",
       "<style scoped>\n",
       "    .dataframe tbody tr th:only-of-type {\n",
       "        vertical-align: middle;\n",
       "    }\n",
       "\n",
       "    .dataframe tbody tr th {\n",
       "        vertical-align: top;\n",
       "    }\n",
       "\n",
       "    .dataframe thead th {\n",
       "        text-align: right;\n",
       "    }\n",
       "</style>\n",
       "<table border=\"1\" class=\"dataframe\">\n",
       "  <thead>\n",
       "    <tr style=\"text-align: right;\">\n",
       "      <th></th>\n",
       "      <th>0</th>\n",
       "      <th>1</th>\n",
       "      <th>2</th>\n",
       "    </tr>\n",
       "  </thead>\n",
       "  <tbody>\n",
       "    <tr>\n",
       "      <th>0</th>\n",
       "      <td>57</td>\n",
       "      <td>3</td>\n",
       "      <td>4</td>\n",
       "    </tr>\n",
       "    <tr>\n",
       "      <th>1</th>\n",
       "      <td>13</td>\n",
       "      <td>5</td>\n",
       "      <td>2</td>\n",
       "    </tr>\n",
       "    <tr>\n",
       "      <th>2</th>\n",
       "      <td>17</td>\n",
       "      <td>5</td>\n",
       "      <td>13</td>\n",
       "    </tr>\n",
       "  </tbody>\n",
       "</table>\n",
       "</div>"
      ],
      "text/plain": [
       "    0  1   2\n",
       "0  57  3   4\n",
       "1  13  5   2\n",
       "2  17  5  13"
      ]
     },
     "execution_count": 78,
     "metadata": {},
     "output_type": "execute_result"
    }
   ],
   "source": [
    "# # make class label prediction for testing set\n",
    "# txt_features, labels = zip(*testing)\n",
    "\n",
    "# prediction = nltk_ensemble.classify_many(txt_features)\n",
    "\n",
    "# # print a confusion matrix and a classification report\n",
    "# print(classification_report(labels, prediction))\n",
    "\n",
    "# pd.DataFrame(\n",
    "#     confusion_matrix(labels, prediction))"
   ]
  },
  {
   "cell_type": "code",
   "execution_count": 79,
   "id": "03a5486e",
   "metadata": {},
   "outputs": [],
   "source": [
    "# # save the model to disk\n",
    "# filename = './models/model_votingClassifier_with_brands.sav'\n",
    "# pickle.dump(nltk_ensemble, open(filename, 'wb'))"
   ]
  },
  {
   "cell_type": "code",
   "execution_count": 44,
   "id": "fa6ca029",
   "metadata": {},
   "outputs": [],
   "source": [
    "# function to find features in every post\n",
    "def find_features_no_brands(post):\n",
    "    words = word_tokenize(post)\n",
    "    features = {}\n",
    "    for word in word_features_without_brands:\n",
    "        features[word] = (word in words)\n",
    "    return features"
   ]
  },
  {
   "cell_type": "code",
   "execution_count": 45,
   "id": "e32cbb5c",
   "metadata": {},
   "outputs": [
    {
     "name": "stdout",
     "output_type": "stream",
     "text": [
      "476\n",
      "428\n",
      "48\n"
     ]
    }
   ],
   "source": [
    "tweets_all = list(zip(allLabeledTweets.loc[:,\"message_no_stopwords\"].values,allLabeledTweets.loc[:,\"label\"].values))\n",
    "featuresets = [(find_features_no_brands(text), label) for (text, label) in tweets_all]\n",
    "\n",
    "from sklearn import model_selection\n",
    "\n",
    "# split the data into training and testing datasets\n",
    "seed = 1\n",
    "training, testing = model_selection.train_test_split(featuresets, test_size = 0.1, random_state=seed)\n",
    "\n",
    "print(len(allLabeledTweets))\n",
    "print(len(training))\n",
    "print(len(testing))\n",
    "\n",
    "# save testing and training data to file\n",
    "filename = './data/testing_tweets_no_brands.data'\n",
    "pickle.dump(testing, open(filename, 'wb'))\n",
    "\n",
    "filename = './data/training_tweets_no_brands.data'\n",
    "pickle.dump(training, open(filename, 'wb'))"
   ]
  },
  {
   "cell_type": "code",
   "execution_count": 46,
   "id": "c43dc780",
   "metadata": {},
   "outputs": [
    {
     "name": "stdout",
     "output_type": "stream",
     "text": [
      "K Nearest Neighbors Accuracy: 54.166666666666664\n",
      "Decision Tree Accuracy: 64.58333333333334\n",
      "Random Forest Accuracy: 62.5\n",
      "Logistic Regression Accuracy: 62.5\n",
      "SGD Classifier Accuracy: 60.416666666666664\n",
      "Naive Bayes Accuracy: 62.5\n",
      "SVM Linear Accuracy: 64.58333333333334\n"
     ]
    }
   ],
   "source": [
    "from nltk.classify.scikitlearn import SklearnClassifier\n",
    "from sklearn.neighbors import KNeighborsClassifier\n",
    "from sklearn.tree import DecisionTreeClassifier\n",
    "from sklearn.ensemble import RandomForestClassifier\n",
    "from sklearn.linear_model import LogisticRegression, SGDClassifier\n",
    "from sklearn.naive_bayes import MultinomialNB\n",
    "from sklearn.svm import SVC\n",
    "from sklearn.metrics import classification_report, accuracy_score, confusion_matrix\n",
    "\n",
    "# Define models to train\n",
    "names = [\"K Nearest Neighbors\", \"Decision Tree\", \"Random Forest\", \"Logistic Regression\", \"SGD Classifier\",\n",
    "         \"Naive Bayes\", \"SVM Linear\"]\n",
    "\n",
    "classifiers = [\n",
    "    KNeighborsClassifier(),\n",
    "    DecisionTreeClassifier(),\n",
    "    RandomForestClassifier(),\n",
    "    LogisticRegression(solver='lbfgs', max_iter=1000),\n",
    "    SGDClassifier(max_iter = 100),\n",
    "    MultinomialNB(),\n",
    "    SVC(kernel = 'linear')\n",
    "]\n",
    "\n",
    "models = zip(names, classifiers)\n",
    "\n",
    "for name, model in models:\n",
    "    nltk_model = SklearnClassifier(model)\n",
    "    nltk_model.train(training)\n",
    "    accuracy = nltk.classify.accuracy(nltk_model, testing)*100\n",
    "    print(\"{} Accuracy: {}\".format(name, accuracy))"
   ]
  },
  {
   "cell_type": "code",
   "execution_count": 47,
   "id": "dda283b5",
   "metadata": {},
   "outputs": [
    {
     "name": "stdout",
     "output_type": "stream",
     "text": [
      "Voting Classifier: Accuracy: 64.58333333333334\n"
     ]
    }
   ],
   "source": [
    "# Ensemble methods - Voting classifier\n",
    "from sklearn.ensemble import VotingClassifier\n",
    "\n",
    "names = [\"K Nearest Neighbors\", \"Decision Tree\", \"Random Forest\", \"Logistic Regression\", \"SGD Classifier\",\n",
    "         \"Naive Bayes\", \"SVM Linear\"]\n",
    "\n",
    "classifiers = [\n",
    "    KNeighborsClassifier(),\n",
    "    DecisionTreeClassifier(),\n",
    "    RandomForestClassifier(),\n",
    "    LogisticRegression(),\n",
    "    SGDClassifier(max_iter = 100),\n",
    "    MultinomialNB(),\n",
    "    SVC(kernel = 'linear')\n",
    "]\n",
    "\n",
    "models = list(zip(names, classifiers))\n",
    "\n",
    "nltk_ensemble = SklearnClassifier(VotingClassifier(estimators = models, voting = 'hard', n_jobs = -1))\n",
    "nltk_ensemble.train(training)\n",
    "accuracy = nltk.classify.accuracy(nltk_model, testing)*100\n",
    "print(\"Voting Classifier: Accuracy: {}\".format(accuracy))"
   ]
  },
  {
   "cell_type": "code",
   "execution_count": 49,
   "id": "58044056",
   "metadata": {},
   "outputs": [
    {
     "name": "stdout",
     "output_type": "stream",
     "text": [
      "              precision    recall  f1-score   support\n",
      "\n",
      "           0       0.58      0.91      0.71        23\n",
      "           1       1.00      0.20      0.33        10\n",
      "           2       0.70      0.47      0.56        15\n",
      "\n",
      "    accuracy                           0.62        48\n",
      "   macro avg       0.76      0.53      0.54        48\n",
      "weighted avg       0.71      0.62      0.59        48\n",
      "\n"
     ]
    },
    {
     "data": {
      "text/html": [
       "<div>\n",
       "<style scoped>\n",
       "    .dataframe tbody tr th:only-of-type {\n",
       "        vertical-align: middle;\n",
       "    }\n",
       "\n",
       "    .dataframe tbody tr th {\n",
       "        vertical-align: top;\n",
       "    }\n",
       "\n",
       "    .dataframe thead tr th {\n",
       "        text-align: left;\n",
       "    }\n",
       "</style>\n",
       "<table border=\"1\" class=\"dataframe\">\n",
       "  <thead>\n",
       "    <tr>\n",
       "      <th></th>\n",
       "      <th></th>\n",
       "      <th colspan=\"3\" halign=\"left\">predicted</th>\n",
       "    </tr>\n",
       "    <tr>\n",
       "      <th></th>\n",
       "      <th></th>\n",
       "      <th>neutral</th>\n",
       "      <th>positive</th>\n",
       "      <th>negative</th>\n",
       "    </tr>\n",
       "  </thead>\n",
       "  <tbody>\n",
       "    <tr>\n",
       "      <th rowspan=\"3\" valign=\"top\">actual</th>\n",
       "      <th>neutral</th>\n",
       "      <td>21</td>\n",
       "      <td>0</td>\n",
       "      <td>2</td>\n",
       "    </tr>\n",
       "    <tr>\n",
       "      <th>positive</th>\n",
       "      <td>7</td>\n",
       "      <td>2</td>\n",
       "      <td>1</td>\n",
       "    </tr>\n",
       "    <tr>\n",
       "      <th>negative</th>\n",
       "      <td>8</td>\n",
       "      <td>0</td>\n",
       "      <td>7</td>\n",
       "    </tr>\n",
       "  </tbody>\n",
       "</table>\n",
       "</div>"
      ],
      "text/plain": [
       "                predicted                  \n",
       "                  neutral positive negative\n",
       "actual neutral         21        0        2\n",
       "       positive         7        2        1\n",
       "       negative         8        0        7"
      ]
     },
     "execution_count": 49,
     "metadata": {},
     "output_type": "execute_result"
    }
   ],
   "source": [
    "# make class label prediction for testing set\n",
    "txt_features, labels = zip(*testing)\n",
    "\n",
    "prediction = nltk_ensemble.classify_many(txt_features)\n",
    "\n",
    "# print a confusion matrix and a classification report\n",
    "print(classification_report(labels, prediction))\n",
    "\n",
    "pd.DataFrame(\n",
    "    confusion_matrix(labels, prediction),\n",
    "    index = [['actual', 'actual', 'actual'], ['neutral', 'positive', 'negative']],\n",
    "    columns = [['predicted', 'predicted', 'predicted'], ['neutral', 'positive', 'negative']])"
   ]
  },
  {
   "cell_type": "markdown",
   "id": "ef6d7077",
   "metadata": {},
   "source": [
    "## Try Even label distribution"
   ]
  },
  {
   "cell_type": "code",
   "execution_count": 74,
   "id": "1f8a1f71",
   "metadata": {},
   "outputs": [
    {
     "name": "stdout",
     "output_type": "stream",
     "text": [
      "476\n",
      "428\n",
      "48\n"
     ]
    }
   ],
   "source": [
    "tweets_all = list(zip(allLabeledTweets.loc[:,\"message_no_stopwords\"].values,allLabeledTweets.loc[:,\"label\"].values))\n",
    "featuresets = [(find_features_no_brands(text), label) for (text, label) in tweets_all]\n",
    "\n",
    "from sklearn import model_selection\n",
    "\n",
    "# split the data into training and testing datasets\n",
    "seed = 1\n",
    "training, testing = model_selection.train_test_split(featuresets, test_size = 0.1, random_state=seed)\n",
    "\n",
    "print(len(allLabeledTweets))\n",
    "print(len(training))\n",
    "print(len(testing))"
   ]
  },
  {
   "cell_type": "code",
   "execution_count": 75,
   "id": "51461967",
   "metadata": {},
   "outputs": [
    {
     "data": {
      "image/png": "[encoded data removed]",
      "text/plain": [
       "<Figure size 432x288 with 1 Axes>"
      ]
     },
     "metadata": {
      "needs_background": "light"
     },
     "output_type": "display_data"
    }
   ],
   "source": [
    "train_neutral = [i for i in training if i[1]==0]\n",
    "train_positive = [i for i in training if i[1]==1]\n",
    "train_negative = [i for i in training if i[1]==2]\n",
    "\n",
    "pd.DataFrame(dict(\n",
    "  neutral=[len(train_neutral)],\n",
    "  positive=[len(train_positive)],\n",
    "  negative=[len(train_negative)]  \n",
    ")).plot(kind='barh');"
   ]
  },
  {
   "cell_type": "code",
   "execution_count": 76,
   "id": "f3396dff",
   "metadata": {},
   "outputs": [
    {
     "data": {
      "text/plain": [
       "(197, 48)"
      ]
     },
     "execution_count": 76,
     "metadata": {},
     "output_type": "execute_result"
    }
   ],
   "source": [
    "from random import sample\n",
    "\n",
    "training = flatten([\n",
    "    sample(train_neutral,60),\n",
    "    train_positive,\n",
    "    sample(train_negative,60)])\n",
    "\n",
    "len(training), len(testing)"
   ]
  },
  {
   "cell_type": "code",
   "execution_count": 77,
   "id": "a3fd7f5a",
   "metadata": {},
   "outputs": [
    {
     "name": "stdout",
     "output_type": "stream",
     "text": [
      "K Nearest Neighbors Accuracy: 47.91666666666667\n",
      "Decision Tree Accuracy: 64.58333333333334\n",
      "Random Forest Accuracy: 54.166666666666664\n",
      "Logistic Regression Accuracy: 58.333333333333336\n",
      "SGD Classifier Accuracy: 56.25\n",
      "Naive Bayes Accuracy: 60.416666666666664\n",
      "SVM Linear Accuracy: 52.083333333333336\n"
     ]
    }
   ],
   "source": [
    "# Define models to train\n",
    "names = [\"K Nearest Neighbors\", \"Decision Tree\", \"Random Forest\", \"Logistic Regression\", \"SGD Classifier\",\n",
    "         \"Naive Bayes\", \"SVM Linear\"]\n",
    "\n",
    "classifiers = [\n",
    "    KNeighborsClassifier(),\n",
    "    DecisionTreeClassifier(),\n",
    "    RandomForestClassifier(),\n",
    "    LogisticRegression(solver='lbfgs', max_iter=1000),\n",
    "    SGDClassifier(max_iter = 100),\n",
    "    MultinomialNB(),\n",
    "    SVC(kernel = 'linear')\n",
    "]\n",
    "\n",
    "models = zip(names, classifiers)\n",
    "\n",
    "for name, model in models:\n",
    "    nltk_model = SklearnClassifier(model)\n",
    "    nltk_model.train(training)\n",
    "    accuracy = nltk.classify.accuracy(nltk_model, testing)*100\n",
    "    print(\"{} Accuracy: {}\".format(name, accuracy))"
   ]
  },
  {
   "cell_type": "code",
   "execution_count": 78,
   "id": "b9b5c311",
   "metadata": {},
   "outputs": [
    {
     "name": "stdout",
     "output_type": "stream",
     "text": [
      "Voting Classifier: Accuracy: 52.083333333333336\n"
     ]
    }
   ],
   "source": [
    "# Ensemble methods - Voting classifier\n",
    "from sklearn.ensemble import VotingClassifier\n",
    "\n",
    "names = [\"K Nearest Neighbors\", \"Decision Tree\", \"Random Forest\", \"Logistic Regression\", \"SGD Classifier\",\n",
    "         \"Naive Bayes\", \"SVM Linear\"]\n",
    "\n",
    "classifiers = [\n",
    "    KNeighborsClassifier(),\n",
    "    DecisionTreeClassifier(),\n",
    "    RandomForestClassifier(),\n",
    "    LogisticRegression(),\n",
    "    SGDClassifier(max_iter = 100),\n",
    "    MultinomialNB(),\n",
    "    SVC(kernel = 'linear')\n",
    "]\n",
    "\n",
    "models = list(zip(names, classifiers))\n",
    "\n",
    "nltk_ensemble = SklearnClassifier(VotingClassifier(estimators = models, voting = 'hard', n_jobs = -1))\n",
    "nltk_ensemble.train(training)\n",
    "accuracy = nltk.classify.accuracy(nltk_model, testing)*100\n",
    "print(\"Voting Classifier: Accuracy: {}\".format(accuracy))"
   ]
  },
  {
   "cell_type": "code",
   "execution_count": 79,
   "id": "2063df02",
   "metadata": {},
   "outputs": [
    {
     "name": "stdout",
     "output_type": "stream",
     "text": [
      "              precision    recall  f1-score   support\n",
      "\n",
      "           0       0.70      0.70      0.70        23\n",
      "           1       0.39      0.70      0.50        10\n",
      "           2       0.71      0.33      0.45        15\n",
      "\n",
      "    accuracy                           0.58        48\n",
      "   macro avg       0.60      0.58      0.55        48\n",
      "weighted avg       0.64      0.58      0.58        48\n",
      "\n"
     ]
    },
    {
     "data": {
      "text/html": [
       "<div>\n",
       "<style scoped>\n",
       "    .dataframe tbody tr th:only-of-type {\n",
       "        vertical-align: middle;\n",
       "    }\n",
       "\n",
       "    .dataframe tbody tr th {\n",
       "        vertical-align: top;\n",
       "    }\n",
       "\n",
       "    .dataframe thead tr th {\n",
       "        text-align: left;\n",
       "    }\n",
       "</style>\n",
       "<table border=\"1\" class=\"dataframe\">\n",
       "  <thead>\n",
       "    <tr>\n",
       "      <th></th>\n",
       "      <th></th>\n",
       "      <th colspan=\"3\" halign=\"left\">predicted</th>\n",
       "    </tr>\n",
       "    <tr>\n",
       "      <th></th>\n",
       "      <th></th>\n",
       "      <th>neutral</th>\n",
       "      <th>positive</th>\n",
       "      <th>negative</th>\n",
       "    </tr>\n",
       "  </thead>\n",
       "  <tbody>\n",
       "    <tr>\n",
       "      <th rowspan=\"3\" valign=\"top\">actual</th>\n",
       "      <th>neutral</th>\n",
       "      <td>16</td>\n",
       "      <td>5</td>\n",
       "      <td>2</td>\n",
       "    </tr>\n",
       "    <tr>\n",
       "      <th>positive</th>\n",
       "      <td>3</td>\n",
       "      <td>7</td>\n",
       "      <td>0</td>\n",
       "    </tr>\n",
       "    <tr>\n",
       "      <th>negative</th>\n",
       "      <td>4</td>\n",
       "      <td>6</td>\n",
       "      <td>5</td>\n",
       "    </tr>\n",
       "  </tbody>\n",
       "</table>\n",
       "</div>"
      ],
      "text/plain": [
       "                predicted                  \n",
       "                  neutral positive negative\n",
       "actual neutral         16        5        2\n",
       "       positive         3        7        0\n",
       "       negative         4        6        5"
      ]
     },
     "execution_count": 79,
     "metadata": {},
     "output_type": "execute_result"
    }
   ],
   "source": [
    "# make class label prediction for testing set\n",
    "txt_features, labels = zip(*testing)\n",
    "\n",
    "prediction = nltk_ensemble.classify_many(txt_features)\n",
    "\n",
    "# print a confusion matrix and a classification report\n",
    "print(classification_report(labels, prediction))\n",
    "\n",
    "pd.DataFrame(\n",
    "    confusion_matrix(labels, prediction),\n",
    "    index = [['actual', 'actual', 'actual'], ['neutral', 'positive', 'negative']],\n",
    "    columns = [['predicted', 'predicted', 'predicted'], ['neutral', 'positive', 'negative']])"
   ]
  },
  {
   "cell_type": "code",
   "execution_count": 80,
   "id": "ac729338",
   "metadata": {},
   "outputs": [],
   "source": [
    "# save the model to disk\n",
    "filename = './models/model_votingClassifier_with_brands.sav'\n",
    "pickle.dump(nltk_ensemble, open(filename, 'wb'))"
   ]
  },
  {
   "cell_type": "code",
   "execution_count": null,
   "id": "102dec50",
   "metadata": {},
   "outputs": [],
   "source": []
  }
 ],
 "metadata": {
  "kernelspec": {
   "display_name": "venv",
   "language": "python",
   "name": "venv"
  },
  "language_info": {
   "codemirror_mode": {
    "name": "ipython",
    "version": 3
   },
   "file_extension": ".py",
   "mimetype": "text/x-python",
   "name": "python",
   "nbconvert_exporter": "python",
   "pygments_lexer": "ipython3",
   "version": "3.8.8"
  }
 },
 "nbformat": 4,
 "nbformat_minor": 5
}
