{
 "cells": [
  {
   "cell_type": "code",
   "execution_count": 1,
   "id": "644aaf71",
   "metadata": {},
   "outputs": [
    {
     "name": "stderr",
     "output_type": "stream",
     "text": [
      "[nltk_data] Downloading package punkt to\n",
      "[nltk_data]     C:\\Users\\aligo\\AppData\\Roaming\\nltk_data...\n",
      "[nltk_data]   Package punkt is already up-to-date!\n",
      "[nltk_data] Downloading package wordnet to\n",
      "[nltk_data]     C:\\Users\\aligo\\AppData\\Roaming\\nltk_data...\n",
      "[nltk_data]   Package wordnet is already up-to-date!\n"
     ]
    }
   ],
   "source": [
    "import pickle\n",
    "import pandas as pd\n",
    "import re\n",
    "import nltk\n",
    "from nltk.corpus import stopwords\n",
    "import numpy as np\n",
    "\n",
    "nltk.download('punkt')\n",
    "nltk.download('wordnet')\n",
    "from nltk.tokenize import word_tokenize\n",
    "\n",
    "import json\n",
    "import csv"
   ]
  },
  {
   "cell_type": "code",
   "execution_count": 4,
   "id": "af47927c",
   "metadata": {},
   "outputs": [
    {
     "data": {
      "text/html": [
       "<div>\n",
       "<style scoped>\n",
       "    .dataframe tbody tr th:only-of-type {\n",
       "        vertical-align: middle;\n",
       "    }\n",
       "\n",
       "    .dataframe tbody tr th {\n",
       "        vertical-align: top;\n",
       "    }\n",
       "\n",
       "    .dataframe thead th {\n",
       "        text-align: right;\n",
       "    }\n",
       "</style>\n",
       "<table border=\"1\" class=\"dataframe\">\n",
       "  <thead>\n",
       "    <tr style=\"text-align: right;\">\n",
       "      <th></th>\n",
       "      <th>message</th>\n",
       "      <th>id</th>\n",
       "      <th>tweetId</th>\n",
       "      <th>createdAt</th>\n",
       "      <th>language</th>\n",
       "      <th>inReplyToStatusId</th>\n",
       "      <th>inReplyToUserId</th>\n",
       "      <th>inReplyToScreenName</th>\n",
       "      <th>userId</th>\n",
       "      <th>userName</th>\n",
       "      <th>...</th>\n",
       "      <th>placeType</th>\n",
       "      <th>retweetedId</th>\n",
       "      <th>monitoringObjectId1</th>\n",
       "      <th>monitoringObjectId2</th>\n",
       "      <th>queryId</th>\n",
       "      <th>sentiment</th>\n",
       "      <th>retweetCount</th>\n",
       "      <th>label</th>\n",
       "      <th>clean_message</th>\n",
       "      <th>message_no_stopwords</th>\n",
       "    </tr>\n",
       "  </thead>\n",
       "  <tbody>\n",
       "    <tr>\n",
       "      <th>0</th>\n",
       "      <td>Tiek vērtēti trīs potenciālie airBaltic invest...</td>\n",
       "      <td>1478404</td>\n",
       "      <td>925617390523732000</td>\n",
       "      <td>2017-11-01T08:55:57</td>\n",
       "      <td>lv</td>\n",
       "      <td>NaN</td>\n",
       "      <td>NaN</td>\n",
       "      <td>NaN</td>\n",
       "      <td>24855060</td>\n",
       "      <td>Dienas Bizness</td>\n",
       "      <td>...</td>\n",
       "      <td>NaN</td>\n",
       "      <td>NaN</td>\n",
       "      <td>389</td>\n",
       "      <td>389</td>\n",
       "      <td>NaN</td>\n",
       "      <td>0.0</td>\n",
       "      <td>0</td>\n",
       "      <td>0</td>\n",
       "      <td>tiek vērtēti trīs potenciālie airbaltic invest...</td>\n",
       "      <td>vērtēti trīs potenciālie airbaltic investori U...</td>\n",
       "    </tr>\n",
       "    <tr>\n",
       "      <th>1</th>\n",
       "      <td>Vakardien, vēlu vakarā, ar svinīgu pasākumu ti...</td>\n",
       "      <td>1486476</td>\n",
       "      <td>924948828318511100</td>\n",
       "      <td>2017-10-30T12:39:20</td>\n",
       "      <td>lv</td>\n",
       "      <td>NaN</td>\n",
       "      <td>NaN</td>\n",
       "      <td>NaN</td>\n",
       "      <td>44849531</td>\n",
       "      <td>RIGA I Airport</td>\n",
       "      <td>...</td>\n",
       "      <td>NaN</td>\n",
       "      <td>NaN</td>\n",
       "      <td>703</td>\n",
       "      <td>703</td>\n",
       "      <td>NaN</td>\n",
       "      <td>-1.0</td>\n",
       "      <td>0</td>\n",
       "      <td>0</td>\n",
       "      <td>vakardien vēlu vakarā ar svinīgu pasākumu tika...</td>\n",
       "      <td>vakardien vēlu vakarā svinīgu pasākumu atklāts...</td>\n",
       "    </tr>\n",
       "    <tr>\n",
       "      <th>2</th>\n",
       "      <td>Es ļoti ceru,ka potenciālie Air Baltic investo...</td>\n",
       "      <td>1488297</td>\n",
       "      <td>925794560420311000</td>\n",
       "      <td>2017-11-01T20:39:58</td>\n",
       "      <td>lv</td>\n",
       "      <td>NaN</td>\n",
       "      <td>NaN</td>\n",
       "      <td>NaN</td>\n",
       "      <td>218804015</td>\n",
       "      <td>Artis Pabriks</td>\n",
       "      <td>...</td>\n",
       "      <td>NaN</td>\n",
       "      <td>NaN</td>\n",
       "      <td>576</td>\n",
       "      <td>3</td>\n",
       "      <td>NaN</td>\n",
       "      <td>-1.0</td>\n",
       "      <td>9</td>\n",
       "      <td>2</td>\n",
       "      <td>es ļoti ceru ka potenciālie air baltic investo...</td>\n",
       "      <td>es ļoti ceru potenciālie air baltic investori ...</td>\n",
       "    </tr>\n",
       "    <tr>\n",
       "      <th>3</th>\n",
       "      <td>Ar kritisko domāšanu gan joprojām bēdīgi. Piln...</td>\n",
       "      <td>1489818</td>\n",
       "      <td>925045141018218500</td>\n",
       "      <td>2017-10-30T19:02:02</td>\n",
       "      <td>lv</td>\n",
       "      <td>NaN</td>\n",
       "      <td>NaN</td>\n",
       "      <td>NaN</td>\n",
       "      <td>21071644</td>\n",
       "      <td>Andris Rubīns</td>\n",
       "      <td>...</td>\n",
       "      <td>NaN</td>\n",
       "      <td>NaN</td>\n",
       "      <td>319</td>\n",
       "      <td>319</td>\n",
       "      <td>NaN</td>\n",
       "      <td>-1.0</td>\n",
       "      <td>3</td>\n",
       "      <td>2</td>\n",
       "      <td>ar kritisko domāšanu gan joprojām bēdīgi pilns...</td>\n",
       "      <td>kritisko domāšanu joprojām bēdīgi pilns facebo...</td>\n",
       "    </tr>\n",
       "    <tr>\n",
       "      <th>4</th>\n",
       "      <td>Latvijas lidsabiedrība airBaltic sadarbībā ar ...</td>\n",
       "      <td>1490250</td>\n",
       "      <td>925006964135952400</td>\n",
       "      <td>2017-10-30T16:30:20</td>\n",
       "      <td>lv</td>\n",
       "      <td>NaN</td>\n",
       "      <td>NaN</td>\n",
       "      <td>NaN</td>\n",
       "      <td>131562098</td>\n",
       "      <td>Latviesi.com</td>\n",
       "      <td>...</td>\n",
       "      <td>NaN</td>\n",
       "      <td>NaN</td>\n",
       "      <td>453</td>\n",
       "      <td>453</td>\n",
       "      <td>NaN</td>\n",
       "      <td>0.0</td>\n",
       "      <td>0</td>\n",
       "      <td>0</td>\n",
       "      <td>latvijas lidsabiedrība airbaltic sadarbībā ar ...</td>\n",
       "      <td>latvijas lidsabiedrība airbaltic sadarbībā apv...</td>\n",
       "    </tr>\n",
       "  </tbody>\n",
       "</table>\n",
       "<p>5 rows × 24 columns</p>\n",
       "</div>"
      ],
      "text/plain": [
       "                                             message       id  \\\n",
       "0  Tiek vērtēti trīs potenciālie airBaltic invest...  1478404   \n",
       "1  Vakardien, vēlu vakarā, ar svinīgu pasākumu ti...  1486476   \n",
       "2  Es ļoti ceru,ka potenciālie Air Baltic investo...  1488297   \n",
       "3  Ar kritisko domāšanu gan joprojām bēdīgi. Piln...  1489818   \n",
       "4  Latvijas lidsabiedrība airBaltic sadarbībā ar ...  1490250   \n",
       "\n",
       "              tweetId            createdAt language  inReplyToStatusId  \\\n",
       "0  925617390523732000  2017-11-01T08:55:57       lv                NaN   \n",
       "1  924948828318511100  2017-10-30T12:39:20       lv                NaN   \n",
       "2  925794560420311000  2017-11-01T20:39:58       lv                NaN   \n",
       "3  925045141018218500  2017-10-30T19:02:02       lv                NaN   \n",
       "4  925006964135952400  2017-10-30T16:30:20       lv                NaN   \n",
       "\n",
       "   inReplyToUserId  inReplyToScreenName     userId        userName  ...  \\\n",
       "0              NaN                  NaN   24855060  Dienas Bizness  ...   \n",
       "1              NaN                  NaN   44849531  RIGA I Airport  ...   \n",
       "2              NaN                  NaN  218804015   Artis Pabriks  ...   \n",
       "3              NaN                  NaN   21071644   Andris Rubīns  ...   \n",
       "4              NaN                  NaN  131562098    Latviesi.com  ...   \n",
       "\n",
       "  placeType  retweetedId monitoringObjectId1 monitoringObjectId2 queryId  \\\n",
       "0       NaN          NaN                 389                 389     NaN   \n",
       "1       NaN          NaN                 703                 703     NaN   \n",
       "2       NaN          NaN                 576                   3     NaN   \n",
       "3       NaN          NaN                 319                 319     NaN   \n",
       "4       NaN          NaN                 453                 453     NaN   \n",
       "\n",
       "   sentiment  retweetCount  label  \\\n",
       "0        0.0             0      0   \n",
       "1       -1.0             0      0   \n",
       "2       -1.0             9      2   \n",
       "3       -1.0             3      2   \n",
       "4        0.0             0      0   \n",
       "\n",
       "                                       clean_message  \\\n",
       "0  tiek vērtēti trīs potenciālie airbaltic invest...   \n",
       "1  vakardien vēlu vakarā ar svinīgu pasākumu tika...   \n",
       "2  es ļoti ceru ka potenciālie air baltic investo...   \n",
       "3  ar kritisko domāšanu gan joprojām bēdīgi pilns...   \n",
       "4  latvijas lidsabiedrība airbaltic sadarbībā ar ...   \n",
       "\n",
       "                                message_no_stopwords  \n",
       "0  vērtēti trīs potenciālie airbaltic investori U...  \n",
       "1  vakardien vēlu vakarā svinīgu pasākumu atklāts...  \n",
       "2  es ļoti ceru potenciālie air baltic investori ...  \n",
       "3  kritisko domāšanu joprojām bēdīgi pilns facebo...  \n",
       "4  latvijas lidsabiedrība airbaltic sadarbībā apv...  \n",
       "\n",
       "[5 rows x 24 columns]"
      ]
     },
     "execution_count": 4,
     "metadata": {},
     "output_type": "execute_result"
    }
   ],
   "source": [
    "allLabeledTweets = pd.read_csv('../jupyter/tweets/raw/allLabeledTweets.csv')\n",
    "allLabeledTweets['label'] = allLabeledTweets['label'].astype(int)\n",
    "allLabeledTweets['message'] = allLabeledTweets['message'].astype(str)\n",
    "allLabeledTweets.head()"
   ]
  },
  {
   "cell_type": "code",
   "execution_count": 5,
   "id": "baae3e58",
   "metadata": {},
   "outputs": [
    {
     "data": {
      "text/plain": [
       "0    253\n",
       "2    136\n",
       "1     87\n",
       "Name: label, dtype: int64"
      ]
     },
     "execution_count": 5,
     "metadata": {},
     "output_type": "execute_result"
    }
   ],
   "source": [
    "allLabeledTweets['label'].value_counts()"
   ]
  },
  {
   "cell_type": "code",
   "execution_count": 14,
   "id": "f64c6ed6",
   "metadata": {},
   "outputs": [],
   "source": [
    "allLabeledTweets.drop('monitoringObjectId1', inplace=True, axis=1)\n",
    "allLabeledTweets.drop('monitoringObjectId2', inplace=True, axis=1)\n",
    "allLabeledTweets.drop('queryId', inplace=True, axis=1)\n",
    "allLabeledTweets.drop('sentiment', inplace=True, axis=1)\n",
    "allLabeledTweets.drop('clean_message', inplace=True, axis=1)\n",
    "allLabeledTweets.drop('message_no_stopwords', inplace=True, axis=1)"
   ]
  },
  {
   "cell_type": "markdown",
   "id": "c28589b1",
   "metadata": {},
   "source": [
    "### Hashtags"
   ]
  },
  {
   "cell_type": "code",
   "execution_count": 7,
   "id": "d5305adb",
   "metadata": {},
   "outputs": [
    {
     "name": "stdout",
     "output_type": "stream",
     "text": [
      "{'#wtf', '#seb', '#dienasbizness', '#optibetvirsliga', '#swedbank', '#aset', '#veikalsdepo', '#bismartlv', '#ecb', '#bicg', '#manslmt', '#dodpieci', '#fintech', '#latvija', '#dus', '#nra', '#lmtstraume', '#rekonstrukcija', '#akropole', '#zekurbulis', '#continental', '#kaija', '#lmt', '#kartelis', '#gaismalatvijai', '#liepaja', '#huawei', '#dblv', '#futbols', '#socentlv', '#namejagredzens', '#oik', '#lauvassirds', '#latvenergo', '#diena', '#melot', '#lmtsmartfuture', '#akropolisgroup', '#olimpiadelv', '#teamlatvia', '#lieldraugs', '#lvpatriots', '#maxima', '#sportovisaklase', '#politika', '#optibet', '#mangali', '#lhf', '#vakance', '#unlockai', '#drogas', '#lielfans', '#valoda', '#rigvsjel', '#shocking', '#lietuvosenergija', '#tetaprojekts', '#labsserviss', '#circlek', '#airbaltic', '#db', '#zeltakivere', '#bite', '#z', '#dpd', '#teirdarbs', '#profesionalaiskretinisms', '#depo'}\n"
     ]
    }
   ],
   "source": [
    "def flatten(t):\n",
    "    return [item for sublist in t for item in sublist]\n",
    "\n",
    "popularHashtags = []\n",
    "\n",
    "for index, row in allLabeledTweets.iterrows():\n",
    "    m = row['message'].lower()\n",
    "    popularHashtags.append(re.findall(r'\\B(\\#[a-zA-Z]+\\b)(?!;)', m))\n",
    "    \n",
    "print(set(flatten(popularHashtags)))"
   ]
  },
  {
   "cell_type": "markdown",
   "id": "8114d335",
   "metadata": {},
   "source": [
    "### Lowercase"
   ]
  },
  {
   "cell_type": "code",
   "execution_count": 15,
   "id": "0560d5b3",
   "metadata": {},
   "outputs": [
    {
     "data": {
      "text/html": [
       "<div>\n",
       "<style scoped>\n",
       "    .dataframe tbody tr th:only-of-type {\n",
       "        vertical-align: middle;\n",
       "    }\n",
       "\n",
       "    .dataframe tbody tr th {\n",
       "        vertical-align: top;\n",
       "    }\n",
       "\n",
       "    .dataframe thead th {\n",
       "        text-align: right;\n",
       "    }\n",
       "</style>\n",
       "<table border=\"1\" class=\"dataframe\">\n",
       "  <thead>\n",
       "    <tr style=\"text-align: right;\">\n",
       "      <th></th>\n",
       "      <th>message</th>\n",
       "      <th>id</th>\n",
       "      <th>tweetId</th>\n",
       "      <th>createdAt</th>\n",
       "      <th>language</th>\n",
       "      <th>inReplyToStatusId</th>\n",
       "      <th>inReplyToUserId</th>\n",
       "      <th>inReplyToScreenName</th>\n",
       "      <th>userId</th>\n",
       "      <th>userName</th>\n",
       "      <th>userScreenName</th>\n",
       "      <th>countryCode</th>\n",
       "      <th>placeName</th>\n",
       "      <th>placeFullName</th>\n",
       "      <th>placeType</th>\n",
       "      <th>retweetedId</th>\n",
       "      <th>retweetCount</th>\n",
       "      <th>label</th>\n",
       "      <th>message_lowercase</th>\n",
       "    </tr>\n",
       "  </thead>\n",
       "  <tbody>\n",
       "    <tr>\n",
       "      <th>0</th>\n",
       "      <td>Tiek vērtēti trīs potenciālie airBaltic invest...</td>\n",
       "      <td>1478404</td>\n",
       "      <td>925617390523732000</td>\n",
       "      <td>2017-11-01T08:55:57</td>\n",
       "      <td>lv</td>\n",
       "      <td>NaN</td>\n",
       "      <td>NaN</td>\n",
       "      <td>NaN</td>\n",
       "      <td>24855060</td>\n",
       "      <td>Dienas Bizness</td>\n",
       "      <td>dblv</td>\n",
       "      <td>NaN</td>\n",
       "      <td>NaN</td>\n",
       "      <td>NaN</td>\n",
       "      <td>NaN</td>\n",
       "      <td>NaN</td>\n",
       "      <td>0</td>\n",
       "      <td>0</td>\n",
       "      <td>tiek vērtēti trīs potenciālie airbaltic invest...</td>\n",
       "    </tr>\n",
       "    <tr>\n",
       "      <th>1</th>\n",
       "      <td>Vakardien, vēlu vakarā, ar svinīgu pasākumu ti...</td>\n",
       "      <td>1486476</td>\n",
       "      <td>924948828318511100</td>\n",
       "      <td>2017-10-30T12:39:20</td>\n",
       "      <td>lv</td>\n",
       "      <td>NaN</td>\n",
       "      <td>NaN</td>\n",
       "      <td>NaN</td>\n",
       "      <td>44849531</td>\n",
       "      <td>RIGA I Airport</td>\n",
       "      <td>riga_airport</td>\n",
       "      <td>NaN</td>\n",
       "      <td>NaN</td>\n",
       "      <td>NaN</td>\n",
       "      <td>NaN</td>\n",
       "      <td>NaN</td>\n",
       "      <td>0</td>\n",
       "      <td>0</td>\n",
       "      <td>vakardien, vēlu vakarā, ar svinīgu pasākumu ti...</td>\n",
       "    </tr>\n",
       "    <tr>\n",
       "      <th>2</th>\n",
       "      <td>Es ļoti ceru,ka potenciālie Air Baltic investo...</td>\n",
       "      <td>1488297</td>\n",
       "      <td>925794560420311000</td>\n",
       "      <td>2017-11-01T20:39:58</td>\n",
       "      <td>lv</td>\n",
       "      <td>NaN</td>\n",
       "      <td>NaN</td>\n",
       "      <td>NaN</td>\n",
       "      <td>218804015</td>\n",
       "      <td>Artis Pabriks</td>\n",
       "      <td>Pabriks</td>\n",
       "      <td>NaN</td>\n",
       "      <td>NaN</td>\n",
       "      <td>NaN</td>\n",
       "      <td>NaN</td>\n",
       "      <td>NaN</td>\n",
       "      <td>9</td>\n",
       "      <td>2</td>\n",
       "      <td>es ļoti ceru,ka potenciālie air baltic investo...</td>\n",
       "    </tr>\n",
       "    <tr>\n",
       "      <th>3</th>\n",
       "      <td>Ar kritisko domāšanu gan joprojām bēdīgi. Piln...</td>\n",
       "      <td>1489818</td>\n",
       "      <td>925045141018218500</td>\n",
       "      <td>2017-10-30T19:02:02</td>\n",
       "      <td>lv</td>\n",
       "      <td>NaN</td>\n",
       "      <td>NaN</td>\n",
       "      <td>NaN</td>\n",
       "      <td>21071644</td>\n",
       "      <td>Andris Rubīns</td>\n",
       "      <td>Rubins</td>\n",
       "      <td>NaN</td>\n",
       "      <td>NaN</td>\n",
       "      <td>NaN</td>\n",
       "      <td>NaN</td>\n",
       "      <td>NaN</td>\n",
       "      <td>3</td>\n",
       "      <td>2</td>\n",
       "      <td>ar kritisko domāšanu gan joprojām bēdīgi. piln...</td>\n",
       "    </tr>\n",
       "    <tr>\n",
       "      <th>4</th>\n",
       "      <td>Latvijas lidsabiedrība airBaltic sadarbībā ar ...</td>\n",
       "      <td>1490250</td>\n",
       "      <td>925006964135952400</td>\n",
       "      <td>2017-10-30T16:30:20</td>\n",
       "      <td>lv</td>\n",
       "      <td>NaN</td>\n",
       "      <td>NaN</td>\n",
       "      <td>NaN</td>\n",
       "      <td>131562098</td>\n",
       "      <td>Latviesi.com</td>\n",
       "      <td>latviesicom</td>\n",
       "      <td>NaN</td>\n",
       "      <td>NaN</td>\n",
       "      <td>NaN</td>\n",
       "      <td>NaN</td>\n",
       "      <td>NaN</td>\n",
       "      <td>0</td>\n",
       "      <td>0</td>\n",
       "      <td>latvijas lidsabiedrība airbaltic sadarbībā ar ...</td>\n",
       "    </tr>\n",
       "  </tbody>\n",
       "</table>\n",
       "</div>"
      ],
      "text/plain": [
       "                                             message       id  \\\n",
       "0  Tiek vērtēti trīs potenciālie airBaltic invest...  1478404   \n",
       "1  Vakardien, vēlu vakarā, ar svinīgu pasākumu ti...  1486476   \n",
       "2  Es ļoti ceru,ka potenciālie Air Baltic investo...  1488297   \n",
       "3  Ar kritisko domāšanu gan joprojām bēdīgi. Piln...  1489818   \n",
       "4  Latvijas lidsabiedrība airBaltic sadarbībā ar ...  1490250   \n",
       "\n",
       "              tweetId            createdAt language  inReplyToStatusId  \\\n",
       "0  925617390523732000  2017-11-01T08:55:57       lv                NaN   \n",
       "1  924948828318511100  2017-10-30T12:39:20       lv                NaN   \n",
       "2  925794560420311000  2017-11-01T20:39:58       lv                NaN   \n",
       "3  925045141018218500  2017-10-30T19:02:02       lv                NaN   \n",
       "4  925006964135952400  2017-10-30T16:30:20       lv                NaN   \n",
       "\n",
       "   inReplyToUserId  inReplyToScreenName     userId        userName  \\\n",
       "0              NaN                  NaN   24855060  Dienas Bizness   \n",
       "1              NaN                  NaN   44849531  RIGA I Airport   \n",
       "2              NaN                  NaN  218804015   Artis Pabriks   \n",
       "3              NaN                  NaN   21071644   Andris Rubīns   \n",
       "4              NaN                  NaN  131562098    Latviesi.com   \n",
       "\n",
       "  userScreenName  countryCode placeName placeFullName placeType  retweetedId  \\\n",
       "0           dblv          NaN       NaN           NaN       NaN          NaN   \n",
       "1   riga_airport          NaN       NaN           NaN       NaN          NaN   \n",
       "2        Pabriks          NaN       NaN           NaN       NaN          NaN   \n",
       "3         Rubins          NaN       NaN           NaN       NaN          NaN   \n",
       "4    latviesicom          NaN       NaN           NaN       NaN          NaN   \n",
       "\n",
       "   retweetCount  label                                  message_lowercase  \n",
       "0             0      0  tiek vērtēti trīs potenciālie airbaltic invest...  \n",
       "1             0      0  vakardien, vēlu vakarā, ar svinīgu pasākumu ti...  \n",
       "2             9      2  es ļoti ceru,ka potenciālie air baltic investo...  \n",
       "3             3      2  ar kritisko domāšanu gan joprojām bēdīgi. piln...  \n",
       "4             0      0  latvijas lidsabiedrība airbaltic sadarbībā ar ...  "
      ]
     },
     "execution_count": 15,
     "metadata": {},
     "output_type": "execute_result"
    }
   ],
   "source": [
    "allLabeledTweets['message_lowercase'] = allLabeledTweets['message'].str.lower()\n",
    "allLabeledTweets.head()"
   ]
  },
  {
   "cell_type": "code",
   "execution_count": 16,
   "id": "809aee85",
   "metadata": {},
   "outputs": [],
   "source": [
    "allLabeledTweets.to_csv('./tweets/allLabeledTweets.csv', index=False)"
   ]
  },
  {
   "cell_type": "markdown",
   "id": "4981cb36",
   "metadata": {},
   "source": [
    "### Clean with regular expressions (new line symbol, URLs, numbers, hashtags, mentions, multiple whitespaces)"
   ]
  },
  {
   "cell_type": "code",
   "execution_count": 22,
   "id": "b43a83d9",
   "metadata": {},
   "outputs": [],
   "source": [
    "newLine =\"\\\\n\"\n",
    "urls = '(https?:\\/\\/(?:www\\.|(?!www))[a-zA-Z0-9][a-zA-Z0-9-]+[a-zA-Z0-9]\\.[^\\s]{2,}|www\\.[a-zA-Z0-9][a-zA-Z0-9-]+[a-zA-Z0-9]\\.[^\\s]{2,}|https?:\\/\\/(?:www\\.|(?!www))[a-zA-Z0-9]+\\.[^\\s]{2,}|www\\.[a-zA-Z0-9]+\\.[^\\s]{2,})'\n",
    "numbers = '\\d+((\\.|\\-)\\d+)?'\n",
    "mentions = '\\B\\@([\\w\\-]+)'\n",
    "hashtag = '#'\n",
    "whitespaces = '\\s+'\n",
    "leadTrailWhitespace = '^\\s+|\\s+?$'\n",
    "\n",
    "allLabeledTweets['clean_message'] = allLabeledTweets['message_lowercase']\n",
    "allLabeledTweets['clean_message'] = allLabeledTweets['clean_message'].str.replace(newLine,' ',regex=True)\n",
    "allLabeledTweets['clean_message'] = allLabeledTweets['clean_message'].str.replace(urls,' URL ',regex=True)\n",
    "allLabeledTweets['clean_message'] = allLabeledTweets['clean_message'].str.replace(mentions,' MENTION ',regex=True)\n",
    "allLabeledTweets['clean_message'] = allLabeledTweets['clean_message'].str.replace(numbers,' NMBR ',regex=True)\n",
    "allLabeledTweets['clean_message'] = allLabeledTweets['clean_message'].str.replace(hashtag,' ',regex=True)\n",
    "allLabeledTweets['clean_message'] = allLabeledTweets['clean_message'].str.replace(whitespaces,' ',regex=True)\n",
    "allLabeledTweets['clean_message'] = allLabeledTweets['clean_message'].str.replace(leadTrailWhitespace,'',regex=True)"
   ]
  },
  {
   "cell_type": "code",
   "execution_count": 25,
   "id": "a1465aa8",
   "metadata": {},
   "outputs": [
    {
     "name": "stdout",
     "output_type": "stream",
     "text": [
      "Tiešraide jau pēc 15 minūtēm!\n",
      "\n",
      "HK Prizma - HK Zemgale/LU \n",
      "Optibet hokeja līga\n",
      "\n",
      "Skaties spēli šeit - https://t.co/RvtA1bPWF7 https://t.co/21nbpZtHd9\n",
      "tiešraide jau pēc NMBR minūtēm! hk prizma - hk zemgale/lu optibet hokeja līga skaties spēli šeit - URL URL\n",
      "['tiešraide', 'jau', 'pēc', 'NMBR', 'minūtēm', '!', 'hk', 'prizma', '-', 'hk', 'zemgale/lu', 'optibet', 'hokeja', 'līga', 'skaties', 'spēli', 'šeit', '-', 'URL', 'URL']\n"
     ]
    }
   ],
   "source": [
    "print(allLabeledTweets.loc[345]['message'])\n",
    "print(allLabeledTweets.loc[345]['clean_message'])\n",
    "print(word_tokenize(allLabeledTweets.loc[345]['clean_message']))"
   ]
  },
  {
   "cell_type": "code",
   "execution_count": 24,
   "id": "13df6f0f",
   "metadata": {},
   "outputs": [],
   "source": [
    "allLabeledTweets.to_csv('./tweets/allLabeledTweets.csv', index=False)"
   ]
  },
  {
   "cell_type": "markdown",
   "id": "88732e52",
   "metadata": {},
   "source": [
    "### No punctuation"
   ]
  },
  {
   "cell_type": "code",
   "execution_count": 26,
   "id": "dd06d1e3",
   "metadata": {},
   "outputs": [],
   "source": [
    "punctuationAfterWord = '(?<=\\s)|(?<=^)|(?<=\\b)(?:[-\\'.%$#&,\\/:!-?`“–&]\\b|\\b[-\\'.%$#&,\\/:!-?`“–&])+(?=\\s|$|\\b)'\n",
    "punctuation = '[(,|.|!|\\-|\\–|\\`|\\\\|\\/|?|:|“|”|►|;|\\'|%|&|@)]'\n",
    "smile = ':\\)|=\\)'\n",
    "frown = ':\\(|=\\('\n",
    "\n",
    "allLabeledTweets['clean_message_no_punct'] = allLabeledTweets['clean_message']\n",
    "allLabeledTweets['clean_message_no_punct'] = allLabeledTweets['clean_message_no_punct'].str.replace(smile,'SMILE',regex=True)\n",
    "allLabeledTweets['clean_message_no_punct'] = allLabeledTweets['clean_message_no_punct'].str.replace(frown,'FROWN',regex=True)\n",
    "allLabeledTweets['clean_message_no_punct'] = allLabeledTweets['clean_message_no_punct'].str.replace(punctuation,' ',regex=True)\n",
    "allLabeledTweets['clean_message_no_punct'] = allLabeledTweets['clean_message_no_punct'].str.replace(punctuationAfterWord,'',regex=True)"
   ]
  },
  {
   "cell_type": "code",
   "execution_count": 27,
   "id": "dd6879ef",
   "metadata": {},
   "outputs": [
    {
     "name": "stdout",
     "output_type": "stream",
     "text": [
      "tiešraide jau pēc NMBR minūtēm  hk prizma   hk zemgale lu optibet hokeja līga skaties spēli šeit   URL URL\n",
      "['tiešraide', 'jau', 'pēc', 'NMBR', 'minūtēm', 'hk', 'prizma', 'hk', 'zemgale', 'lu', 'optibet', 'hokeja', 'līga', 'skaties', 'spēli', 'šeit', 'URL', 'URL']\n"
     ]
    }
   ],
   "source": [
    "print(allLabeledTweets.loc[345]['clean_message_no_punct'])\n",
    "print(word_tokenize(allLabeledTweets.loc[345]['clean_message_no_punct']))"
   ]
  },
  {
   "cell_type": "code",
   "execution_count": 28,
   "id": "3f4b3cd7",
   "metadata": {},
   "outputs": [],
   "source": [
    "allLabeledTweets.to_csv('./tweets/allLabeledTweets.csv', index=False)"
   ]
  },
  {
   "cell_type": "markdown",
   "id": "40448cc0",
   "metadata": {},
   "source": [
    "### Stopwords"
   ]
  },
  {
   "cell_type": "markdown",
   "id": "d45ffafa",
   "metadata": {},
   "source": [
    "#### From list"
   ]
  },
  {
   "cell_type": "markdown",
   "id": "54cddb0b",
   "metadata": {},
   "source": [
    "##### With punctuation"
   ]
  },
  {
   "cell_type": "code",
   "execution_count": 30,
   "id": "ad34b9b9",
   "metadata": {},
   "outputs": [],
   "source": [
    "stopwords_lv = [\"ārpus\", \"šaipus\", \"aiz\", \"ap\", \"apakš\", \"apakšpus\", \"arī\", \"ar\", \"ar\", \"augšpus\", \"būšu\", \"būs\", \"būsi\", \"būsiet\", \"būsim\", \"būt\", \"bet\", \"bez\", \"bijām\", \"bijāt\", \"bija\", \"biji\", \"biju\", \"caur\", \"dēļ\", \"diemžēl\", \"diezin\", \"droši\", \"esam\", \"esat\", \"esi\", \"esmu\", \"gan\", \"gar\", \"iekām\", \"iekāms\", \"iekš\", \"iekšpus\", \"iekam\", \"iekams\", \"ik\", \"ir\", \"it\", \"itin\", \"iz\", \"jā\", \"ja\", \"jau\", \"jebšu\", \"jeb\", \"jel\", \"jo\", \"kā\", \"kļūšu\", \"kļūs\", \"kļūsi\", \"kļūsiet\", \"kļūsim\", \"kļūst\", \"kļūstam\tkļūstat\", \"kļūsti\", \"kļūstu\", \"kļūt\", \"kļuvām\", \"kļuvāt\", \"kļuva\", \"kļuvi\", \"kļuvu\", \"ka\", \"kamēr\", \"kaut\", \"kolīdz\", \"kopš\", \"līdz\", \"līdzko\", \"labad\", \"lai\", \"lejpus\", \"nē\", \"ne\", \"nebūt\", \"nedz\", \"nekā\", \"nevis\", \"nezin\", \"no\", \"nu\", \"otrpus\", \"pār\", \"pēc\", \"pa\", \"par\", \"pat\", \"pie\", \"pirms\", \"pret\", \"priekš\", \"starp\", \"tā\", \"tādēļ\", \"tālab\", \"tāpēc\", \"taču\", \"tad\", \"tak\", \"tapāt\", \"tapšu\", \"tapi\", \"taps\", \"tapsi\", \"tapsiet\", \"tapsim\", \"tapt\", \"te\", \"tiec\", \"tiek\", \"tiekam\", \"tiekat\", \"tieku\ttikām\", \"tikāt\", \"tikšu\", \"tik\", \"tika\", \"tikai\", \"tiki\", \"tikko\", \"tiklīdz\", \"tiklab\", \"tiks\", \"tiksiet\", \"tiksim\", \"tikt\", \"tiku\", \"tikvien\", \"tomēr\", \"topat\", \"turpretī\", \"turpretim\", \"un\", \"uz\", \"vai\", \"varēšu\", \"varējām\", \"varējāt\", \"varēja\", \"varēji\", \"varēju\", \"varēs\", \"varēsi\", \"varēsiet\", \"varēsim\", \"varēt\", \"var\", \"varat\", \"viņpus\", \"vien\", \"vien\", \"virs\", \"virspus\", \"vis\", \"zem\"]\n",
    "message_no_stopwords=[]\n",
    "\n",
    "for message in allLabeledTweets.clean_message:\n",
    "    text_tokens = word_tokenize(message)\n",
    "    tokens_without_stop_words = [word for word in text_tokens if not word in stopwords_lv]\n",
    "    message_no_stopwords.append((\" \").join(tokens_without_stop_words))\n",
    "\n",
    "allLabeledTweets['clean_message_no_stopwords_from_list'] = message_no_stopwords"
   ]
  },
  {
   "cell_type": "code",
   "execution_count": 31,
   "id": "1d4f9ba3",
   "metadata": {},
   "outputs": [
    {
     "name": "stdout",
     "output_type": "stream",
     "text": [
      "tiešraide NMBR minūtēm ! hk prizma - hk zemgale/lu optibet hokeja līga skaties spēli šeit - URL URL\n",
      "['tiešraide', 'NMBR', 'minūtēm', '!', 'hk', 'prizma', '-', 'hk', 'zemgale/lu', 'optibet', 'hokeja', 'līga', 'skaties', 'spēli', 'šeit', '-', 'URL', 'URL']\n"
     ]
    }
   ],
   "source": [
    "print(allLabeledTweets.loc[345]['clean_message_no_stopwords_from_list'])\n",
    "print(word_tokenize(allLabeledTweets.loc[345]['clean_message_no_stopwords_from_list']))"
   ]
  },
  {
   "cell_type": "code",
   "execution_count": 32,
   "id": "a445b740",
   "metadata": {},
   "outputs": [],
   "source": [
    "allLabeledTweets.to_csv('./tweets/allLabeledTweets.csv', index=False)"
   ]
  },
  {
   "cell_type": "markdown",
   "id": "a4d57d21",
   "metadata": {},
   "source": [
    "##### No punctuation"
   ]
  },
  {
   "cell_type": "code",
   "execution_count": 34,
   "id": "d9386aa7",
   "metadata": {},
   "outputs": [],
   "source": [
    "stopwords_lv = [\"ārpus\", \"šaipus\", \"aiz\", \"ap\", \"apakš\", \"apakšpus\", \"arī\", \"ar\", \"ar\", \"augšpus\", \"būšu\", \"būs\", \"būsi\", \"būsiet\", \"būsim\", \"būt\", \"bet\", \"bez\", \"bijām\", \"bijāt\", \"bija\", \"biji\", \"biju\", \"caur\", \"dēļ\", \"diemžēl\", \"diezin\", \"droši\", \"esam\", \"esat\", \"esi\", \"esmu\", \"gan\", \"gar\", \"iekām\", \"iekāms\", \"iekš\", \"iekšpus\", \"iekam\", \"iekams\", \"ik\", \"ir\", \"it\", \"itin\", \"iz\", \"jā\", \"ja\", \"jau\", \"jebšu\", \"jeb\", \"jel\", \"jo\", \"kā\", \"kļūšu\", \"kļūs\", \"kļūsi\", \"kļūsiet\", \"kļūsim\", \"kļūst\", \"kļūstam\tkļūstat\", \"kļūsti\", \"kļūstu\", \"kļūt\", \"kļuvām\", \"kļuvāt\", \"kļuva\", \"kļuvi\", \"kļuvu\", \"ka\", \"kamēr\", \"kaut\", \"kolīdz\", \"kopš\", \"līdz\", \"līdzko\", \"labad\", \"lai\", \"lejpus\", \"nē\", \"ne\", \"nebūt\", \"nedz\", \"nekā\", \"nevis\", \"nezin\", \"no\", \"nu\", \"otrpus\", \"pār\", \"pēc\", \"pa\", \"par\", \"pat\", \"pie\", \"pirms\", \"pret\", \"priekš\", \"starp\", \"tā\", \"tādēļ\", \"tālab\", \"tāpēc\", \"taču\", \"tad\", \"tak\", \"tapāt\", \"tapšu\", \"tapi\", \"taps\", \"tapsi\", \"tapsiet\", \"tapsim\", \"tapt\", \"te\", \"tiec\", \"tiek\", \"tiekam\", \"tiekat\", \"tieku\ttikām\", \"tikāt\", \"tikšu\", \"tik\", \"tika\", \"tikai\", \"tiki\", \"tikko\", \"tiklīdz\", \"tiklab\", \"tiks\", \"tiksiet\", \"tiksim\", \"tikt\", \"tiku\", \"tikvien\", \"tomēr\", \"topat\", \"turpretī\", \"turpretim\", \"un\", \"uz\", \"vai\", \"varēšu\", \"varējām\", \"varējāt\", \"varēja\", \"varēji\", \"varēju\", \"varēs\", \"varēsi\", \"varēsiet\", \"varēsim\", \"varēt\", \"var\", \"varat\", \"viņpus\", \"vien\", \"vien\", \"virs\", \"virspus\", \"vis\", \"zem\"]\n",
    "message_no_stopwords=[]\n",
    "\n",
    "for message in allLabeledTweets.clean_message_no_punct:\n",
    "    text_tokens = word_tokenize(message)\n",
    "    tokens_without_stop_words = [word for word in text_tokens if not word in stopwords_lv]\n",
    "    message_no_stopwords.append((\" \").join(tokens_without_stop_words))\n",
    "\n",
    "allLabeledTweets['clean_message_no_punct_no_stopwords_from_list'] = message_no_stopwords"
   ]
  },
  {
   "cell_type": "code",
   "execution_count": 35,
   "id": "7e4739e7",
   "metadata": {},
   "outputs": [
    {
     "name": "stdout",
     "output_type": "stream",
     "text": [
      "tiešraide NMBR minūtēm hk prizma hk zemgale lu optibet hokeja līga skaties spēli šeit URL URL\n",
      "['tiešraide', 'NMBR', 'minūtēm', 'hk', 'prizma', 'hk', 'zemgale', 'lu', 'optibet', 'hokeja', 'līga', 'skaties', 'spēli', 'šeit', 'URL', 'URL']\n"
     ]
    }
   ],
   "source": [
    "print(allLabeledTweets.loc[345]['clean_message_no_punct_no_stopwords_from_list'])\n",
    "print(word_tokenize(allLabeledTweets.loc[345]['clean_message_no_punct_no_stopwords_from_list']))"
   ]
  },
  {
   "cell_type": "code",
   "execution_count": 36,
   "id": "dff5886b",
   "metadata": {},
   "outputs": [],
   "source": [
    "allLabeledTweets.to_csv('./tweets/allLabeledTweets.csv', index=False)"
   ]
  },
  {
   "cell_type": "markdown",
   "id": "be708e8f",
   "metadata": {},
   "source": [
    "#### From most frequently used words excluding brand names"
   ]
  },
  {
   "cell_type": "code",
   "execution_count": 43,
   "id": "c911a55f",
   "metadata": {},
   "outputs": [],
   "source": [
    "brands = [\n",
    "  \"latvenergo\",\n",
    "  \"rimi\",\n",
    "  \"maxima\",\n",
    "  \"swedbank\",\n",
    "  \"lmt\",\n",
    "  \"tet\",\n",
    "  \"lg\",\n",
    "  \"tele2\",\n",
    "  \"airbaltic\",\n",
    "  \"olympic\",\n",
    "  \"seb\",\n",
    "  \"grindeks\",\n",
    "  \"citadele\",\n",
    "  \"bite\",\n",
    "  \"drogas\",\n",
    "  \"depo\",\n",
    "  \"circlek\",\n",
    "  \"lb\",\n",
    "  \"optibet\",\n",
    "  \"evolution\",\n",
    "];"
   ]
  },
  {
   "cell_type": "code",
   "execution_count": 62,
   "id": "50709bd9",
   "metadata": {},
   "outputs": [],
   "source": [
    "def getWordFrequency(processedTweetOutputFile):\n",
    "    tweets = pd.read_csv(processedTweetOutputFile)\n",
    "\n",
    "    allPostsConcat = ''\n",
    "    for tweet in tweets.clean_message_no_punct:\n",
    "        if(type(tweet)==str):\n",
    "            allPostsConcat+=' '+ tweet\n",
    "\n",
    "    # create bag-of-words\n",
    "    all_words = []\n",
    "\n",
    "    words = word_tokenize(allPostsConcat)\n",
    "    words = [word for word in words if not word in brands]\n",
    "    for word in words:\n",
    "        if word!='``' and word!=\"''\" and len(word) > 1:\n",
    "            all_words.append(word)\n",
    "\n",
    "    all_words = nltk.FreqDist(all_words)\n",
    "    \n",
    "    return all_words"
   ]
  },
  {
   "cell_type": "code",
   "execution_count": 63,
   "id": "fa32cfe4",
   "metadata": {},
   "outputs": [
    {
     "name": "stdout",
     "output_type": "stream",
     "text": [
      "Number of words: 3834\n",
      "Most common words: [('URL', 510), ('MENTION', 329), ('NMBR', 324), ('un', 191), ('ir', 118), ('ar', 117), ('par', 111), ('no', 80), ('ka', 73), ('uz', 50), ('jau', 49), ('vai', 48), ('arī', 43), ('kā', 42), ('kas', 41), ('vēl', 40), ('kopā', 40), ('latvijas', 39), ('pēc', 38), ('bet', 38), ('nav', 34), ('lieliskamūzika', 34), ('skaties', 31), ('to', 28), ('tā', 26), ('tiešraide', 26), ('lhf', 25), ('pie', 24), ('kopāspēks', 24), ('spēli', 24), ('ja', 23), ('es', 22), ('tas', 22), ('tad', 22), ('šeit', 22), ('būs', 20), ('the', 20), ('lielfans', 19), ('minūtēm', 19), ('lai', 18), ('tagad', 18), ('man', 17), ('šodien', 17), ('tikai', 16), ('hokeja', 16), ('ļoti', 15), ('rīgas', 15), ('mūsu', 15), ('oik', 15), ('līga', 15), ('kad', 14), ('eiro', 14), ('gada', 13), ('var', 13), ('ne', 12), ('izlase', 12), ('nekā', 12), ('gan', 11), ('pret', 11), ('vairāk', 11), ('dienasbizness', 11), ('ielā', 11), ('tv', 11), ('kur', 10), ('darbinieku', 10), ('latvija', 10), ('amp', 10), ('ko', 10), ('bija', 10), ('vietas', 9), ('līdz', 9), ('nu', 9), ('varētu', 9), ('jo', 9), ('kāpēc', 9), ('kāds', 9), ('valsts', 9), ('lauvassirds', 9), ('paldies', 9), ('rīgā', 9), ('telpu', 9), ('lv', 9), ('darbu', 9), ('jaunajā', 9), ('zālē', 9), ('virslīga', 9), ('nevar', 8), ('neko', 8), ('pa', 8), ('visu', 8), ('jums', 8), ('dblv', 8), ('bankas', 8), ('elektrības', 8), ('hk', 8), ('kāda', 7), ('interesanti', 7), ('eur', 7), ('SMILE', 7), ('iespējams', 7)]\n"
     ]
    }
   ],
   "source": [
    "freqWords = getWordFrequency('./tweets/allLabeledTweets.csv')\n",
    "\n",
    "# print the total number of words and the 100 most common words\n",
    "print('Number of words: {}'.format(len(freqWords)))\n",
    "print('Most common words: {}'.format(freqWords.most_common(100)))"
   ]
  },
  {
   "cell_type": "code",
   "execution_count": 66,
   "id": "4c6daa4f",
   "metadata": {},
   "outputs": [
    {
     "data": {
      "text/plain": [
       "44"
      ]
     },
     "execution_count": 66,
     "metadata": {},
     "output_type": "execute_result"
    }
   ],
   "source": [
    "stopwordsFromFreqList = ['un','ir','ar','par','no', 'ka', 'uz','jau','vai','arī','kā','kas','vēl', 'kopā','pēc', 'bet', 'to','tā','pie','ja','es', 'tas','tad','šeit', 'būs', 'the','lai','tagad','man','šodien','tikai', 'mūsu','kad','nekā','gan','kur','ko','bija','līdz','nu','jo','kāpēc','kāds','pa']\n",
    "len(stopwordsFromFreqList)"
   ]
  },
  {
   "cell_type": "markdown",
   "id": "6d67a978",
   "metadata": {},
   "source": [
    "##### With punctuation"
   ]
  },
  {
   "cell_type": "code",
   "execution_count": 71,
   "id": "2be3e3e3",
   "metadata": {},
   "outputs": [],
   "source": [
    "message_no_stopwords=[]\n",
    "\n",
    "for message in allLabeledTweets.clean_message:\n",
    "    text_tokens = word_tokenize(message)\n",
    "    tokens_without_stop_words = [word for word in text_tokens if not word in stopwordsFromFreqList]\n",
    "    message_no_stopwords.append((\" \").join(tokens_without_stop_words))\n",
    "\n",
    "allLabeledTweets['clean_message_no_freq_stopwords'] = message_no_stopwords"
   ]
  },
  {
   "cell_type": "code",
   "execution_count": 72,
   "id": "ed32d021",
   "metadata": {},
   "outputs": [
    {
     "name": "stdout",
     "output_type": "stream",
     "text": [
      "tiešraide NMBR minūtēm ! hk prizma - hk zemgale/lu optibet hokeja līga skaties spēli - URL URL\n",
      "['tiešraide', 'NMBR', 'minūtēm', '!', 'hk', 'prizma', '-', 'hk', 'zemgale/lu', 'optibet', 'hokeja', 'līga', 'skaties', 'spēli', '-', 'URL', 'URL']\n"
     ]
    }
   ],
   "source": [
    "print(allLabeledTweets.loc[345]['clean_message_no_freq_stopwords'])\n",
    "print(word_tokenize(allLabeledTweets.loc[345]['clean_message_no_freq_stopwords']))"
   ]
  },
  {
   "cell_type": "code",
   "execution_count": 73,
   "id": "81ea63be",
   "metadata": {},
   "outputs": [],
   "source": [
    "allLabeledTweets.to_csv('./tweets/allLabeledTweets.csv', index=False)"
   ]
  },
  {
   "cell_type": "markdown",
   "id": "80eac9f0",
   "metadata": {},
   "source": [
    "##### No punctuation"
   ]
  },
  {
   "cell_type": "code",
   "execution_count": 67,
   "id": "5825bac1",
   "metadata": {},
   "outputs": [],
   "source": [
    "message_no_stopwords=[]\n",
    "\n",
    "for message in allLabeledTweets.clean_message_no_punct:\n",
    "    text_tokens = word_tokenize(message)\n",
    "    tokens_without_stop_words = [word for word in text_tokens if not word in stopwordsFromFreqList]\n",
    "    message_no_stopwords.append((\" \").join(tokens_without_stop_words))\n",
    "\n",
    "allLabeledTweets['clean_message_no_punct_no_freq_stopwords'] = message_no_stopwords"
   ]
  },
  {
   "cell_type": "code",
   "execution_count": 68,
   "id": "cbe35363",
   "metadata": {},
   "outputs": [
    {
     "name": "stdout",
     "output_type": "stream",
     "text": [
      "tiešraide NMBR minūtēm hk prizma hk zemgale lu optibet hokeja līga skaties spēli URL URL\n",
      "['tiešraide', 'NMBR', 'minūtēm', 'hk', 'prizma', 'hk', 'zemgale', 'lu', 'optibet', 'hokeja', 'līga', 'skaties', 'spēli', 'URL', 'URL']\n"
     ]
    }
   ],
   "source": [
    "print(allLabeledTweets.loc[345]['clean_message_no_punct_no_freq_stopwords'])\n",
    "print(word_tokenize(allLabeledTweets.loc[345]['clean_message_no_punct_no_freq_stopwords']))"
   ]
  },
  {
   "cell_type": "code",
   "execution_count": 69,
   "id": "7075a18b",
   "metadata": {},
   "outputs": [],
   "source": [
    "allLabeledTweets.to_csv('./tweets/allLabeledTweets.csv', index=False)"
   ]
  },
  {
   "cell_type": "markdown",
   "id": "f7669227",
   "metadata": {},
   "source": []
  },
  {
   "cell_type": "code",
   "execution_count": null,
   "id": "5c0a59de",
   "metadata": {},
   "outputs": [],
   "source": []
  },
  {
   "cell_type": "code",
   "execution_count": null,
   "id": "9addd7df",
   "metadata": {},
   "outputs": [],
   "source": []
  }
 ],
 "metadata": {
  "kernelspec": {
   "display_name": "venv",
   "language": "python",
   "name": "venv"
  },
  "language_info": {
   "codemirror_mode": {
    "name": "ipython",
    "version": 3
   },
   "file_extension": ".py",
   "mimetype": "text/x-python",
   "name": "python",
   "nbconvert_exporter": "python",
   "pygments_lexer": "ipython3",
   "version": "3.8.8"
  }
 },
 "nbformat": 4,
 "nbformat_minor": 5
}
